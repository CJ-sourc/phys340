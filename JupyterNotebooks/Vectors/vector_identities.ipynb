{
 "cells": [
  {
   "cell_type": "markdown",
   "source": [
    "# Potentially useful vector identities\n",
    "\n",
    "We have seen how to calculate the scalar and vector products of two vectors. We can also calculate the scalar triple product and the vector triple product. These are defined as follows:\n",
    "\n",
    "$$\n",
    "\\begin{align}\n",
    "\\mathbf{a} \\cdot (\\mathbf{b} \\times \\mathbf{c}) &= \\mathbf{b} \\cdot (\\mathbf{c} \\times \\mathbf{a}) = \\mathbf{c} \\cdot (\\mathbf{a} \\times \\mathbf{b}) \\\\\n",
    "\\mathbf{a} \\times (\\mathbf{b} \\times \\mathbf{c}) &= \\mathbf{b}(\\mathbf{a} \\cdot \\mathbf{c}) - \\mathbf{c}(\\mathbf{a} \\cdot \\mathbf{b}) \\\\\n",
    "\\end{align}\n",
    "$$\n",
    "\n",
    "You will find many other useful vector identities in the table below."
   ],
   "metadata": {
    "collapsed": false
   },
   "id": "a6ef8312bc3946a4"
  },
  {
   "cell_type": "markdown",
   "source": [
    "[Wikipedia](https://en.wikipedia.org/wiki/Vector_algebra_relations)"
   ],
   "metadata": {
    "collapsed": false
   },
   "id": "3b57df1b9cb6754c"
  },
  {
   "cell_type": "code",
   "outputs": [],
   "source": [],
   "metadata": {
    "collapsed": false
   },
   "id": "9eee51e4d6a51e6d"
  }
 ],
 "metadata": {
  "kernelspec": {
   "display_name": "Python 3",
   "language": "python",
   "name": "python3"
  },
  "language_info": {
   "codemirror_mode": {
    "name": "ipython",
    "version": 2
   },
   "file_extension": ".py",
   "mimetype": "text/x-python",
   "name": "python",
   "nbconvert_exporter": "python",
   "pygments_lexer": "ipython2",
   "version": "2.7.6"
  }
 },
 "nbformat": 4,
 "nbformat_minor": 5
}
