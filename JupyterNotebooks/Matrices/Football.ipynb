{
 "cells": [
  {
   "cell_type": "markdown",
   "source": [
    "# Moment of Inertia of a Football\n",
    "\n",
    "The moment of inertia of a football can be calculated as follows:\n",
    "\n",
    "The football is a prolate spheroid with semi-axes $a$ and $c$.  For an American football, the semi-axes are $a = 11.5$ cm and $c = 19.0$ cm. The mass of the football is $m = 0.4$ kg, and the thickness of the leather is $t = 0.5$ cm.\n",
    "\n",
    "The moment of inertia of a uniform density SOLID prolate spheroid is given by\n",
    "\n",
    "$$I = \\frac{2}{5} m c^2 \\left(1 + \\frac{1}{2} \\left(\\frac{a}{c}\\right)^2 \\ln\\left(\\frac{1 + e}{1 - e}\\right)\\right)$$\n",
    "\n",
    "where $m$ is the mass of the football and $e = \\sqrt{1 - \\frac{a^2}{c^2}}$.  \n",
    "\n",
    "However, the football is not a solid prolate spheroid!\n",
    "\n",
    "## Calculation of the Moment of Inertia\n",
    "\n",
    "The moment of inertia of the football is calculated as follows:\n",
    "\n",
    "A prolate spheroid is an ellipse which is rotated about its major axis.  The length of the major axis is $2c$, and the length of the minor axis is $2a$.  Thus, the equation of the surface of the prolate spheroid is given by\n",
    "\n",
    "$$\\frac{x^2}{a^2} + \\frac{y^2}{a^2} + \\frac{z^2}{c^2} = 1$$\n",
    "\n",
    "In spherical coordinates, we have that:\n",
    "\n",
    "$$x = r \\sin\\theta \\cos\\phi$$\n",
    "$$y = r \\sin\\theta \\sin\\phi$$\n",
    "$$z = r \\cos\\theta$$\n",
    "\n",
    "Substituting these into the equation of the prolate spheroid, we have that:\n",
    "\n",
    "$$\\frac{r^2 \\sin^2\\theta \\cos^2\\phi}{a^2} + \\frac{r^2 \\sin^2\\theta \\sin^2\\phi}{a^2} + \\frac{r^2 \\cos^2\\theta}{c^2} = 1$$\n",
    "\n",
    "Simplifying, we have that:\n",
    "\n",
    "$$\\frac{r^2}{a^2} \\sin^2\\theta + \\frac{r^2}{c^2} \\cos^2\\theta = 1$$\n",
    "\n",
    "Solving for $r^2$, we have that:\n",
    "\n",
    "$$r^2 = \\frac{a^2 c^2}{c^2 \\sin^2\\theta + a^2 \\cos^2\\theta}$$\n",
    "\n",
    "$$r = \\frac{ac}{\\sqrt{c^2 \\sin^2\\theta + a^2 \\cos^2\\theta}$$\n",
    "\n",
    "Let's calculate the surface area of the prolate spheroid. \n",
    "\n",
    "The area of the prolate spheroid is given by\n",
    "\n",
    "$$A = 2\\pi \\int_0^\\pi r^2 \\sin\\theta d\\theta$$ \n",
    "\n",
    "Substituting in the expression for $r^2$, we have that\n",
    "\n",
    "$$A = 2\\pi \\int_0^\\pi \\frac{a^2 c^2}{c^2 \\sin^2\\theta + a^2 \\cos^2\\theta} \\sin\\theta d\\theta$$\n",
    "\n",
    "This integral is not easy to solve!  The result, using Mathematica, is:\n",
    "\n",
    "$$A = 2\\pi a^2 + \\frac{2 \\pi a c^2}{\\sqrt{c^2-a^2}} \\arcsin\\left(\\frac{\\sqrt{c^2-a^2}}{c}\\right)$$\n",
    "\n",
    "Using that $e = \\frac{\\sqrt{c^2-a^2}}{c}$, we have that\n",
    "\n",
    "$$A = 2\\pi a^2 + \\frac{2 \\pi a c}{e} \\arcsin\\left(e\\right)$$\n",
    "\n",
    "## Moment of Inertia\n",
    "\n",
    "We can calculate the diagonal elements of the moment of intertia tensor as follows:\n",
    "\n",
    "$$I_{xx} = \\int \\left(y^2 + z^2\\right) dm$$\n",
    "$$I_{yy} = \\int \\left(x^2 + z^2\\right) dm$$\n",
    "$$I_{zz} = \\int \\left(x^2 + y^2\\right) dm$$\n",
    "\n",
    "where $dm = \\rho dV$ is the mass element, and $\\rho$ is the density of the football.  The density of the football is given by\n",
    "\n",
    "$$\\rho = \\frac{m}{V}$$\n",
    "\n",
    "where $V$ is the volume of the football.  The volume of the football is given by\n",
    "\n",
    "$$V = A*t$$\n",
    "\n",
    "where $A$ is the surface area of the football and $t$ is the thickness of the leather.  Thus, the density is given by\n",
    "\n",
    "$$\\rho = \\frac{m}{A t}$$\n",
    "\n",
    "## Calculation of $I_{xx}$\n",
    "\n",
    "We can calculate the moment of inertia $I_{xx}$ as follows:\n",
    "\n",
    "$$I_{xx} = \\int \\int \\int \\left(y^2 + z^2\\right) dm$$\n",
    "\n",
    "Substituting in the expression for $dm$, we have that\n",
    "\n",
    "$$I_{xx} = t \\int \\int \\left(y^2 + z^2\\right) \\rho dA$$\n",
    "\n",
    "Switching to spherical coordinates, we have that\n",
    "\n",
    "$$I_{xx} = t \\int \\int \\left(r^2 \\sin^2\\theta \\sin^2\\phi + r^2 \\cos^2\\theta\\right) \\rho r^2 \\sin\\theta d\\theta d\\phi$$\n",
    "\n",
    "Substituting in the expression for $r^2$, we have that\n",
    "\n",
    "$$I_{xx} = t \\int \\int \\left(\\frac{a^2 c^2 \\sin^2\\theta \\sin^2\\phi}{c^2 \\sin^2\\theta + a^2 \\cos^2\\theta} + \\frac{a^2 c^2 \\cos^2\\theta}{c^2 \\sin^2\\theta + a^2 \\cos^2\\theta}\\right) \\rho \\frac{a^2 c^2}{c^2 \\sin^2\\theta + a^2 \\cos^2\\theta} \\sin\\theta d\\theta d\\phi$$\n",
    "\n",
    "Somehow, I feel like a numerical solution is going to be necessary!!!\n",
    "\n",
    "\n",
    "\n",
    "\n",
    "\n"
   ],
   "metadata": {
    "collapsed": false
   },
   "id": "7d8ee6fd7fc33b71"
  },
  {
   "cell_type": "code",
   "outputs": [
    {
     "name": "stdout",
     "output_type": "stream",
     "text": [
      "c (m) = 0.14128749999999998\n",
      "a (m) = 0.08539856358953374\n",
      "m (kg) = 0.41106775\n",
      "e = 0.7966573958970498\n",
      "A (m^2) = 0.13353760781172502\n",
      "V (m^3) = 0.0006676880390586251\n",
      "rho (kg/m^3) = 615.6584002606447\n"
     ]
    }
   ],
   "source": [
    "import numpy as np\n",
    "import matplotlib.pyplot as plt\n",
    "\n",
    "# Constants\n",
    "# From https://operations.nfl.com/media/4693/2020-nfl-rulebook.pdf\n",
    "# Length = 11.0 to 11.25 inches\n",
    "# Circumference = 28.0 to 28.5 inches long side\n",
    "# Circumference = 21.0 to 21.25 inches short side\n",
    "# Weight = 14.0 to 15.0 ounces\n",
    "\n",
    "c = 11.125/2.0*2.54e-2\n",
    "a = 21.125/(2.0*np.pi)*2.54e-2\n",
    "print('c (m) =', c)\n",
    "print('a (m) =', a)\n",
    "m = 14.5*0.0283495\n",
    "print('m (kg) =', m)\n",
    "t = 0.5e-2\n",
    "\n",
    "# testing - spherical shell\n",
    "#c = 1\n",
    "#a = 0.9999999*c\n",
    "#m = 1\n",
    "#t =0.0001\n",
    "\n",
    "# testing - thin rod\n",
    "#c = 1\n",
    "#a = 0.1*c\n",
    "#m = 1\n",
    "#t =0.001\n",
    "\n",
    "# Calculate e\n",
    "e = np.sqrt(1 - a**2/c**2)\n",
    "\n",
    "# Calculate the surface area\n",
    "A = 2*np.pi*a**2 + 2*np.pi*a*c/e*np.arcsin(e)\n",
    "\n",
    "# Calculate the volume\n",
    "V = A*t\n",
    "\n",
    "# Calculate the density\n",
    "rho = m/V\n",
    "\n",
    "print('e =', e)\n",
    "print('A (m^2) =', A)\n",
    "print('V (m^3) =', V)\n",
    "print('rho (kg/m^3) =', rho)"
   ],
   "metadata": {
    "collapsed": false,
    "ExecuteTime": {
     "end_time": "2024-01-31T15:29:17.983228Z",
     "start_time": "2024-01-31T15:29:17.576590Z"
    }
   },
   "id": "f1cb6a0631dfdb05",
   "execution_count": 1
  },
  {
   "cell_type": "code",
   "outputs": [
    {
     "name": "stdout",
     "output_type": "stream",
     "text": [
      "Ixx = 0.0032213205823612865\n"
     ]
    }
   ],
   "source": [
    "# Calculate the moment of inertia - Ixx\n",
    "\n",
    "# Number of points\n",
    "n = 1000\n",
    "\n",
    "# Calculate the integral\n",
    "Ixx = 0\n",
    "dtheta = np.pi/n\n",
    "dphi = 2*np.pi/n\n",
    "for i in range(n):\n",
    "    for j in range(n):\n",
    "            theta = np.pi*i/n\n",
    "            phi = 2*np.pi*j/n\n",
    "            r = c*a/np.sqrt(c**2*np.sin(theta)**2 + a**2*np.cos(theta)**2)\n",
    "            Ixx += t*(r**2*np.sin(theta)**2*np.sin(phi)**2 + r**2*np.cos(theta)**2)*rho*r**2*np.sin(theta)*dtheta*dphi\n",
    "            \n",
    "print('Ixx =', Ixx)"
   ],
   "metadata": {
    "collapsed": false,
    "ExecuteTime": {
     "end_time": "2024-01-31T15:29:20.998707Z",
     "start_time": "2024-01-31T15:29:18.038867Z"
    }
   },
   "id": "50afcfaac1e11f23",
   "execution_count": 2
  },
  {
   "cell_type": "code",
   "outputs": [
    {
     "name": "stdout",
     "output_type": "stream",
     "text": [
      "Iyy = 0.0032213205823612826\n"
     ]
    }
   ],
   "source": [
    "# Calculate the moment of inertia - Iyy\n",
    "\n",
    "# Calculate the integral\n",
    "Iyy = 0\n",
    "for i in range(n):\n",
    "    for j in range(n):\n",
    "            theta = np.pi*i/n\n",
    "            phi = 2*np.pi*j/n\n",
    "            r = c*a/np.sqrt(c**2*np.sin(theta)**2 + a**2*np.cos(theta)**2)\n",
    "            Iyy += t*(r**2*np.sin(theta)**2*np.cos(phi)**2 + r**2*np.cos(theta)**2)*rho*r**2*np.sin(theta)*dtheta*dphi\n",
    "            \n",
    "print('Iyy =', Iyy)"
   ],
   "metadata": {
    "collapsed": false,
    "ExecuteTime": {
     "end_time": "2024-01-31T15:29:24.039887Z",
     "start_time": "2024-01-31T15:29:21.052693Z"
    }
   },
   "id": "7b623e34328ba015",
   "execution_count": 3
  },
  {
   "cell_type": "code",
   "outputs": [
    {
     "name": "stdout",
     "output_type": "stream",
     "text": [
      "Izz = 0.002002316694263955\n"
     ]
    }
   ],
   "source": [
    "# Calculate the moment of inertia - Izz\n",
    "\n",
    "# Calculate the integral\n",
    "Izz = 0\n",
    "for i in range(n):\n",
    "    for j in range(n):\n",
    "            theta = np.pi*i/n\n",
    "            phi = 2*np.pi*j/n\n",
    "            r = c*a/np.sqrt(c**2*np.sin(theta)**2 + a**2*np.cos(theta)**2)\n",
    "            Izz += t*(r**2*np.sin(theta)**2*np.cos(phi)**2 + r**2*np.sin(theta)**2*np.sin(phi)**2)*rho*r**2*np.sin(theta)*dtheta*dphi\n",
    "          \n",
    "print('Izz =', Izz)"
   ],
   "metadata": {
    "collapsed": false,
    "ExecuteTime": {
     "end_time": "2024-01-31T15:29:27.404596Z",
     "start_time": "2024-01-31T15:29:24.105124Z"
    }
   },
   "id": "608310f535adb790",
   "execution_count": 4
  },
  {
   "cell_type": "code",
   "outputs": [
    {
     "name": "stdout",
     "output_type": "stream",
     "text": [
      "Ixy = 2.1728644983910302e-20\n"
     ]
    }
   ],
   "source": [
    "# Calculate the moment of inertia - Ixy\n",
    "\n",
    "# Calculate the integral\n",
    "Ixy = 0\n",
    "for i in range(n):\n",
    "    for j in range(n):\n",
    "            theta = np.pi*i/n\n",
    "            phi = 2*np.pi*j/n\n",
    "            r = c*a/np.sqrt(c**2*np.sin(theta)**2 + a**2*np.cos(theta)**2)\n",
    "            Ixy += t*(r**2*np.sin(theta)**2*np.sin(phi)*np.cos(phi) + r**2*np.cos(theta)**2*np.sin(phi)*np.cos(phi))*rho*r**2*np.sin(theta)*dtheta*dphi\n",
    "            \n",
    "print('Ixy =', Ixy)"
   ],
   "metadata": {
    "collapsed": false,
    "ExecuteTime": {
     "end_time": "2024-01-31T15:29:31.274328Z",
     "start_time": "2024-01-31T15:29:27.405207Z"
    }
   },
   "id": "8ca13844e174c336",
   "execution_count": 5
  },
  {
   "cell_type": "code",
   "outputs": [
    {
     "name": "stdout",
     "output_type": "stream",
     "text": [
      "I_numerical = [[0.00322132 0.         0.        ]\n",
      " [0.         0.00322132 0.        ]\n",
      " [0.         0.         0.00200232]]\n",
      "Ratio of I_zz/I_xx = 0.6215825600307748\n"
     ]
    }
   ],
   "source": [
    "# Calculate the moment of inertia from the original formula for solid prolate spheroid\n",
    "\n",
    "I = 2/5*m*c**2*(1 + 1/2*(a/c)**2*np.log((1 + e)/(1 - e)))\n",
    "\n",
    "#print('I =', I)\n",
    "\n",
    "I_numerical = np.array([[Ixx, 0, 0], [0, Iyy, 0], [0, 0, Izz]])\n",
    "\n",
    "print('I_numerical =', I_numerical)\n",
    "\n",
    "print('Ratio of I_zz/I_xx =', Izz/Ixx)"
   ],
   "metadata": {
    "collapsed": false,
    "ExecuteTime": {
     "end_time": "2024-01-31T15:31:50.291460Z",
     "start_time": "2024-01-31T15:31:50.283362Z"
    }
   },
   "id": "d9121af38ef3fbaa",
   "execution_count": 10
  },
  {
   "cell_type": "code",
   "outputs": [
    {
     "name": "stdout",
     "output_type": "stream",
     "text": [
      "I_expected = 0.0029121643083816007\n",
      "I_actual_z = 0.002002316694263955\n",
      "I_actual_x = 0.0032213205823612865\n",
      "I_actual_y = 0.0032213205823612826\n"
     ]
    }
   ],
   "source": [
    "# Code Testing - spherical shell\n",
    "\n",
    "# if a = c, then the prolate spheroid is a spherical shell\n",
    "# the moment of inertia of a spherical shell is given by I = 2/3 m c^2\n",
    "\n",
    "# Question:  What would be the radius of the sphere, given the volume of the prolate spheroid?\n",
    "# Answer: V = t * A = t * 4 * pi * r_sphere^2\n",
    "# r_sphere = sqrt(V/(t*4*pi))\n",
    "\n",
    "r_sphere = np.sqrt(V/(t*4*np.pi))\n",
    "\n",
    "I_expected = 2/3*m*(r_sphere)**2\n",
    "I_actual_z = I_numerical[2,2]\n",
    "I_actual_x = I_numerical[0,0]\n",
    "I_actual_y = I_numerical[1,1]\n",
    "\n",
    "print('I_expected =', I_expected)\n",
    "print('I_actual_z =', I_actual_z)\n",
    "print('I_actual_x =', I_actual_x)\n",
    "print('I_actual_y =', I_actual_y)"
   ],
   "metadata": {
    "collapsed": false,
    "ExecuteTime": {
     "end_time": "2024-01-31T15:29:31.279984Z",
     "start_time": "2024-01-31T15:29:31.277245Z"
    }
   },
   "id": "27111ac511657e19",
   "execution_count": 7
  },
  {
   "cell_type": "code",
   "outputs": [
    {
     "name": "stdout",
     "output_type": "stream",
     "text": [
      "I_expected = 0.0006838166027416633\n",
      "I_actual_z = 0.002002316694263955\n",
      "I_actual_x = 0.0032213205823612865\n",
      "I_actual_y = 0.0032213205823612826\n"
     ]
    }
   ],
   "source": [
    "# Code Testing - thin rod\n",
    "\n",
    "# if a = 0, then the prolate spheroid is a thin rod\n",
    "# the moment of inertia of a thin rod is given by I = 1/12 m c^2\n",
    "\n",
    "I_expected = 1/12*m*c**2\n",
    "I_actual_z = I_numerical[2,2]\n",
    "I_actual_x = I_numerical[0,0]\n",
    "I_actual_y = I_numerical[1,1]\n",
    "\n",
    "print('I_expected =', I_expected)\n",
    "print('I_actual_z =', I_actual_z)\n",
    "print('I_actual_x =', I_actual_x)\n",
    "print('I_actual_y =', I_actual_y)"
   ],
   "metadata": {
    "collapsed": false,
    "ExecuteTime": {
     "end_time": "2024-01-31T15:29:31.282300Z",
     "start_time": "2024-01-31T15:29:31.280224Z"
    }
   },
   "id": "110cbbab1f7f2eec",
   "execution_count": 8
  },
  {
   "cell_type": "code",
   "outputs": [
    {
     "name": "stdout",
     "output_type": "stream",
     "text": [
      "0.21227834524945458\n"
     ]
    }
   ],
   "source": [
    "print(I_expected/I_actual_x)"
   ],
   "metadata": {
    "collapsed": false,
    "ExecuteTime": {
     "end_time": "2024-01-31T15:29:31.284764Z",
     "start_time": "2024-01-31T15:29:31.282739Z"
    }
   },
   "id": "9b971b36d32ad708",
   "execution_count": 9
  },
  {
   "cell_type": "code",
   "outputs": [],
   "source": [],
   "metadata": {
    "collapsed": false,
    "ExecuteTime": {
     "end_time": "2024-01-31T15:29:31.286927Z",
     "start_time": "2024-01-31T15:29:31.284884Z"
    }
   },
   "id": "4a7836317819e90c",
   "execution_count": 9
  }
 ],
 "metadata": {
  "kernelspec": {
   "display_name": "Python 3",
   "language": "python",
   "name": "python3"
  },
  "language_info": {
   "codemirror_mode": {
    "name": "ipython",
    "version": 2
   },
   "file_extension": ".py",
   "mimetype": "text/x-python",
   "name": "python",
   "nbconvert_exporter": "python",
   "pygments_lexer": "ipython2",
   "version": "2.7.6"
  }
 },
 "nbformat": 4,
 "nbformat_minor": 5
}
