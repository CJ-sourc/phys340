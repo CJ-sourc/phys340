{
 "cells": [
  {
   "cell_type": "markdown",
   "source": [
    "# Moment of Inertia of a Football\n",
    "\n",
    "The moment of inertia of a football can be calculated as follows:\n",
    "\n",
    "The football is a prolate spheroid with semi-axes $a$ and $c$.  For an American football, the semi-axes are $a = 11.5$ cm and $c = 19.0$ cm. The mass of the football is $m = 0.4$ kg, and the thickness of the leather is $t = 0.5$ cm.\n",
    "\n",
    "The moment of inertia of a prolate spheroid is given by\n",
    "\n",
    "$$I = \\frac{2}{5} m c^2 \\left(1 + \\frac{1}{2} \\left(\\frac{a}{c}\\right)^2 \\ln\\left(\\frac{1 + e}{1 - e}\\right)\\right)$$\n",
    "\n",
    "where $m$ is the mass of the football and $e = \\sqrt{1 - \\frac{a^2}{c^2}}$. \n",
    "\n",
    "## Calculation of the Moment of Inertia\n",
    "\n",
    "The moment of inertia of the football is calculated as follows:\n",
    "\n",
    "A prolate spheroid is an ellipse which is rotated about its major axis.  The length of the major axis is $2c$, and the length of the minor axis is $2a$.  Thus, the equation of the surface of the prolate spheroid is given by\n",
    "\n",
    "$$\\frac{x^2}{a^2} + \\frac{y^2}{a^2} + \\frac{z^2}{c^2} = 1$$\n",
    "\n",
    "In spherical coordinates, we have that:\n",
    "\n",
    "$$x = r \\sin\\theta \\cos\\phi$$\n",
    "$$y = r \\sin\\theta \\sin\\phi$$\n",
    "$$z = r \\cos\\theta$$\n",
    "\n",
    "Substituting these into the equation of the prolate spheroid, we have that:\n",
    "\n",
    "$$\\frac{r^2 \\sin^2\\theta \\cos^2\\phi}{a^2} + \\frac{r^2 \\sin^2\\theta \\sin^2\\phi}{a^2} + \\frac{r^2 \\cos^2\\theta}{c^2} = 1$$\n",
    "\n",
    "Simplifying, we have that:\n",
    "\n",
    "$$\\frac{r^2}{a^2} \\sin^2\\theta + \\frac{r^2}{c^2} \\cos^2\\theta = 1$$\n",
    "\n",
    "Solving for $r^2$, we have that:\n",
    "\n",
    "$$r^2 = \\frac{a^2 c^2}{c^2 \\sin^2\\theta + a^2 \\cos^2\\theta}$$\n",
    "\n",
    "$$r = \\frac{ac}{\\sqrt{c^2 \\sin^2\\theta + a^2 \\cos^2\\theta}$$\n",
    "\n",
    "Let's calculate the surface area of the prolate spheroid. \n",
    "\n",
    "The area of the prolate spheroid is given by\n",
    "\n",
    "$$A = 2\\pi \\int_0^\\pi r^2 \\sin\\theta d\\theta$$ \n",
    "\n",
    "Substituting in the expression for $r^2$, we have that\n",
    "\n",
    "$$A = 2\\pi \\int_0^\\pi \\frac{a^2 c^2}{c^2 \\sin^2\\theta + a^2 \\cos^2\\theta} \\sin\\theta d\\theta$$\n",
    "\n",
    "This integral is not easy to solve!  The result, using Mathematica, is:\n",
    "\n",
    "$$A = 2\\pi a^2 + \\frac{2 \\pi a c^2}{\\sqrt{c^2-a^2}} \\arcsin\\left(\\frac{\\sqrt{c^2-a^2}}{c}\\right)$$\n",
    "\n",
    "Using that $e = \\frac{\\sqrt{c^2-a^2}}{c}$, we have that\n",
    "\n",
    "$$A = 2\\pi a^2 + \\frac{2 \\pi a c}{e} \\arcsin\\left(e\\right)$$\n",
    "\n",
    "## Moment of Inertia\n",
    "\n",
    "We can calculate the diagonal elements of the moment of intertia tensor as follows:\n",
    "\n",
    "$$I_{xx} = \\int \\left(y^2 + z^2\\right) dm$$\n",
    "$$I_{yy} = \\int \\left(x^2 + z^2\\right) dm$$\n",
    "$$I_{zz} = \\int \\left(x^2 + y^2\\right) dm$$\n",
    "\n",
    "where $dm = \\rho dV$ is the mass element, and $\\rho$ is the density of the football.  The density of the football is given by\n",
    "\n",
    "$$\\rho = \\frac{m}{V}$$\n",
    "\n",
    "where $V$ is the volume of the football.  The volume of the football is given by\n",
    "\n",
    "$$V = A*t$$\n",
    "\n",
    "where $A$ is the surface area of the football and $t$ is the thickness of the leather.  Thus, the density is given by\n",
    "\n",
    "$$\\rho = \\frac{m}{A t}$$\n",
    "\n",
    "## Calculation of $I_{xx}$\n",
    "\n",
    "We can calculate the moment of inertia $I_{xx}$ as follows:\n",
    "\n",
    "$$I_{xx} = \\int \\left(y^2 + z^2\\right) dm$$\n",
    "\n",
    "Substituting in the expression for $dm$, we have that\n",
    "\n",
    "$$I_{xx} = \\int \\left(y^2 + z^2\\right) \\rho dV$$\n",
    "\n",
    "Switching to spherical coordinates, we have that\n",
    "\n",
    "$$I_{xx} = \\int \\left(r^2 \\sin^2\\theta \\sin^2\\phi + r^2 \\cos^2\\theta\\right) \\rho r^2 \\sin\\theta dr d\\theta d\\phi$$\n",
    "\n",
    "Substituting in the expression for $r^2$, we have that\n",
    "\n",
    "$$I_{xx} = \\int \\left(\\frac{a^2 c^2 \\sin^2\\theta \\sin^2\\phi}{c^2 \\sin^2\\theta + a^2 \\cos^2\\theta} + \\frac{a^2 c^2 \\cos^2\\theta}{c^2 \\sin^2\\theta + a^2 \\cos^2\\theta}\\right) \\rho \\frac{a^2 c^2}{c^2 \\sin^2\\theta + a^2 \\cos^2\\theta} \\sin\\theta dr d\\theta d\\phi$$\n",
    "\n",
    "Somehow, I feel like a numerical solution is going to be necessary!!!\n",
    "\n",
    "\n",
    "\n",
    "\n",
    "\n"
   ],
   "metadata": {
    "collapsed": false
   },
   "id": "7d8ee6fd7fc33b71"
  },
  {
   "cell_type": "code",
   "outputs": [
    {
     "name": "stdout",
     "output_type": "stream",
     "text": [
      "e = 0.7960254453817986\n",
      "A = 0.24188487404638828\n",
      "V = 0.0012094243702319414\n",
      "rho = 330.735852398351\n"
     ]
    }
   ],
   "source": [
    "import numpy as np\n",
    "import matplotlib.pyplot as plt\n",
    "\n",
    "# Constants\n",
    "a = 11.5e-2\n",
    "c = 19.0e-2\n",
    "m = 0.4\n",
    "t = 0.5e-2\n",
    "\n",
    "# Calculate e\n",
    "e = np.sqrt(1 - a**2/c**2)\n",
    "\n",
    "# Calculate the surface area\n",
    "A = 2*np.pi*a**2 + 2*np.pi*a*c/e*np.arcsin(e)\n",
    "\n",
    "# Calculate the volume\n",
    "V = A*t\n",
    "\n",
    "# Calculate the density\n",
    "rho = m/V\n",
    "\n",
    "print('e =', e)\n",
    "print('A =', A)\n",
    "print('V =', V)\n",
    "print('rho =', rho)"
   ],
   "metadata": {
    "collapsed": false,
    "ExecuteTime": {
     "end_time": "2024-01-31T13:30:10.988481Z",
     "start_time": "2024-01-31T13:30:10.983965Z"
    }
   },
   "id": "f1cb6a0631dfdb05",
   "execution_count": 3
  },
  {
   "cell_type": "code",
   "outputs": [
    {
     "name": "stdout",
     "output_type": "stream",
     "text": [
      "Ixx = 3.565422617665397\n"
     ]
    }
   ],
   "source": [
    "# Calculate the moment of inertia - Ixx\n",
    "\n",
    "# Number of points\n",
    "n = 100\n",
    "\n",
    "# Calculate the integral\n",
    "Ixx = 0\n",
    "for i in range(n):\n",
    "    for j in range(n):\n",
    "        for k in range(n):\n",
    "            theta = np.pi*i/n\n",
    "            phi = 2*np.pi*j/n\n",
    "            r = c*a/np.sqrt(c**2*np.sin(theta)**2 + a**2*np.cos(theta)**2)\n",
    "            Ixx += (r**2*np.sin(theta)**2*np.sin(phi)**2 + r**2*np.cos(theta)**2)*rho*r**2*np.sin(theta)*np.pi/n*np.pi/n*2*np.pi/n\n",
    "            \n",
    "print('Ixx =', Ixx)"
   ],
   "metadata": {
    "collapsed": false,
    "ExecuteTime": {
     "end_time": "2024-01-31T13:32:17.905688Z",
     "start_time": "2024-01-31T13:32:14.632485Z"
    }
   },
   "id": "50afcfaac1e11f23",
   "execution_count": 4
  },
  {
   "cell_type": "code",
   "outputs": [
    {
     "name": "stdout",
     "output_type": "stream",
     "text": [
      "Iyy = 3.565422617665401\n"
     ]
    }
   ],
   "source": [
    "# Calculate the moment of inertia - Iyy\n",
    "\n",
    "# Calculate the integral\n",
    "Iyy = 0\n",
    "for i in range(n):\n",
    "    for j in range(n):\n",
    "        for k in range(n):\n",
    "            theta = np.pi*i/n\n",
    "            phi = 2*np.pi*j/n\n",
    "            r = c*a/np.sqrt(c**2*np.sin(theta)**2 + a**2*np.cos(theta)**2)\n",
    "            Iyy += (r**2*np.sin(theta)**2*np.cos(phi)**2 + r**2*np.cos(theta)**2)*rho*r**2*np.sin(theta)*np.pi/n*np.pi/n*2*np.pi/n\n",
    "            \n",
    "print('Iyy =', Iyy)"
   ],
   "metadata": {
    "collapsed": false,
    "ExecuteTime": {
     "end_time": "2024-01-31T13:33:25.447232Z",
     "start_time": "2024-01-31T13:33:22.103401Z"
    }
   },
   "id": "7b623e34328ba015",
   "execution_count": 5
  },
  {
   "cell_type": "code",
   "outputs": [
    {
     "name": "stdout",
     "output_type": "stream",
     "text": [
      "Izz = 4.675605224098897\n"
     ]
    }
   ],
   "source": [
    "# Calculate the moment of inertia - Izz\n",
    "\n",
    "# Calculate the integral\n",
    "Izz = 0\n",
    "for i in range(n):\n",
    "    for j in range(n):\n",
    "        for k in range(n):\n",
    "            theta = np.pi*i/n\n",
    "            phi = 2*np.pi*j/n\n",
    "            r = c*a/np.sqrt(c**2*np.sin(theta)**2 + a**2*np.cos(theta)**2)\n",
    "            Izz += (r**2*np.sin(theta)**2 + r**2*np.cos(theta)**2)*rho*r**2*np.sin(theta)*np.pi/n*np.pi/n*2*np.pi/n\n",
    "            \n",
    "print('Izz =', Izz)"
   ],
   "metadata": {
    "collapsed": false,
    "ExecuteTime": {
     "end_time": "2024-01-31T13:33:42.920837Z",
     "start_time": "2024-01-31T13:33:40.027943Z"
    }
   },
   "id": "608310f535adb790",
   "execution_count": 6
  },
  {
   "cell_type": "code",
   "outputs": [
    {
     "name": "stdout",
     "output_type": "stream",
     "text": [
      "Ixy = -4.1380387769323013e-16\n"
     ]
    }
   ],
   "source": [
    "# Calculate the moment of inertia - Ixy\n",
    "\n",
    "# Calculate the integral\n",
    "Ixy = 0\n",
    "for i in range(n):\n",
    "    for j in range(n):\n",
    "        for k in range(n):\n",
    "            theta = np.pi*i/n\n",
    "            phi = 2*np.pi*j/n\n",
    "            r = c*a/np.sqrt(c**2*np.sin(theta)**2 + a**2*np.cos(theta)**2)\n",
    "            Ixy += (r**2*np.sin(theta)**2*np.sin(phi)*np.cos(phi) + r**2*np.cos(theta)**2*np.sin(phi)*np.cos(phi))*rho*r**2*np.sin(theta)*np.pi/n*np.pi/n*2*np.pi/n\n",
    "            \n",
    "print('Ixy =', Ixy)"
   ],
   "metadata": {
    "collapsed": false,
    "ExecuteTime": {
     "end_time": "2024-01-31T13:34:04.198550Z",
     "start_time": "2024-01-31T13:33:59.952177Z"
    }
   },
   "id": "8ca13844e174c336",
   "execution_count": 7
  },
  {
   "cell_type": "code",
   "outputs": [],
   "source": [],
   "metadata": {
    "collapsed": false
   },
   "id": "d9121af38ef3fbaa"
  }
 ],
 "metadata": {
  "kernelspec": {
   "display_name": "Python 3",
   "language": "python",
   "name": "python3"
  },
  "language_info": {
   "codemirror_mode": {
    "name": "ipython",
    "version": 2
   },
   "file_extension": ".py",
   "mimetype": "text/x-python",
   "name": "python",
   "nbconvert_exporter": "python",
   "pygments_lexer": "ipython2",
   "version": "2.7.6"
  }
 },
 "nbformat": 4,
 "nbformat_minor": 5
}
