{
 "cells": [
  {
   "cell_type": "code",
   "execution_count": 23,
   "id": "initial_id",
   "metadata": {
    "collapsed": true,
    "ExecuteTime": {
     "end_time": "2024-01-27T14:47:25.445596Z",
     "start_time": "2024-01-27T14:47:25.415477Z"
    }
   },
   "outputs": [],
   "source": [
    "import numpy as np\n",
    "import matplotlib.pyplot as plt"
   ]
  },
  {
   "cell_type": "markdown",
   "source": [
    "# Systems of Linear Equations\n",
    "\n",
    "Consider the following matrix\n",
    "\n",
    "$$A = \\begin{bmatrix} -2 & -4 & 2 \\\\ -2 & 1 & 2 \\\\ 4 & 2 & 5 \\end{bmatrix}$$\n",
    "\n",
    "Consider also a constant vector $c$ of size $3 \\times 1$\n",
    "\n",
    "$$c = \\begin{bmatrix} 5 \\\\ -3 \\\\ 4 \\end{bmatrix}$$\n",
    "\n",
    "The solution of the system of linear equations $Ax = c$ can be calculated using the `solve` function of the `numpy.linalg` module.\n",
    "\n",
    "The inverse of a matrix $A$ can be calculated using the `inv` function of the `numpy.linalg` module.\n",
    "\n",
    "The determinant of a matrix $A$ can be calculated using the `det` function of the `numpy.linalg` module."
   ],
   "metadata": {
    "collapsed": false
   },
   "id": "11e02ae727c7e519"
  },
  {
   "cell_type": "code",
   "execution_count": 24,
   "outputs": [
    {
     "name": "stdout",
     "output_type": "stream",
     "text": [
      "The solution vector is  [ 1.18888889 -1.6         0.48888889]\n"
     ]
    }
   ],
   "source": [
    "# create a coefficient matrix\n",
    "A = np.array([[-2, -4, 2], [-2, 1, 2], [4, 2, 5]])\n",
    "#A = np.array([[1, 0, 0], [0, 2, 0], [0, 0, 3]])\n",
    "\n",
    "# create a constant vector\n",
    "c = np.array([5, -3, 4])\n",
    "\n",
    "# solve the system of linear equations\n",
    "x = np.linalg.solve(A, c)\n",
    "\n",
    "# print the solution\n",
    "print('The solution vector is ',x)"
   ],
   "metadata": {
    "collapsed": false,
    "ExecuteTime": {
     "end_time": "2024-01-27T14:47:25.457347Z",
     "start_time": "2024-01-27T14:47:25.448854Z"
    }
   },
   "id": "46db9ff55287e6c2"
  },
  {
   "cell_type": "code",
   "execution_count": 25,
   "outputs": [
    {
     "name": "stdout",
     "output_type": "stream",
     "text": [
      "The solution vector is  [ 1.18888889 -1.6         0.48888889]\n"
     ]
    }
   ],
   "source": [
    "# calculate the inverse of the coefficient matrix\n",
    "A_inv = np.linalg.inv(A)\n",
    "\n",
    "# calculate the solution vector by multiplying the inverse with the constant vector\n",
    "x = np.dot(A_inv, c)\n",
    "\n",
    "# print the solution\n",
    "print('The solution vector is ',x)"
   ],
   "metadata": {
    "collapsed": false,
    "ExecuteTime": {
     "end_time": "2024-01-27T14:47:25.457693Z",
     "start_time": "2024-01-27T14:47:25.452340Z"
    }
   },
   "id": "793df96d71192dcd"
  },
  {
   "cell_type": "code",
   "execution_count": 26,
   "outputs": [
    {
     "name": "stdout",
     "output_type": "stream",
     "text": [
      "The inverse of the coefficient matrix is \n",
      "[[-0.01111111 -0.26666667  0.11111111]\n",
      " [-0.2         0.2        -0.        ]\n",
      " [ 0.08888889  0.13333333  0.11111111]]\n",
      "\n",
      "The determinant is  -90.0\n",
      "\n",
      "The rank is  3\n",
      "\n",
      "The norm is  8.831760866327848\n",
      "\n",
      "The condition number is  2.5464725730238915\n"
     ]
    }
   ],
   "source": [
    "# print the inverse of the coefficient matrix\n",
    "print('The inverse of the coefficient matrix is ')\n",
    "print(A_inv)\n",
    "print()\n",
    "\n",
    "# print the determinant of the coefficient matrix\n",
    "print('The determinant is ',np.linalg.det(A))\n",
    "print()\n",
    "\n",
    "# print the rank of the coefficient matrix\n",
    "print('The rank is ',np.linalg.matrix_rank(A))\n",
    "print()\n",
    "\n",
    "# print the norm of the coefficient matrix\n",
    "print('The norm is ',np.linalg.norm(A))\n",
    "print()\n",
    "\n",
    "# print the condition number of the coefficient matrix\n",
    "print('The condition number is ',np.linalg.cond(A))\n",
    "print()"
   ],
   "metadata": {
    "collapsed": false,
    "ExecuteTime": {
     "end_time": "2024-01-27T14:47:25.460246Z",
     "start_time": "2024-01-27T14:47:25.457896Z"
    }
   },
   "id": "7e6af147ef82af05"
  },
  {
   "cell_type": "code",
   "execution_count": 27,
   "outputs": [
    {
     "name": "stdout",
     "output_type": "stream",
     "text": [
      "The coefficient matrix is \n",
      "Matrix([[-2, -4, 2], [-2, 1, 2], [4, 2, 5]])\n",
      "The inverse of the coefficient matrix is \n",
      "Matrix([[-1/90, -4/15, 1/9], [-1/5, 1/5, 0], [4/45, 2/15, 1/9]])\n",
      "The solution vector is \n",
      "Matrix([[107/90], [-8/5], [22/45]])\n"
     ]
    }
   ],
   "source": [
    "# create a coefficient matrix using Sympy\n",
    "import sympy as sym\n",
    "As = sym.Matrix([[-2, -4, 2], [-2, 1, 2], [4, 2, 5]])\n",
    "#As = sym.Matrix([[1, 0, 0], [0, 2, 0], [0, 0, 3]])\n",
    "\n",
    "print('The coefficient matrix is ')\n",
    "print(As)\n",
    "\n",
    "# calculate the inverse of the coefficient matrix\n",
    "As_inv = As.inv()\n",
    "print('The inverse of the coefficient matrix is ')\n",
    "print(As_inv)\n",
    "\n",
    "# calculate the solution vector by multiplying the inverse with the constant vector\n",
    "xs = As_inv * sym.Matrix([5, -3, 4])\n",
    "\n",
    "# print the solution\n",
    "print('The solution vector is ')\n",
    "print(xs)\n"
   ],
   "metadata": {
    "collapsed": false,
    "ExecuteTime": {
     "end_time": "2024-01-27T14:47:25.467697Z",
     "start_time": "2024-01-27T14:47:25.463836Z"
    }
   },
   "id": "f5912bc6ff857e17"
  },
  {
   "cell_type": "markdown",
   "source": [
    "# Eigenvalues and Eigenvectors\n",
    "\n",
    "Consider a square matrix $A$ of size $n \\times n$. If there exists a vector $x$ of size $n \\times 1$ and a scalar $\\lambda$ such that\n",
    "\n",
    "$$Ax = \\lambda x$$\n",
    "\n",
    "then $\\lambda$ is called an eigenvalue of $A$ and $x$ is called an eigenvector of $A$ corresponding to the eigenvalue $\\lambda$.\n",
    "\n",
    "The eigenvalues of a matrix $A$ are the roots of the characteristic equation\n",
    "\n",
    "$$det(A - \\lambda I) = 0$$\n",
    "\n",
    "where $I$ is the identity matrix of size $n \\times n$.\n",
    "\n",
    "The eigenvectors of a matrix $A$ are the vectors $x$ that satisfy the equation\n",
    "\n",
    "$$(A - \\lambda I)x = 0$$\n",
    "\n",
    "for some eigenvalue $\\lambda$.\n",
    "\n",
    "The eigenvalues and eigenvectors of a matrix $A$ can be calculated using the `eig` function of the `numpy.linalg` module."
   ],
   "metadata": {
    "collapsed": false
   },
   "id": "e0bb8b269721a922"
  },
  {
   "cell_type": "code",
   "outputs": [
    {
     "name": "stdout",
     "output_type": "stream",
     "text": [
      "The eigenvalues are \n",
      "[-5.  3.  6.]\n",
      "The eigenvectors (rows) are \n",
      "[[ 0.81649658  0.40824829 -0.40824829]\n",
      " [ 0.53452248 -0.80178373 -0.26726124]\n",
      " [ 0.05842062  0.35052374  0.93472998]]\n"
     ]
    }
   ],
   "source": [
    "# print the eigenvalues and eigenvectors of the coefficient matrix\n",
    "eigenvalues, eigenvectorsT = np.linalg.eig(A)\n",
    "eigenvectors = eigenvectorsT.T\n",
    "print('The eigenvalues are ')\n",
    "print(eigenvalues)\n",
    "print('The eigenvectors (rows) are ')\n",
    "print(eigenvectors)\n",
    "print()"
   ],
   "metadata": {
    "collapsed": false,
    "ExecuteTime": {
     "end_time": "2024-01-27T14:47:25.485788Z",
     "start_time": "2024-01-27T14:47:25.468477Z"
    }
   },
   "id": "78303f7c1cce6f04",
   "execution_count": 28
  },
  {
   "cell_type": "markdown",
   "source": [
    "## Direct Calculation of Eigenvalues and Eigenvectors using Sympy"
   ],
   "metadata": {
    "collapsed": false
   },
   "id": "de8e9a9d16c289ec"
  },
  {
   "cell_type": "code",
   "execution_count": 29,
   "outputs": [
    {
     "name": "stdout",
     "output_type": "stream",
     "text": [
      "The lambda matrix is \n",
      "Matrix([[lambda, 0, 0], [0, lambda, 0], [0, 0, lambda]])\n"
     ]
    }
   ],
   "source": [
    "lam = sym.symbols('lambda')\n",
    "lambda_matrix = sym.Matrix([[lam, 0, 0], [0, lam, 0], [0, 0, lam]])\n",
    "print('The lambda matrix is ')\n",
    "print(lambda_matrix)"
   ],
   "metadata": {
    "collapsed": false,
    "ExecuteTime": {
     "end_time": "2024-01-27T14:47:25.486182Z",
     "start_time": "2024-01-27T14:47:25.472254Z"
    }
   },
   "id": "1b5b4c541edaad25"
  },
  {
   "cell_type": "code",
   "execution_count": 30,
   "outputs": [
    {
     "name": "stdout",
     "output_type": "stream",
     "text": [
      "The eigen matrix is \n",
      "Matrix([[-lambda - 2, -4, 2], [-2, 1 - lambda, 2], [4, 2, 5 - lambda]])\n"
     ]
    }
   ],
   "source": [
    "eigen_matrix = As - lambda_matrix\n",
    "print('The eigen matrix is ')\n",
    "print(eigen_matrix)"
   ],
   "metadata": {
    "collapsed": false,
    "ExecuteTime": {
     "end_time": "2024-01-27T14:47:25.486487Z",
     "start_time": "2024-01-27T14:47:25.476908Z"
    }
   },
   "id": "6dc37743f36c1e36"
  },
  {
   "cell_type": "code",
   "execution_count": 31,
   "outputs": [
    {
     "name": "stdout",
     "output_type": "stream",
     "text": [
      "The determinant is \n",
      "-lambda**3 + 4*lambda**2 + 27*lambda - 90\n"
     ]
    }
   ],
   "source": [
    "det = eigen_matrix.det()\n",
    "print('The determinant is ')\n",
    "print(det)"
   ],
   "metadata": {
    "collapsed": false,
    "ExecuteTime": {
     "end_time": "2024-01-27T14:47:25.486770Z",
     "start_time": "2024-01-27T14:47:25.479996Z"
    }
   },
   "id": "9f39021a16d70237"
  },
  {
   "cell_type": "code",
   "execution_count": 32,
   "outputs": [
    {
     "name": "stdout",
     "output_type": "stream",
     "text": [
      "The eigenvalues are \n",
      "[-5, 3, 6]\n"
     ]
    }
   ],
   "source": [
    "eigenvalues = sym.solve(det)\n",
    "print('The eigenvalues are ')\n",
    "print(eigenvalues)"
   ],
   "metadata": {
    "collapsed": false,
    "ExecuteTime": {
     "end_time": "2024-01-27T14:47:25.495509Z",
     "start_time": "2024-01-27T14:47:25.486583Z"
    }
   },
   "id": "65a9389dcdfc645e"
  },
  {
   "cell_type": "code",
   "execution_count": 32,
   "outputs": [],
   "source": [],
   "metadata": {
    "collapsed": false,
    "ExecuteTime": {
     "end_time": "2024-01-27T14:47:25.495803Z",
     "start_time": "2024-01-27T14:47:25.488825Z"
    }
   },
   "id": "55ccce14d4e8b8ea"
  },
  {
   "cell_type": "code",
   "execution_count": 33,
   "outputs": [],
   "source": [
    "# calculate the eigenvectors ... note that the result is a DICTIONARY"
   ],
   "metadata": {
    "collapsed": false,
    "ExecuteTime": {
     "end_time": "2024-01-27T14:47:25.529566Z",
     "start_time": "2024-01-27T14:47:25.491079Z"
    }
   },
   "id": "aa9d88c80862d84e"
  },
  {
   "cell_type": "code",
   "execution_count": 34,
   "outputs": [
    {
     "name": "stdout",
     "output_type": "stream",
     "text": [
      "For eigenvalue  -5  the eigenvectors are \n",
      "Matrix([[3, -4, 2], [-2, 6, 2], [4, 2, 10]])\n",
      "Matrix([[3*x - 4*y + 2*z], [-2*x + 6*y + 2*z], [4*x + 2*y + 10*z]])\n",
      "{x: -2*z, y: -z}\n",
      "\n",
      "For eigenvalue  3  the eigenvectors are \n",
      "Matrix([[-5, -4, 2], [-2, -2, 2], [4, 2, 2]])\n",
      "Matrix([[-5*x - 4*y + 2*z], [-2*x - 2*y + 2*z], [4*x + 2*y + 2*z]])\n",
      "{x: -2*z, y: 3*z}\n",
      "\n",
      "For eigenvalue  6  the eigenvectors are \n",
      "Matrix([[-8, -4, 2], [-2, -5, 2], [4, 2, -1]])\n",
      "Matrix([[-8*x - 4*y + 2*z], [-2*x - 5*y + 2*z], [4*x + 2*y - z]])\n",
      "{x: z/16, y: 3*z/8}\n"
     ]
    }
   ],
   "source": [
    "eigenvectors = []\n",
    "for eigenvalue in eigenvalues:\n",
    "    print('For eigenvalue ',eigenvalue,' the eigenvectors are ')\n",
    "    print(eigen_matrix.subs(lam, eigenvalue))\n",
    "    x = sym.symbols('x')\n",
    "    y = sym.symbols('y')\n",
    "    z = sym.symbols('z')\n",
    "    evec = sym.Matrix([x, y, z])\n",
    "    print(eigen_matrix.subs(lam, eigenvalue) * evec)\n",
    "    print(sym.solve((eigen_matrix.subs(lam, eigenvalue) * evec)))\n",
    "    eigenvectors.append(sym.solve((eigen_matrix.subs(lam, eigenvalue) * evec)))\n",
    "    print()"
   ],
   "metadata": {
    "collapsed": false,
    "ExecuteTime": {
     "end_time": "2024-01-27T14:47:25.532560Z",
     "start_time": "2024-01-27T14:47:25.493737Z"
    }
   },
   "id": "aedd0beac735c102"
  },
  {
   "cell_type": "code",
   "execution_count": 35,
   "outputs": [
    {
     "name": "stdout",
     "output_type": "stream",
     "text": [
      "The eigenvalues are \n",
      "[-5.  3.  6.]\n",
      "The eigenvectors (rows) are \n",
      "[[ 0.81649658  0.40824829 -0.40824829]\n",
      " [ 0.53452248 -0.80178373 -0.26726124]\n",
      " [ 0.05842062  0.35052374  0.93472998]]\n"
     ]
    }
   ],
   "source": [
    "# print the eigenvalues and eigenvectors of the coefficient matrix\n",
    "eigenvalues_linalg, eigenvectors_linalgT = np.linalg.eig(A)\n",
    "eigenvectors_linalg = eigenvectors_linalgT.T\n",
    "print('The eigenvalues are ')\n",
    "print(eigenvalues_linalg)\n",
    "print('The eigenvectors (rows) are ')\n",
    "print(eigenvectors_linalg)\n",
    "print()"
   ],
   "metadata": {
    "collapsed": false,
    "ExecuteTime": {
     "end_time": "2024-01-27T14:47:25.532907Z",
     "start_time": "2024-01-27T14:47:25.512286Z"
    }
   },
   "id": "8056a161ca2131c3"
  },
  {
   "cell_type": "code",
   "execution_count": 36,
   "outputs": [
    {
     "name": "stdout",
     "output_type": "stream",
     "text": [
      "[-5, 3, 6]\n",
      "[{x: -2*z, y: -z}, {x: -2*z, y: 3*z}, {x: z/16, y: 3*z/8}]\n"
     ]
    }
   ],
   "source": [
    "# print the eigenvalues and eigenvectors of the coefficient matrix from Sympy\n",
    "print(eigenvalues)\n",
    "print(eigenvectors)"
   ],
   "metadata": {
    "collapsed": false,
    "ExecuteTime": {
     "end_time": "2024-01-27T14:47:25.533223Z",
     "start_time": "2024-01-27T14:47:25.516709Z"
    }
   },
   "id": "b1666539faeb5ba6"
  },
  {
   "cell_type": "code",
   "execution_count": 37,
   "outputs": [
    {
     "name": "stdout",
     "output_type": "stream",
     "text": [
      "For eigenvalue  -5.000000000000002  matrix to be multiplied is \n",
      "[[ 3. -4.  2.]\n",
      " [-2.  6.  2.]\n",
      " [ 4.  2. 10.]]\n",
      "The eigenvector is \n",
      "[ 0.81649658  0.40824829 -0.40824829]\n",
      "The result of the matrix multiplication is \n",
      "[ 1.22124533e-15  9.99200722e-16 -1.05826155e-15]\n",
      "The sum of the elements of the result is \n",
      "1.1621844989238228e-15\n",
      "\n",
      "For eigenvalue  2.9999999999999987  matrix to be multiplied is \n",
      "[[-5. -4.  2.]\n",
      " [-2. -2.  2.]\n",
      " [ 4.  2.  2.]]\n",
      "The eigenvector is \n",
      "[ 0.53452248 -0.80178373 -0.26726124]\n",
      "The result of the matrix multiplication is \n",
      "[-3.33066907e-16 -1.66533454e-15  1.99048011e-16]\n",
      "The sum of the elements of the result is \n",
      "-1.7993534332460085e-15\n",
      "\n",
      "For eigenvalue  5.999999999999999  matrix to be multiplied is \n",
      "[[-8. -4.  2.]\n",
      " [-2. -5.  2.]\n",
      " [ 4.  2. -1.]]\n",
      "The eigenvector is \n",
      "[0.05842062 0.35052374 0.93472998]\n",
      "The result of the matrix multiplication is \n",
      "[0.00000000e+00 4.44089210e-16 8.30206997e-16]\n",
      "The sum of the elements of the result is \n",
      "1.2742962068116781e-15\n"
     ]
    }
   ],
   "source": [
    "# check the eigenvalues and eigenvectors\n",
    "for i in range(len(eigenvalues_linalg)):\n",
    "    print('For eigenvalue ',eigenvalues_linalg[i],' matrix to be multiplied is ')\n",
    "    print(A-eigenvalues_linalg[i]*np.identity(3))\n",
    "    print('The eigenvector is ')\n",
    "    print(eigenvectors_linalg[i])\n",
    "    result = np.dot(A-eigenvalues_linalg[i]*np.identity(3),eigenvectors_linalg[i])\n",
    "    print('The result of the matrix multiplication is ')\n",
    "    print(result)\n",
    "    sum_vals = 0.0\n",
    "    for j in range(len(result)):\n",
    "        sum_vals += result[j]\n",
    "    print('The sum of the elements of the result is ')\n",
    "    print(sum_vals)\n",
    "    print()"
   ],
   "metadata": {
    "collapsed": false,
    "ExecuteTime": {
     "end_time": "2024-01-27T14:47:25.561173Z",
     "start_time": "2024-01-27T14:47:25.536456Z"
    }
   },
   "id": "1f922ff181230e8f"
  },
  {
   "cell_type": "markdown",
   "source": [
    "## Eigenvalues and Eigenvectors of a Square Matrix\n",
    "\n",
    "Diagonalization of a square matrix $A$ is the process of finding a diagonal matrix $\\Lambda$ and an invertible matrix $S$ such that\n",
    "\n",
    "$$A = S \\Lambda S^{-1}$$\n",
    "\n",
    "where $\\Lambda$ is a diagonal matrix with the eigenvalues of $A$ as its diagonal elements and $S$ is a matrix with the eigenvectors of $A$ as its columns.\n",
    "\n",
    "We can also therefore say that:\n",
    "\n",
    "$$\\Lambda = S^{-1} A S$$\n",
    "\n"
   ],
   "metadata": {
    "collapsed": false
   },
   "id": "a93291c64ae13a3b"
  },
  {
   "cell_type": "code",
   "execution_count": 38,
   "outputs": [
    {
     "name": "stdout",
     "output_type": "stream",
     "text": [
      "[[-2 -4  2]\n",
      " [-2  1  2]\n",
      " [ 4  2  5]]\n"
     ]
    }
   ],
   "source": [
    "print(A)"
   ],
   "metadata": {
    "collapsed": false,
    "ExecuteTime": {
     "end_time": "2024-01-27T14:47:25.561760Z",
     "start_time": "2024-01-27T14:47:25.540091Z"
    }
   },
   "id": "8e3c9cd9affdcb7c"
  },
  {
   "cell_type": "code",
   "execution_count": 39,
   "outputs": [
    {
     "name": "stdout",
     "output_type": "stream",
     "text": [
      "Eigenvalues\n",
      "[-5.  3.  6.]\n",
      "Eigenvector matrix with eigenvectors as columns\n",
      "[[ 0.81649658  0.53452248  0.05842062]\n",
      " [ 0.40824829 -0.80178373  0.35052374]\n",
      " [-0.40824829 -0.26726124  0.93472998]]\n"
     ]
    }
   ],
   "source": [
    "print(\"Eigenvalues\")\n",
    "print(eigenvalues_linalg)\n",
    "print(\"Eigenvector matrix with eigenvectors as columns\")\n",
    "print(eigenvectors_linalgT)\n",
    "S = eigenvectors_linalgT"
   ],
   "metadata": {
    "collapsed": false,
    "ExecuteTime": {
     "end_time": "2024-01-27T14:47:25.571516Z",
     "start_time": "2024-01-27T14:47:25.562928Z"
    }
   },
   "id": "6121b99c15b1ba47"
  },
  {
   "cell_type": "code",
   "execution_count": 40,
   "outputs": [
    {
     "name": "stdout",
     "output_type": "stream",
     "text": [
      "Inverse of eigenvector matrix with eigenvectors as columns\n",
      "[[ 0.7793831   0.61237244 -0.27835111]\n",
      " [ 0.62360956 -0.93541435  0.31180478]\n",
      " [ 0.51870433  0.          1.03740865]]\n"
     ]
    }
   ],
   "source": [
    "Sinv = np.linalg.inv(S)\n",
    "print(\"Inverse of eigenvector matrix with eigenvectors as columns\")\n",
    "print(Sinv)"
   ],
   "metadata": {
    "collapsed": false,
    "ExecuteTime": {
     "end_time": "2024-01-27T14:47:25.572575Z",
     "start_time": "2024-01-27T14:47:25.567061Z"
    }
   },
   "id": "441f7bbbbd17bfca"
  },
  {
   "cell_type": "code",
   "execution_count": 41,
   "outputs": [
    {
     "name": "stdout",
     "output_type": "stream",
     "text": [
      "Eigenvalue matrix (diagonal)\n",
      "[[-5.  0.  0.]\n",
      " [ 0.  3.  0.]\n",
      " [ 0.  0.  6.]]\n",
      "Eigenvalue matrix (diagonal) calculated from Sinv, A, S\n",
      "[[-5.00000000e+00 -1.36538712e-15  3.87113080e-16]\n",
      " [-1.61672226e-16  3.00000000e+00 -5.69376217e-16]\n",
      " [ 1.55331165e-16 -2.41439647e-16  6.00000000e+00]]\n"
     ]
    }
   ],
   "source": [
    "Lambda = np.diag(eigenvalues_linalg)\n",
    "print(\"Eigenvalue matrix (diagonal)\")\n",
    "print(Lambda)\n",
    "\n",
    "Lambda_Theory = np.dot(Sinv, np.dot(A,S))\n",
    "\n",
    "print(\"Eigenvalue matrix (diagonal) calculated from Sinv, A, S\")\n",
    "print(Lambda_Theory)\n"
   ],
   "metadata": {
    "collapsed": false,
    "ExecuteTime": {
     "end_time": "2024-01-27T14:47:25.573769Z",
     "start_time": "2024-01-27T14:47:25.570162Z"
    }
   },
   "id": "10a0ec858a6c8d76"
  },
  {
   "cell_type": "code",
   "execution_count": 42,
   "outputs": [
    {
     "name": "stdout",
     "output_type": "stream",
     "text": [
      "A calculated from S, Lambda, Sinv\n",
      "[[-2. -4.  2.]\n",
      " [-2.  1.  2.]\n",
      " [ 4.  2.  5.]]\n"
     ]
    }
   ],
   "source": [
    "A_Theory = np.dot(S, np.dot(Lambda, Sinv))\n",
    "print(\"A calculated from S, Lambda, Sinv\")\n",
    "print(A_Theory)"
   ],
   "metadata": {
    "collapsed": false,
    "ExecuteTime": {
     "end_time": "2024-01-27T14:47:25.577582Z",
     "start_time": "2024-01-27T14:47:25.574238Z"
    }
   },
   "id": "e57e9cece51c3f7c"
  },
  {
   "cell_type": "code",
   "execution_count": 42,
   "outputs": [],
   "source": [],
   "metadata": {
    "collapsed": false,
    "ExecuteTime": {
     "end_time": "2024-01-27T14:47:25.581603Z",
     "start_time": "2024-01-27T14:47:25.576969Z"
    }
   },
   "id": "734013b56201c0f5"
  }
 ],
 "metadata": {
  "kernelspec": {
   "display_name": "Python 3",
   "language": "python",
   "name": "python3"
  },
  "language_info": {
   "codemirror_mode": {
    "name": "ipython",
    "version": 2
   },
   "file_extension": ".py",
   "mimetype": "text/x-python",
   "name": "python",
   "nbconvert_exporter": "python",
   "pygments_lexer": "ipython2",
   "version": "2.7.6"
  }
 },
 "nbformat": 4,
 "nbformat_minor": 5
}
