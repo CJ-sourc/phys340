{
 "cells": [
  {
   "cell_type": "markdown",
   "source": [
    "# Moments of a distribution\n",
    "\n",
    "The $n$-th moment of a distribution is defined as\n",
    "\n",
    "$$  \\mu_n = \\int x^n f(x) dx $$\n",
    "\n",
    "where $f(x)$ is the probability density function of the distribution.\n",
    "\n",
    "## Moments of the mass\n",
    "\n",
    "The zeroth moment is the total mass of the distribution, i.e. the integral of the probability density function over the entire domain.\n",
    "\n",
    "We identify the function $f(x)$ above with the density function of a random variable $X$ and the domain of integration with the support of $X$.\n",
    "\n",
    "$$ M = \\mu_0 = \\int \\rho(x) dx $$\n",
    "\n",
    "The first moment is the mean of the distribution, which we call the center of mass.\n",
    "\n",
    "$$ x_{cm} = \\mu_1 = \\int x \\rho(x) dx $$\n",
    "\n",
    "The second moment is the variance of the distribution, which measures the spread of the distribution, which we call the moment of inertia.\n",
    "\n",
    "$$ I = \\mu_2 = \\int x^2 \\rho(x) dx $$\n",
    "\n",
    "The third moment is the skewness of the distribution, which measures the asymmetry of the distribution. We call it the skewness.\n",
    "\n",
    "$$ S = \\mu_3 = \\int x^3 \\rho(x) dx $$\n",
    "\n",
    "The fourth moment is the kurtosis of the distribution, which measures the \"tailedness\" of the distribution. We call it the kurtosis.\n",
    "\n",
    "$$ K = \\mu_4 = \\int x^4 \\rho(x) dx $$\n",
    "\n",
    "\n"
   ],
   "metadata": {
    "collapsed": false
   },
   "id": "ca2ce8a06b48a00e"
  },
  {
   "cell_type": "code",
   "outputs": [],
   "source": [],
   "metadata": {
    "collapsed": false
   },
   "id": "741a0f10f0c89d50"
  }
 ],
 "metadata": {
  "kernelspec": {
   "display_name": "Python 3",
   "language": "python",
   "name": "python3"
  },
  "language_info": {
   "codemirror_mode": {
    "name": "ipython",
    "version": 2
   },
   "file_extension": ".py",
   "mimetype": "text/x-python",
   "name": "python",
   "nbconvert_exporter": "python",
   "pygments_lexer": "ipython2",
   "version": "2.7.6"
  }
 },
 "nbformat": 4,
 "nbformat_minor": 5
}
