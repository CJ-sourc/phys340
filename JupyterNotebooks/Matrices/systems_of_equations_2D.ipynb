{
 "cells": [
  {
   "cell_type": "code",
   "execution_count": 2,
   "id": "initial_id",
   "metadata": {
    "collapsed": true,
    "ExecuteTime": {
     "end_time": "2024-01-12T17:34:04.703383Z",
     "start_time": "2024-01-12T17:34:04.319652Z"
    }
   },
   "outputs": [],
   "source": [
    "import numpy as np\n",
    "import matplotlib.pyplot as plt"
   ]
  },
  {
   "cell_type": "markdown",
   "source": [
    "# Systems of Linear Equations\n",
    "\n",
    "Consider a system of $m$ linear equations in $n$ unknowns\n",
    "\n",
    "$$\\begin{align*}\n",
    "a_{11}x_1 + a_{12}x_2 + \\cdots + a_{1n}x_n &= b_1 \\\\\n",
    "a_{21}x_1 + a_{22}x_2 + \\cdots + a_{2n}x_n &= b_2 \\\\\n",
    "\\vdots \\\\\n",
    "a_{m1}x_1 + a_{m2}x_2 + \\cdots + a_{mn}x_n &= b_m\n",
    "\\end{align*}$$\n",
    "\n",
    "This system can be written in matrix form as\n",
    "\n",
    "$$Ax = b$$\n",
    "\n",
    "where\n",
    "\n",
    "$$A = \\begin{bmatrix} a_{11} & a_{12} & \\cdots & a_{1n} \\\\ a_{21} & a_{22} & \\cdots & a_{2n} \\\\ \\vdots & \\vdots & \\ddots & \\vdots \\\\ a_{m1} & a_{m2} & \\cdots & a_{mn} \\end{bmatrix}$$\n",
    "\n",
    "$$x = \\begin{bmatrix} x_1 \\\\ x_2 \\\\ \\vdots \\\\ x_n \\end{bmatrix}$$\n",
    "\n",
    "$$b = \\begin{bmatrix} b_1 \\\\ b_2 \\\\ \\vdots \\\\ b_m \\end{bmatrix}$$\n",
    "\n",
    "The solution of the system of linear equations $Ax = b$ can be calculated using the `solve` function of the `numpy.linalg` module.\n",
    "\n",
    "The inverse of a matrix $A$ can be calculated using the `inv` function of the `numpy.linalg` module.\n",
    "\n",
    "The determinant of a matrix $A$ can be calculated using the `det` function of the `numpy.linalg` module."
   ],
   "metadata": {
    "collapsed": false
   },
   "id": "513c0195de608ea0"
  },
  {
   "cell_type": "markdown",
   "source": [
    "# Eigenvalues and Eigenvectors\n",
    "\n",
    "Consider a square matrix $A$ of size $n \\times n$. If there exists a vector $x$ of size $n \\times 1$ and a scalar $\\lambda$ such that\n",
    "\n",
    "$$Ax = \\lambda x$$\n",
    "\n",
    "then $\\lambda$ is called an eigenvalue of $A$ and $x$ is called an eigenvector of $A$ corresponding to the eigenvalue $\\lambda$.\n",
    "\n",
    "The eigenvalues of a matrix $A$ are the roots of the characteristic equation\n",
    "\n",
    "$$det(A - \\lambda I) = 0$$\n",
    "\n",
    "where $I$ is the identity matrix of size $n \\times n$.\n",
    "\n",
    "The eigenvectors of a matrix $A$ are the vectors $x$ that satisfy the equation\n",
    "\n",
    "$$(A - \\lambda I)x = 0$$\n",
    "\n",
    "for some eigenvalue $\\lambda$.\n",
    "\n",
    "The eigenvalues and eigenvectors of a matrix $A$ can be calculated using the `eig` function of the `numpy.linalg` module.\n",
    "\n",
    "Consider the following matrix\n",
    "\n",
    "$$A = \\begin{bmatrix} 0 & 1 \\\\ -2 & -3 \\end{bmatrix}$$\n",
    "\n",
    "Consider also a constant vector $c$ of size $3 \\times 1$\n",
    "\n",
    "$$c = \\begin{bmatrix} 5 \\\\ -3 \\end{bmatrix}$$\n",
    "\n",
    "The solution of the system of linear equations $Ax = c$ can be calculated using the `solve` function of the `numpy.linalg` module.\n",
    "\n",
    "The inverse of a matrix $A$ can be calculated using the `inv` function of the `numpy.linalg` module.\n",
    "\n",
    "The determinant of a matrix $A$ can be calculated using the `det` function of the `numpy.linalg` module."
   ],
   "metadata": {
    "collapsed": false
   },
   "id": "11e02ae727c7e519"
  },
  {
   "cell_type": "code",
   "execution_count": 3,
   "outputs": [
    {
     "name": "stdout",
     "output_type": "stream",
     "text": [
      "The solution vector is  [-6.  5.]\n"
     ]
    }
   ],
   "source": [
    "# create a coefficient matrix\n",
    "A = np.array([[0, 1], [-2, -3]])\n",
    "\n",
    "# create a constant vector\n",
    "c = np.array([5, -3])\n",
    "\n",
    "# solve the system of linear equations\n",
    "x = np.linalg.solve(A, c)\n",
    "\n",
    "# print the solution\n",
    "print('The solution vector is ',x)"
   ],
   "metadata": {
    "collapsed": false,
    "ExecuteTime": {
     "end_time": "2024-01-12T17:34:06.274544Z",
     "start_time": "2024-01-12T17:34:06.272016Z"
    }
   },
   "id": "46db9ff55287e6c2"
  },
  {
   "cell_type": "code",
   "execution_count": 4,
   "outputs": [
    {
     "name": "stdout",
     "output_type": "stream",
     "text": [
      "The solution vector is  [-6.  5.]\n"
     ]
    }
   ],
   "source": [
    "# calculate the inverse of the coefficient matrix\n",
    "A_inv = np.linalg.inv(A)\n",
    "\n",
    "# calculate the solution vector by multiplying the inverse with the constant vector\n",
    "x = np.dot(A_inv, c)\n",
    "\n",
    "# print the solution\n",
    "print('The solution vector is ',x)"
   ],
   "metadata": {
    "collapsed": false,
    "ExecuteTime": {
     "end_time": "2024-01-12T17:34:07.470092Z",
     "start_time": "2024-01-12T17:34:07.468426Z"
    }
   },
   "id": "793df96d71192dcd"
  },
  {
   "cell_type": "code",
   "execution_count": 5,
   "outputs": [
    {
     "name": "stdout",
     "output_type": "stream",
     "text": [
      "The inverse of the coefficient matrix is \n",
      "[[-1.5 -0.5]\n",
      " [ 1.   0. ]]\n",
      "\n",
      "The determinant is  2.0\n",
      "\n",
      "The rank is  2\n",
      "\n",
      "The eigenvalues are \n",
      "[-1. -2.]\n",
      "The eigenvectors (rows) are \n",
      "[[ 0.70710678 -0.70710678]\n",
      " [-0.4472136   0.89442719]]\n",
      "\n",
      "The norm is  3.7416573867739413\n",
      "\n",
      "The condition number is  6.8541019662496865\n"
     ]
    }
   ],
   "source": [
    "# print the inverse of the coefficient matrix\n",
    "print('The inverse of the coefficient matrix is ')\n",
    "print(A_inv)\n",
    "print()\n",
    "\n",
    "# print the determinant of the coefficient matrix\n",
    "print('The determinant is ',np.linalg.det(A))\n",
    "print()\n",
    "\n",
    "# print the rank of the coefficient matrix\n",
    "print('The rank is ',np.linalg.matrix_rank(A))\n",
    "print()\n",
    "\n",
    "# print the eigenvalues and eigenvectors of the coefficient matrix\n",
    "eigenvalues, eigenvectorsT = np.linalg.eig(A)\n",
    "\n",
    "# the eigenvectors are the columns of the eigenvectorsT matrix\n",
    "# taking the transpose of this matrix gives the eigenvectors as rows\n",
    "eigenvectors = eigenvectorsT.T\n",
    "print('The eigenvalues are ')\n",
    "print(eigenvalues)\n",
    "print('The eigenvectors (rows) are ')\n",
    "print(eigenvectors)\n",
    "print()\n",
    "\n",
    "# print the norm of the coefficient matrix\n",
    "print('The norm is ',np.linalg.norm(A))\n",
    "print()\n",
    "\n",
    "# print the condition number of the coefficient matrix\n",
    "print('The condition number is ',np.linalg.cond(A))\n",
    "print()"
   ],
   "metadata": {
    "collapsed": false,
    "ExecuteTime": {
     "end_time": "2024-01-12T17:34:09.353353Z",
     "start_time": "2024-01-12T17:34:09.351638Z"
    }
   },
   "id": "7e6af147ef82af05"
  },
  {
   "cell_type": "code",
   "execution_count": 6,
   "outputs": [
    {
     "name": "stdout",
     "output_type": "stream",
     "text": [
      "The coefficient matrix is \n",
      "Matrix([[0, 1], [-2, -3]])\n",
      "The inverse of the coefficient matrix is \n",
      "Matrix([[-3/2, -1/2], [1, 0]])\n",
      "The solution vector is \n",
      "Matrix([[-6], [5]])\n"
     ]
    }
   ],
   "source": [
    "# create a coefficient matrix using Sympy\n",
    "import sympy as sym\n",
    "As = sym.Matrix([[0, 1], [-2, -3]])\n",
    "\n",
    "print('The coefficient matrix is ')\n",
    "print(As)\n",
    "\n",
    "# calculate the inverse of the coefficient matrix\n",
    "As_inv = As.inv()\n",
    "print('The inverse of the coefficient matrix is ')\n",
    "print(As_inv)\n",
    "\n",
    "# calculate the solution vector by multiplying the inverse with the constant vector\n",
    "xs = As_inv * sym.Matrix([5, -3])\n",
    "\n",
    "# print the solution\n",
    "print('The solution vector is ')\n",
    "print(xs)\n"
   ],
   "metadata": {
    "collapsed": false,
    "ExecuteTime": {
     "end_time": "2024-01-12T17:34:19.655728Z",
     "start_time": "2024-01-12T17:34:19.385450Z"
    }
   },
   "id": "f5912bc6ff857e17"
  },
  {
   "cell_type": "code",
   "execution_count": 7,
   "outputs": [
    {
     "name": "stdout",
     "output_type": "stream",
     "text": [
      "The lambda matrix is \n",
      "Matrix([[lambda, 0], [0, lambda]])\n"
     ]
    }
   ],
   "source": [
    "lam = sym.symbols('lambda')\n",
    "lambda_matrix = sym.Matrix([[lam, 0], [0, lam]])\n",
    "print('The lambda matrix is ')\n",
    "print(lambda_matrix)"
   ],
   "metadata": {
    "collapsed": false,
    "ExecuteTime": {
     "end_time": "2024-01-12T17:34:22.387567Z",
     "start_time": "2024-01-12T17:34:22.385394Z"
    }
   },
   "id": "1b5b4c541edaad25"
  },
  {
   "cell_type": "code",
   "execution_count": 8,
   "outputs": [
    {
     "name": "stdout",
     "output_type": "stream",
     "text": [
      "The eigen matrix is \n",
      "Matrix([[-lambda, 1], [-2, -lambda - 3]])\n"
     ]
    }
   ],
   "source": [
    "eigen_matrix = As - lambda_matrix\n",
    "print('The eigen matrix is ')\n",
    "print(eigen_matrix)"
   ],
   "metadata": {
    "collapsed": false,
    "ExecuteTime": {
     "end_time": "2024-01-12T17:34:23.710155Z",
     "start_time": "2024-01-12T17:34:23.685935Z"
    }
   },
   "id": "6dc37743f36c1e36"
  },
  {
   "cell_type": "code",
   "execution_count": 9,
   "outputs": [
    {
     "name": "stdout",
     "output_type": "stream",
     "text": [
      "The determinant is \n",
      "lambda**2 + 3*lambda + 2\n"
     ]
    }
   ],
   "source": [
    "det = eigen_matrix.det()\n",
    "print('The determinant is ')\n",
    "print(det)"
   ],
   "metadata": {
    "collapsed": false,
    "ExecuteTime": {
     "end_time": "2024-01-12T17:34:24.529712Z",
     "start_time": "2024-01-12T17:34:24.528171Z"
    }
   },
   "id": "9f39021a16d70237"
  },
  {
   "cell_type": "code",
   "execution_count": 10,
   "outputs": [
    {
     "name": "stdout",
     "output_type": "stream",
     "text": [
      "The eigenvalues are \n",
      "[-2, -1]\n"
     ]
    }
   ],
   "source": [
    "eigenvalues = sym.solve(det)\n",
    "print('The eigenvalues are ')\n",
    "print(eigenvalues)"
   ],
   "metadata": {
    "collapsed": false,
    "ExecuteTime": {
     "end_time": "2024-01-12T17:34:25.314502Z",
     "start_time": "2024-01-12T17:34:25.305951Z"
    }
   },
   "id": "65a9389dcdfc645e"
  },
  {
   "cell_type": "code",
   "execution_count": 10,
   "outputs": [],
   "source": [],
   "metadata": {
    "collapsed": false,
    "ExecuteTime": {
     "end_time": "2024-01-12T17:34:26.095828Z",
     "start_time": "2024-01-12T17:34:26.093300Z"
    }
   },
   "id": "55ccce14d4e8b8ea"
  },
  {
   "cell_type": "code",
   "execution_count": 10,
   "outputs": [],
   "source": [],
   "metadata": {
    "collapsed": false,
    "ExecuteTime": {
     "end_time": "2024-01-12T17:34:26.618319Z",
     "start_time": "2024-01-12T17:34:26.615480Z"
    }
   },
   "id": "aa9d88c80862d84e"
  },
  {
   "cell_type": "code",
   "execution_count": 11,
   "outputs": [
    {
     "name": "stdout",
     "output_type": "stream",
     "text": [
      "For eigenvalue  -2  the eigenvectors are \n",
      "Matrix([[2, 1], [-2, -1]])\n",
      "Matrix([[2*x + y], [-2*x - y]])\n",
      "{x: -y/2}\n",
      "\n",
      "For eigenvalue  -1  the eigenvectors are \n",
      "Matrix([[1, 1], [-2, -2]])\n",
      "Matrix([[x + y], [-2*x - 2*y]])\n",
      "{x: -y}\n"
     ]
    }
   ],
   "source": [
    "eigenvectors = []\n",
    "for eigenvalue in eigenvalues:\n",
    "    print('For eigenvalue ',eigenvalue,' the eigenvectors are ')\n",
    "    print(eigen_matrix.subs(lam, eigenvalue))\n",
    "    x = sym.symbols('x')\n",
    "    y = sym.symbols('y')\n",
    "    evec = sym.Matrix([x, y])\n",
    "    print(eigen_matrix.subs(lam, eigenvalue) * evec)\n",
    "    print(sym.solve((eigen_matrix.subs(lam, eigenvalue) * evec)))\n",
    "    eigenvectors.append(sym.solve((eigen_matrix.subs(lam, eigenvalue) * evec)))\n",
    "    print()"
   ],
   "metadata": {
    "collapsed": false,
    "ExecuteTime": {
     "end_time": "2024-01-12T17:34:27.070740Z",
     "start_time": "2024-01-12T17:34:27.066999Z"
    }
   },
   "id": "aedd0beac735c102"
  },
  {
   "cell_type": "code",
   "execution_count": 12,
   "outputs": [
    {
     "name": "stdout",
     "output_type": "stream",
     "text": [
      "The eigenvalues are \n",
      "[-1. -2.]\n",
      "The eigenvectors (rows) are \n",
      "[[ 0.70710678 -0.70710678]\n",
      " [-0.4472136   0.89442719]]\n"
     ]
    }
   ],
   "source": [
    "# print the eigenvalues and eigenvectors of the coefficient matrix\n",
    "eigenvalues_linalg, eigenvectors_linalgT = np.linalg.eig(A)\n",
    "eigenvectors_linalg = eigenvectors_linalgT.T\n",
    "print('The eigenvalues are ')\n",
    "print(eigenvalues_linalg)\n",
    "print('The eigenvectors (rows) are ')\n",
    "print(eigenvectors_linalg)\n",
    "print()"
   ],
   "metadata": {
    "collapsed": false,
    "ExecuteTime": {
     "end_time": "2024-01-12T17:34:27.775811Z",
     "start_time": "2024-01-12T17:34:27.773770Z"
    }
   },
   "id": "8056a161ca2131c3"
  },
  {
   "cell_type": "code",
   "execution_count": 13,
   "outputs": [
    {
     "name": "stdout",
     "output_type": "stream",
     "text": [
      "[-2, -1]\n",
      "[{x: -y/2}, {x: -y}]\n"
     ]
    }
   ],
   "source": [
    "print(eigenvalues)\n",
    "print(eigenvectors)"
   ],
   "metadata": {
    "collapsed": false,
    "ExecuteTime": {
     "end_time": "2024-01-12T17:34:28.427944Z",
     "start_time": "2024-01-12T17:34:28.425607Z"
    }
   },
   "id": "b1666539faeb5ba6"
  },
  {
   "cell_type": "code",
   "execution_count": 14,
   "outputs": [
    {
     "name": "stdout",
     "output_type": "stream",
     "text": [
      "For eigenvalue  -1.0  matrix to be multiplied is \n",
      "[[ 1.  1.]\n",
      " [-2. -2.]]\n",
      "The eigenvector is \n",
      "[ 0.70710678 -0.70710678]\n",
      "The result of the matrix multiplication is \n",
      "[0. 0.]\n",
      "The sum of the elements of the result is \n",
      "0.0\n",
      "\n",
      "For eigenvalue  -2.0  matrix to be multiplied is \n",
      "[[ 2.  1.]\n",
      " [-2. -1.]]\n",
      "The eigenvector is \n",
      "[-0.4472136   0.89442719]\n",
      "The result of the matrix multiplication is \n",
      "[0. 0.]\n",
      "The sum of the elements of the result is \n",
      "0.0\n"
     ]
    }
   ],
   "source": [
    "# check the eigenvalues and eigenvectors\n",
    "for i in range(len(eigenvalues_linalg)):\n",
    "    print('For eigenvalue ',eigenvalues_linalg[i],' matrix to be multiplied is ')\n",
    "    print(A-eigenvalues_linalg[i]*np.identity(2))\n",
    "    print('The eigenvector is ')\n",
    "    print(eigenvectors_linalg[i])\n",
    "    result = np.dot(A-eigenvalues_linalg[i]*np.identity(2),eigenvectors_linalg[i])\n",
    "    print('The result of the matrix multiplication is ')\n",
    "    print(result)\n",
    "    sum_vals = 0.0\n",
    "    for j in range(len(result)):\n",
    "        sum_vals += result[j]\n",
    "    print('The sum of the elements of the result is ')\n",
    "    print(sum_vals)\n",
    "    print()"
   ],
   "metadata": {
    "collapsed": false,
    "ExecuteTime": {
     "end_time": "2024-01-12T17:34:28.997269Z",
     "start_time": "2024-01-12T17:34:28.995760Z"
    }
   },
   "id": "1f922ff181230e8f"
  },
  {
   "cell_type": "code",
   "execution_count": 15,
   "outputs": [
    {
     "name": "stdout",
     "output_type": "stream",
     "text": [
      "[[ 0  1]\n",
      " [-2 -3]]\n"
     ]
    }
   ],
   "source": [
    "print(A)"
   ],
   "metadata": {
    "collapsed": false,
    "ExecuteTime": {
     "end_time": "2024-01-12T17:34:29.967904Z",
     "start_time": "2024-01-12T17:34:29.965320Z"
    }
   },
   "id": "8e3c9cd9affdcb7c"
  },
  {
   "cell_type": "code",
   "execution_count": 16,
   "outputs": [
    {
     "name": "stdout",
     "output_type": "stream",
     "text": [
      "Eigenvalues\n",
      "[-1. -2.]\n",
      "Eigenvector matrix with eigenvectors as columns\n",
      "[[ 0.70710678 -0.4472136 ]\n",
      " [-0.70710678  0.89442719]]\n"
     ]
    }
   ],
   "source": [
    "print(\"Eigenvalues\")\n",
    "print(eigenvalues_linalg)\n",
    "print(\"Eigenvector matrix with eigenvectors as columns\")\n",
    "print(eigenvectors_linalgT)\n",
    "S = eigenvectors_linalgT"
   ],
   "metadata": {
    "collapsed": false,
    "ExecuteTime": {
     "end_time": "2024-01-12T17:34:30.687603Z",
     "start_time": "2024-01-12T17:34:30.684998Z"
    }
   },
   "id": "6121b99c15b1ba47"
  },
  {
   "cell_type": "code",
   "execution_count": 17,
   "outputs": [
    {
     "name": "stdout",
     "output_type": "stream",
     "text": [
      "Inverse of eigenvector matrix with eigenvectors as columns\n",
      "[[2.82842712 1.41421356]\n",
      " [2.23606798 2.23606798]]\n"
     ]
    }
   ],
   "source": [
    "Sinv = np.linalg.inv(S)\n",
    "print(\"Inverse of eigenvector matrix with eigenvectors as columns\")\n",
    "print(Sinv)"
   ],
   "metadata": {
    "collapsed": false,
    "ExecuteTime": {
     "end_time": "2024-01-12T17:34:31.596012Z",
     "start_time": "2024-01-12T17:34:31.594473Z"
    }
   },
   "id": "f754970d31482aa8"
  },
  {
   "cell_type": "code",
   "execution_count": 18,
   "outputs": [
    {
     "name": "stdout",
     "output_type": "stream",
     "text": [
      "Eigenvalue matrix (diagonal)\n",
      "[[-1.  0.]\n",
      " [ 0. -2.]]\n",
      "Eigenvalue matrix (diagonal) calculated from Sinv, A, S\n",
      "[[-1.00000000e+00 -4.36247471e-17]\n",
      " [ 6.33024397e-17 -2.00000000e+00]]\n"
     ]
    }
   ],
   "source": [
    "Lambda = np.diag(eigenvalues_linalg)\n",
    "print(\"Eigenvalue matrix (diagonal)\")\n",
    "print(Lambda)\n",
    "\n",
    "Lambda_Theory = np.dot(Sinv, np.dot(A,S))\n",
    "\n",
    "print(\"Eigenvalue matrix (diagonal) calculated from Sinv, A, S\")\n",
    "print(Lambda_Theory)\n"
   ],
   "metadata": {
    "collapsed": false,
    "ExecuteTime": {
     "end_time": "2024-01-12T17:34:32.262021Z",
     "start_time": "2024-01-12T17:34:32.259909Z"
    }
   },
   "id": "9c8dd0af2b96b659"
  },
  {
   "cell_type": "code",
   "execution_count": 19,
   "outputs": [
    {
     "name": "stdout",
     "output_type": "stream",
     "text": [
      "A calculated from S, Lambda, Sinv\n",
      "[[ 4.53932125e-17  1.00000000e+00]\n",
      " [-2.00000000e+00 -3.00000000e+00]]\n"
     ]
    }
   ],
   "source": [
    "A_Theory = np.dot(S, np.dot(Lambda, Sinv))\n",
    "print(\"A calculated from S, Lambda, Sinv\")\n",
    "print(A_Theory)"
   ],
   "metadata": {
    "collapsed": false,
    "ExecuteTime": {
     "end_time": "2024-01-12T17:34:33.242478Z",
     "start_time": "2024-01-12T17:34:33.240350Z"
    }
   },
   "id": "9d96163062bbf00e"
  },
  {
   "cell_type": "code",
   "execution_count": 18,
   "outputs": [],
   "source": [],
   "metadata": {
    "collapsed": false,
    "ExecuteTime": {
     "end_time": "2024-01-03T21:51:34.446308Z",
     "start_time": "2024-01-03T21:51:34.426711Z"
    }
   },
   "id": "872aaa897889c883"
  },
  {
   "cell_type": "code",
   "execution_count": null,
   "outputs": [],
   "source": [],
   "metadata": {
    "collapsed": false
   },
   "id": "c08a1b826b9293a8"
  }
 ],
 "metadata": {
  "kernelspec": {
   "display_name": "Python 3",
   "language": "python",
   "name": "python3"
  },
  "language_info": {
   "codemirror_mode": {
    "name": "ipython",
    "version": 2
   },
   "file_extension": ".py",
   "mimetype": "text/x-python",
   "name": "python",
   "nbconvert_exporter": "python",
   "pygments_lexer": "ipython2",
   "version": "2.7.6"
  }
 },
 "nbformat": 4,
 "nbformat_minor": 5
}
