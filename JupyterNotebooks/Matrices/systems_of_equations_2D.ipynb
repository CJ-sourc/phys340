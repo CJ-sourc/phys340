{
 "cells": [
  {
   "cell_type": "code",
   "execution_count": 1,
   "id": "initial_id",
   "metadata": {
    "collapsed": true,
    "ExecuteTime": {
     "end_time": "2023-12-26T16:00:41.981300Z",
     "start_time": "2023-12-26T16:00:41.144015Z"
    }
   },
   "outputs": [],
   "source": [
    "import numpy as np\n",
    "import matplotlib.pyplot as plt"
   ]
  },
  {
   "cell_type": "markdown",
   "source": [
    "# Eigenvalues and Eigenvectors\n",
    "\n",
    "Consider a square matrix $A$ of size $n \\times n$. If there exists a vector $x$ of size $n \\times 1$ and a scalar $\\lambda$ such that\n",
    "\n",
    "$$Ax = \\lambda x$$\n",
    "\n",
    "then $\\lambda$ is called an eigenvalue of $A$ and $x$ is called an eigenvector of $A$ corresponding to the eigenvalue $\\lambda$.\n",
    "\n",
    "The eigenvalues of a matrix $A$ are the roots of the characteristic equation\n",
    "\n",
    "$$det(A - \\lambda I) = 0$$\n",
    "\n",
    "where $I$ is the identity matrix of size $n \\times n$.\n",
    "\n",
    "The eigenvectors of a matrix $A$ are the vectors $x$ that satisfy the equation\n",
    "\n",
    "$$(A - \\lambda I)x = 0$$\n",
    "\n",
    "for some eigenvalue $\\lambda$.\n",
    "\n",
    "The eigenvalues and eigenvectors of a matrix $A$ can be calculated using the `eig` function of the `numpy.linalg` module.\n",
    "\n",
    "Consider the following matrix\n",
    "\n",
    "$$A = \\begin{bmatrix} 0 & 1 \\\\ -2 & -3 \\end{bmatrix}$$\n",
    "\n",
    "Consider also a constant vector $c$ of size $3 \\times 1$\n",
    "\n",
    "$$c = \\begin{bmatrix} 5 \\\\ -3 \\end{bmatrix}$$\n",
    "\n",
    "The solution of the system of linear equations $Ax = c$ can be calculated using the `solve` function of the `numpy.linalg` module.\n",
    "\n",
    "The inverse of a matrix $A$ can be calculated using the `inv` function of the `numpy.linalg` module.\n",
    "\n",
    "The determinant of a matrix $A$ can be calculated using the `det` function of the `numpy.linalg` module."
   ],
   "metadata": {
    "collapsed": false
   },
   "id": "11e02ae727c7e519"
  },
  {
   "cell_type": "code",
   "execution_count": 2,
   "outputs": [
    {
     "name": "stdout",
     "output_type": "stream",
     "text": [
      "The solution vector is  [-6.  5.]\n"
     ]
    }
   ],
   "source": [
    "# create a coefficient matrix\n",
    "A = np.array([[0, 1], [-2, -3]])\n",
    "\n",
    "# create a constant vector\n",
    "c = np.array([5, -3])\n",
    "\n",
    "# solve the system of linear equations\n",
    "x = np.linalg.solve(A, c)\n",
    "\n",
    "# print the solution\n",
    "print('The solution vector is ',x)"
   ],
   "metadata": {
    "collapsed": false,
    "ExecuteTime": {
     "end_time": "2023-12-26T16:00:41.990442Z",
     "start_time": "2023-12-26T16:00:41.984386Z"
    }
   },
   "id": "46db9ff55287e6c2"
  },
  {
   "cell_type": "code",
   "execution_count": 3,
   "outputs": [
    {
     "name": "stdout",
     "output_type": "stream",
     "text": [
      "The solution vector is  [-6.  5.]\n"
     ]
    }
   ],
   "source": [
    "# calculate the inverse of the coefficient matrix\n",
    "A_inv = np.linalg.inv(A)\n",
    "\n",
    "# calculate the solution vector by multiplying the inverse with the constant vector\n",
    "x = np.dot(A_inv, c)\n",
    "\n",
    "# print the solution\n",
    "print('The solution vector is ',x)"
   ],
   "metadata": {
    "collapsed": false,
    "ExecuteTime": {
     "end_time": "2023-12-26T16:00:42.001289Z",
     "start_time": "2023-12-26T16:00:41.991648Z"
    }
   },
   "id": "793df96d71192dcd"
  },
  {
   "cell_type": "code",
   "execution_count": 4,
   "outputs": [
    {
     "name": "stdout",
     "output_type": "stream",
     "text": [
      "The inverse of the coefficient matrix is \n",
      "[[-1.5 -0.5]\n",
      " [ 1.   0. ]]\n",
      "\n",
      "The determinant is  2.0\n",
      "\n",
      "The rank is  2\n",
      "\n",
      "The eigenvalues are \n",
      "[-1. -2.]\n",
      "The eigenvectors are \n",
      "[[ 0.70710678 -0.70710678]\n",
      " [-0.4472136   0.89442719]]\n",
      "\n",
      "The norm is  3.7416573867739413\n",
      "\n",
      "The condition number is  6.8541019662496865\n"
     ]
    }
   ],
   "source": [
    "# print the inverse of the coefficient matrix\n",
    "print('The inverse of the coefficient matrix is ')\n",
    "print(A_inv)\n",
    "print()\n",
    "\n",
    "# print the determinant of the coefficient matrix\n",
    "print('The determinant is ',np.linalg.det(A))\n",
    "print()\n",
    "\n",
    "# print the rank of the coefficient matrix\n",
    "print('The rank is ',np.linalg.matrix_rank(A))\n",
    "print()\n",
    "\n",
    "# print the eigenvalues and eigenvectors of the coefficient matrix\n",
    "eigenvalues, eigenvectorsT = np.linalg.eig(A)\n",
    "eigenvectors = eigenvectorsT.T\n",
    "print('The eigenvalues are ')\n",
    "print(eigenvalues)\n",
    "print('The eigenvectors are ')\n",
    "print(eigenvectors)\n",
    "print()\n",
    "\n",
    "# print the norm of the coefficient matrix\n",
    "print('The norm is ',np.linalg.norm(A))\n",
    "print()\n",
    "\n",
    "# print the condition number of the coefficient matrix\n",
    "print('The condition number is ',np.linalg.cond(A))\n",
    "print()"
   ],
   "metadata": {
    "collapsed": false,
    "ExecuteTime": {
     "end_time": "2023-12-26T16:00:42.030756Z",
     "start_time": "2023-12-26T16:00:42.003585Z"
    }
   },
   "id": "7e6af147ef82af05"
  },
  {
   "cell_type": "code",
   "execution_count": 5,
   "outputs": [
    {
     "name": "stdout",
     "output_type": "stream",
     "text": [
      "The coefficient matrix is \n",
      "Matrix([[0, 1], [-2, -3]])\n",
      "The inverse of the coefficient matrix is \n",
      "Matrix([[-3/2, -1/2], [1, 0]])\n",
      "The solution vector is \n",
      "Matrix([[-6], [5]])\n"
     ]
    }
   ],
   "source": [
    "# create a coefficient matrix using Sympy\n",
    "import sympy as sym\n",
    "As = sym.Matrix([[0, 1], [-2, -3]])\n",
    "\n",
    "print('The coefficient matrix is ')\n",
    "print(As)\n",
    "\n",
    "# calculate the inverse of the coefficient matrix\n",
    "As_inv = As.inv()\n",
    "print('The inverse of the coefficient matrix is ')\n",
    "print(As_inv)\n",
    "\n",
    "# calculate the solution vector by multiplying the inverse with the constant vector\n",
    "xs = As_inv * sym.Matrix([5, -3])\n",
    "\n",
    "# print the solution\n",
    "print('The solution vector is ')\n",
    "print(xs)\n"
   ],
   "metadata": {
    "collapsed": false,
    "ExecuteTime": {
     "end_time": "2023-12-26T16:00:42.620720Z",
     "start_time": "2023-12-26T16:00:42.013336Z"
    }
   },
   "id": "f5912bc6ff857e17"
  },
  {
   "cell_type": "code",
   "execution_count": 6,
   "outputs": [
    {
     "name": "stdout",
     "output_type": "stream",
     "text": [
      "The lambda matrix is \n",
      "Matrix([[lambda, 0], [0, lambda]])\n"
     ]
    }
   ],
   "source": [
    "\n",
    "\n",
    "lam = sym.symbols('lambda')\n",
    "lambda_matrix = sym.Matrix([[lam, 0], [0, lam]])\n",
    "print('The lambda matrix is ')\n",
    "print(lambda_matrix)"
   ],
   "metadata": {
    "collapsed": false,
    "ExecuteTime": {
     "end_time": "2023-12-26T16:00:42.621238Z",
     "start_time": "2023-12-26T16:00:42.576039Z"
    }
   },
   "id": "1b5b4c541edaad25"
  },
  {
   "cell_type": "code",
   "execution_count": 7,
   "outputs": [
    {
     "name": "stdout",
     "output_type": "stream",
     "text": [
      "The eigen matrix is \n",
      "Matrix([[-lambda, 1], [-2, -lambda - 3]])\n"
     ]
    }
   ],
   "source": [
    "eigen_matrix = As - lambda_matrix\n",
    "print('The eigen matrix is ')\n",
    "print(eigen_matrix)"
   ],
   "metadata": {
    "collapsed": false,
    "ExecuteTime": {
     "end_time": "2023-12-26T16:00:42.621818Z",
     "start_time": "2023-12-26T16:00:42.576221Z"
    }
   },
   "id": "6dc37743f36c1e36"
  },
  {
   "cell_type": "code",
   "execution_count": 8,
   "outputs": [
    {
     "name": "stdout",
     "output_type": "stream",
     "text": [
      "The determinant is \n",
      "lambda**2 + 3*lambda + 2\n"
     ]
    }
   ],
   "source": [
    "det = eigen_matrix.det()\n",
    "print('The determinant is ')\n",
    "print(det)"
   ],
   "metadata": {
    "collapsed": false,
    "ExecuteTime": {
     "end_time": "2023-12-26T16:00:42.622056Z",
     "start_time": "2023-12-26T16:00:42.591386Z"
    }
   },
   "id": "9f39021a16d70237"
  },
  {
   "cell_type": "code",
   "execution_count": 9,
   "outputs": [
    {
     "name": "stdout",
     "output_type": "stream",
     "text": [
      "The eigenvalues are \n",
      "[-2, -1]\n"
     ]
    }
   ],
   "source": [
    "eigenvalues = sym.solve(det)\n",
    "print('The eigenvalues are ')\n",
    "print(eigenvalues)"
   ],
   "metadata": {
    "collapsed": false,
    "ExecuteTime": {
     "end_time": "2023-12-26T16:00:42.622231Z",
     "start_time": "2023-12-26T16:00:42.598720Z"
    }
   },
   "id": "65a9389dcdfc645e"
  },
  {
   "cell_type": "code",
   "execution_count": 9,
   "outputs": [],
   "source": [],
   "metadata": {
    "collapsed": false,
    "ExecuteTime": {
     "end_time": "2023-12-26T16:00:42.637037Z",
     "start_time": "2023-12-26T16:00:42.618107Z"
    }
   },
   "id": "55ccce14d4e8b8ea"
  },
  {
   "cell_type": "code",
   "execution_count": 9,
   "outputs": [],
   "source": [],
   "metadata": {
    "collapsed": false,
    "ExecuteTime": {
     "end_time": "2023-12-26T16:00:42.637542Z",
     "start_time": "2023-12-26T16:00:42.623131Z"
    }
   },
   "id": "aa9d88c80862d84e"
  },
  {
   "cell_type": "code",
   "execution_count": 10,
   "outputs": [
    {
     "name": "stdout",
     "output_type": "stream",
     "text": [
      "For eigenvalue  -2  the eigenvectors are \n",
      "Matrix([[2, 1], [-2, -1]])\n",
      "Matrix([[2*x + y], [-2*x - y]])\n",
      "{x: -y/2}\n",
      "\n",
      "For eigenvalue  -1  the eigenvectors are \n",
      "Matrix([[1, 1], [-2, -2]])\n",
      "Matrix([[x + y], [-2*x - 2*y]])\n",
      "{x: -y}\n"
     ]
    }
   ],
   "source": [
    "eigenvectors = []\n",
    "for eigenvalue in eigenvalues:\n",
    "    print('For eigenvalue ',eigenvalue,' the eigenvectors are ')\n",
    "    print(eigen_matrix.subs(lam, eigenvalue))\n",
    "    x = sym.symbols('x')\n",
    "    y = sym.symbols('y')\n",
    "    evec = sym.Matrix([x, y])\n",
    "    print(eigen_matrix.subs(lam, eigenvalue) * evec)\n",
    "    print(sym.solve((eigen_matrix.subs(lam, eigenvalue) * evec)))\n",
    "    eigenvectors.append(sym.solve((eigen_matrix.subs(lam, eigenvalue) * evec)))\n",
    "    print()"
   ],
   "metadata": {
    "collapsed": false,
    "ExecuteTime": {
     "end_time": "2023-12-26T16:00:42.740680Z",
     "start_time": "2023-12-26T16:00:42.646837Z"
    }
   },
   "id": "aedd0beac735c102"
  },
  {
   "cell_type": "code",
   "execution_count": 11,
   "outputs": [
    {
     "name": "stdout",
     "output_type": "stream",
     "text": [
      "The eigenvalues are \n",
      "[-1. -2.]\n",
      "The eigenvectors are \n",
      "[[ 0.70710678 -0.70710678]\n",
      " [-0.4472136   0.89442719]]\n"
     ]
    }
   ],
   "source": [
    "# print the eigenvalues and eigenvectors of the coefficient matrix\n",
    "eigenvalues_linalg, eigenvectors_linalgT = np.linalg.eig(A)\n",
    "eigenvectors_linalg = eigenvectors_linalgT.T\n",
    "print('The eigenvalues are ')\n",
    "print(eigenvalues_linalg)\n",
    "print('The eigenvectors are ')\n",
    "print(eigenvectors_linalg)\n",
    "print()"
   ],
   "metadata": {
    "collapsed": false,
    "ExecuteTime": {
     "end_time": "2023-12-26T16:00:42.741767Z",
     "start_time": "2023-12-26T16:00:42.662418Z"
    }
   },
   "id": "8056a161ca2131c3"
  },
  {
   "cell_type": "code",
   "execution_count": 12,
   "outputs": [
    {
     "name": "stdout",
     "output_type": "stream",
     "text": [
      "[-2, -1]\n",
      "[{x: -y/2}, {x: -y}]\n"
     ]
    }
   ],
   "source": [
    "print(eigenvalues)\n",
    "print(eigenvectors)"
   ],
   "metadata": {
    "collapsed": false,
    "ExecuteTime": {
     "end_time": "2023-12-26T16:00:42.742296Z",
     "start_time": "2023-12-26T16:00:42.673117Z"
    }
   },
   "id": "b1666539faeb5ba6"
  },
  {
   "cell_type": "code",
   "execution_count": 13,
   "outputs": [
    {
     "name": "stdout",
     "output_type": "stream",
     "text": [
      "For eigenvalue  -1.0  matrix to be multiplied is \n",
      "[[ 1.  1.]\n",
      " [-2. -2.]]\n",
      "The eigenvector is \n",
      "[ 0.70710678 -0.70710678]\n",
      "The result of the matrix multiplication is \n",
      "[0. 0.]\n",
      "The sum of the elements of the result is \n",
      "0.0\n",
      "\n",
      "For eigenvalue  -2.0  matrix to be multiplied is \n",
      "[[ 2.  1.]\n",
      " [-2. -1.]]\n",
      "The eigenvector is \n",
      "[-0.4472136   0.89442719]\n",
      "The result of the matrix multiplication is \n",
      "[0. 0.]\n",
      "The sum of the elements of the result is \n",
      "0.0\n"
     ]
    }
   ],
   "source": [
    "# check the eigenvalues and eigenvectors\n",
    "for i in range(len(eigenvalues_linalg)):\n",
    "    print('For eigenvalue ',eigenvalues_linalg[i],' matrix to be multiplied is ')\n",
    "    print(A-eigenvalues_linalg[i]*np.identity(2))\n",
    "    print('The eigenvector is ')\n",
    "    print(eigenvectors_linalg[i])\n",
    "    result = np.dot(A-eigenvalues_linalg[i]*np.identity(2),eigenvectors_linalg[i])\n",
    "    print('The result of the matrix multiplication is ')\n",
    "    print(result)\n",
    "    sum_vals = 0.0\n",
    "    for j in range(len(result)):\n",
    "        sum_vals += result[j]\n",
    "    print('The sum of the elements of the result is ')\n",
    "    print(sum_vals)\n",
    "    print()"
   ],
   "metadata": {
    "collapsed": false,
    "ExecuteTime": {
     "end_time": "2023-12-26T16:00:42.742790Z",
     "start_time": "2023-12-26T16:00:42.681862Z"
    }
   },
   "id": "1f922ff181230e8f"
  },
  {
   "cell_type": "code",
   "execution_count": 13,
   "outputs": [],
   "source": [],
   "metadata": {
    "collapsed": false,
    "ExecuteTime": {
     "end_time": "2023-12-26T16:00:42.742966Z",
     "start_time": "2023-12-26T16:00:42.693039Z"
    }
   },
   "id": "8e3c9cd9affdcb7c"
  },
  {
   "cell_type": "code",
   "execution_count": 13,
   "outputs": [],
   "source": [],
   "metadata": {
    "collapsed": false,
    "ExecuteTime": {
     "end_time": "2023-12-26T16:00:42.743203Z",
     "start_time": "2023-12-26T16:00:42.697703Z"
    }
   },
   "id": "6121b99c15b1ba47"
  }
 ],
 "metadata": {
  "kernelspec": {
   "display_name": "Python 3",
   "language": "python",
   "name": "python3"
  },
  "language_info": {
   "codemirror_mode": {
    "name": "ipython",
    "version": 2
   },
   "file_extension": ".py",
   "mimetype": "text/x-python",
   "name": "python",
   "nbconvert_exporter": "python",
   "pygments_lexer": "ipython2",
   "version": "2.7.6"
  }
 },
 "nbformat": 4,
 "nbformat_minor": 5
}
