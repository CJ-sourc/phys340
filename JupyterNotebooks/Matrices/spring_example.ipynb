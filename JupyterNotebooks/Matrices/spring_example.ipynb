{
 "cells": [
  {
   "cell_type": "markdown",
   "source": [
    "# Coupled Second Order ODEs\n",
    "\n",
    "Consider the following system of coupled second order ODEs:\n",
    "\n",
    "$$\\begin{equatin}\n",
    "m_1 \\frac{d^2y_1}{dt^2} =  -k_1 y_1 + k_2 (y_2 - y_1)\\\\\n",
    "m_2 \\frac{d^2y_2}{dt^2} =  -k_2 (y_2 - y_1)\n",
    "\\end{equation}$$\n",
    "\n",
    "where $y_1$ and $y_2$ are the displacements of two masses $m_1$ and $m_2$ from their equilibrium positions, and $k_1$ and $k_2$ are the spring constants of two springs.  The displacements are measured from the equilibrium positions, so that $y_1 = 0$ and $y_2 = 0$ are the equilibrium positions.  The displacements are measured in meters, the masses in kilograms, and the spring constants in N/m.\n",
    "\n",
    "The system can be written in matrix form as\n",
    "\n",
    "$$\\begin{equation}\n",
    "\\begin{bmatrix}\n",
    "\\frac{d^2y_1}{dt^2}\\\\\n",
    "\\frac{d^2y_2}{dt^2}\n",
    "\\end{bmatrix}\n",
    "=\n",
    "\\begin{bmatrix}\n",
    "-\\frac{(k_1+k_2)}{m_1} & \\frac{k_2}{m_1}\\\\\n",
    "\\frac{k_2}{m_2} & -\\frac{k_2}{m_2}\n",
    "\\end{bmatrix}\n",
    "\\begin{bmatrix}\n",
    "y_1\\\\\n",
    "y_2\n",
    "\\end{bmatrix}\n",
    "\\end{equation}$$\n",
    "\n",
    "For the case where $m_1 = m_2 = 1$ kg, $k_1 = 3$ N/m, and $k_2 = 2$ N/m, the system can be written as\n",
    "\n",
    "$$\\begin{equation}\n",
    "\\begin{bmatrix}\n",
    "\\frac{d^2y_1}{dt^2}\\\\\n",
    "\\frac{d^2y_2}{dt^2}\n",
    "\\end{bmatrix}\n",
    "=\n",
    "\\begin{bmatrix}\n",
    "-5 & 2\\\\\n",
    "2 & -2\n",
    "\\end{bmatrix}\n",
    "\\begin{bmatrix}\n",
    "y_1\\\\\n",
    "y_2\n",
    "\\end{bmatrix}\n",
    "\\end{equation}$$\n",
    "\n",
    " "
   ],
   "metadata": {
    "collapsed": false
   },
   "id": "89a1c93afb49b69"
  },
  {
   "cell_type": "code",
   "execution_count": 24,
   "outputs": [
    {
     "name": "stdout",
     "output_type": "stream",
     "text": [
      "The eigenvalues are \n",
      "[-6. -1.]\n",
      "The eigenvectors (columns) are \n",
      "[[-0.89442719 -0.4472136 ]\n",
      " [ 0.4472136  -0.89442719]]\n"
     ]
    }
   ],
   "source": [
    "import numpy as np\n",
    "\n",
    "# create a coefficient matrix\n",
    "A = np.array([[-5, 2], [2, -2]])\n",
    "\n",
    "# print the eigenvalues and eigenvectors of the coefficient matrix\n",
    "eigenvalues, eigenvectorsT = np.linalg.eig(A)\n",
    "\n",
    "# the eigenvectors are the columns of the eigenvectorsT matrix\n",
    "# taking the transpose of this matrix gives the eigenvectors as rows\n",
    "eigenvectors = eigenvectorsT.T\n",
    "print('The eigenvalues are ')\n",
    "print(eigenvalues)\n",
    "print('The eigenvectors (columns) are ')\n",
    "print(eigenvectorsT)\n",
    "print()"
   ],
   "metadata": {
    "collapsed": false,
    "ExecuteTime": {
     "end_time": "2023-12-29T13:43:12.760470Z",
     "start_time": "2023-12-29T13:43:12.750093Z"
    }
   },
   "id": "initial_id"
  },
  {
   "cell_type": "code",
   "execution_count": 28,
   "outputs": [
    {
     "name": "stdout",
     "output_type": "stream",
     "text": [
      "Matrix([[r1], [r2]])\n",
      "Matrix([[-0.894427190999916, -0.447213595499958], [0.447213595499958, -0.894427190999916]])\n",
      "Matrix([[-0.894427190999916, 0.447213595499958], [-0.447213595499958, -0.894427190999916]])\n",
      "The solution is\n",
      "Matrix([[-0.894427190999916*r1 - 0.447213595499958*r2], [0.447213595499958*r1 - 0.894427190999916*r2]])\n",
      "r1(0) =  k1\n",
      "r2(0) =  k2\n",
      "r1dot(0) =  2.44948974278318*c1\n",
      "r2dot(0) =  1.0*c2\n"
     ]
    }
   ],
   "source": [
    "import sympy as sym\n",
    "\n",
    "# create a solution matrix\n",
    "R = sym.Matrix([sym.symbols('r1'), sym.symbols('r2')])\n",
    "print(R)\n",
    "\n",
    "# create a matrix of eigenvectors\n",
    "S = sym.Matrix(eigenvectorsT)\n",
    "print(S)\n",
    "\n",
    "# create a diagonal matrix of eigenvalues\n",
    "L = sym.Matrix([[eigenvalues[0], 0], [0, eigenvalues[1]]])\n",
    "\n",
    "# create the inverse of the matrix of eigenvectors\n",
    "Sinv = S.inv()\n",
    "print(Sinv)\n",
    "\n",
    "if (eigenvalues[0] > 0 ):\n",
    "    r1 = sym.symbols('c1')*sym.exp(sym.sqrt(eigenvalues[0]) * sym.symbols('t')) + sym.symbols('k1')*sym.exp(-sym.sqrt(eigenvalues[0]) * sym.symbols('t'))\n",
    "else:\n",
    "    r1 = sym.symbols('c1') * sym.sin(sym.sqrt(-eigenvalues[0]) * sym.symbols('t')) + sym.symbols('k1') * sym.cos(sym.sqrt(-eigenvalues[0]) * sym.symbols('t'))\n",
    "\n",
    "if (eigenvalues[1] > 0 ):\n",
    "    r2 = sym.symbols('c1')*sym.exp(sym.sqrt(eigenvalues[1]) * sym.symbols('t')) + sym.symbols('k1')*sym.exp(-sym.sqrt(eigenvalues[1]) * sym.symbols('t'))\n",
    "else:\n",
    "    r2 = sym.symbols('c2') * sym.sin(sym.sqrt(-eigenvalues[1]) * sym.symbols('t')) + sym.symbols('k2') * sym.cos(sym.sqrt(-eigenvalues[1]) * sym.symbols('t'))\n",
    "\n",
    "Y = S * R\n",
    "\n",
    "print('The solution is')\n",
    "print(Y)\n",
    "\n",
    "print('r1(0) = ',r1.subs(sym.symbols('t'),0).subs(sym.symbols('t'),0))\n",
    "print('r2(0) = ',r2.subs(sym.symbols('t'),0).subs(sym.symbols('t'),0))\n",
    "\n",
    "print('r1dot(0) = ',sym.diff(r1,sym.symbols('t')).subs(sym.symbols('t'),0))\n",
    "print('r2dot(0) = ',sym.diff(r2,sym.symbols('t')).subs(sym.symbols('t'),0))\n",
    "\n",
    "\n"
   ],
   "metadata": {
    "collapsed": false,
    "ExecuteTime": {
     "end_time": "2023-12-29T13:44:58.423763Z",
     "start_time": "2023-12-29T13:44:58.410016Z"
    }
   },
   "id": "49606853ee497903"
  },
  {
   "cell_type": "code",
   "execution_count": 29,
   "outputs": [
    {
     "name": "stdout",
     "output_type": "stream",
     "text": [
      "Matrix([[-0.894427190999916*k1 - 0.447213595499958*k2], [0.447213595499958*k1 - 0.894427190999916*k2]])\n",
      "Matrix([[-2.19089023002066*c1 - 0.447213595499958*c2], [1.09544511501033*c1 - 0.894427190999916*c2]])\n",
      "Matrix([[y10], [y20]])\n",
      "Matrix([[y10dot], [y20dot]])\n",
      "Matrix([[1], [2]])\n",
      "Matrix([[-4.89897948556636], [2.44948974278318]])\n"
     ]
    }
   ],
   "source": [
    "Y0 = S * R.subs(sym.symbols('r1'),r1).subs(sym.symbols('r2'),r2)\n",
    "Y0 = Y0.subs(sym.symbols('t'),0)\n",
    "print(Y0)\n",
    "\n",
    "Y0dot = S * R.subs(sym.symbols('r1'),sym.diff(r1,sym.symbols('t'))).subs(sym.symbols('r2'),sym.diff(r2,sym.symbols('t')))\n",
    "Y0dot = Y0dot.subs(sym.symbols('t'),0)\n",
    "print(Y0dot)\n",
    "\n",
    "Y0val = sym.Matrix([sym.symbols('y10'), sym.symbols('y20')])\n",
    "print(Y0val)\n",
    "\n",
    "Y0dotval = sym.Matrix([sym.symbols('y10dot'), sym.symbols('y20dot')])\n",
    "print(Y0dotval)\n",
    "\n",
    "# Initial conditions\n",
    "\n",
    "y10 = 1\n",
    "y20 = 2\n",
    "y10dot = -2*np.sqrt(6)\n",
    "y20dot = np.sqrt(6)\n",
    "\n",
    "Y0val = Y0val.subs(sym.symbols('y10'),y10).subs(sym.symbols('y20'),y20)\n",
    "Y0dotval = Y0dotval.subs(sym.symbols('y10dot'),y10dot).subs(sym.symbols('y20dot'),y20dot)\n",
    "\n",
    "print(Y0val)\n",
    "print(Y0dotval)"
   ],
   "metadata": {
    "collapsed": false,
    "ExecuteTime": {
     "end_time": "2023-12-29T13:45:14.145098Z",
     "start_time": "2023-12-29T13:45:14.131136Z"
    }
   },
   "id": "d8de2baffc4d43d0"
  },
  {
   "cell_type": "code",
   "execution_count": 31,
   "outputs": [],
   "source": [
    "constant_dict = sym.solve([Y0val[0] - Y0[0], Y0val[1] - Y0[1], Y0dotval[0] - Y0dot[0], Y0dotval[1] - Y0dot[1]], [sym.symbols('c1'), sym.symbols('c2'), sym.symbols('k1'), sym.symbols('k2')])"
   ],
   "metadata": {
    "collapsed": false,
    "ExecuteTime": {
     "end_time": "2023-12-29T13:46:15.118359Z",
     "start_time": "2023-12-29T13:46:15.076307Z"
    }
   },
   "id": "f8a8083e955038d9"
  },
  {
   "cell_type": "code",
   "execution_count": 35,
   "outputs": [
    {
     "name": "stdout",
     "output_type": "stream",
     "text": [
      "2.23606797749980\n",
      "0.0\n",
      "0.0\n",
      "-2.23606797749979\n"
     ]
    }
   ],
   "source": [
    "print(constant_dict[sym.symbols('c1')])\n",
    "print(constant_dict[sym.symbols('c2')])\n",
    "print(constant_dict[sym.symbols('k1')])\n",
    "print(constant_dict[sym.symbols('k2')])\n"
   ],
   "metadata": {
    "collapsed": false,
    "ExecuteTime": {
     "end_time": "2023-12-29T13:47:06.595211Z",
     "start_time": "2023-12-29T13:47:06.583908Z"
    }
   },
   "id": "57116b65c890286d"
  },
  {
   "cell_type": "code",
   "execution_count": 38,
   "outputs": [
    {
     "name": "stdout",
     "output_type": "stream",
     "text": [
      "Matrix([[-2.00000000000001*sin(2.44948974278318*t) + 1.0*cos(1.0*t)], [1.0*sin(2.44948974278318*t) + 2.0*cos(1.0*t)]])\n"
     ]
    }
   ],
   "source": [
    "Y_solution = Y.subs(sym.symbols('r1'),r1).subs(sym.symbols('r2'),r2)\n",
    "Y_solution = Y_solution.subs(sym.symbols('c1'),constant_dict[sym.symbols('c1')]).subs(sym.symbols('c2'),constant_dict[sym.symbols('c2')]).subs(sym.symbols('k1'),constant_dict[sym.symbols('k1')]).subs(sym.symbols('k2'),constant_dict[sym.symbols('k2')])\n",
    "Y_solution = Y_solution.subs(sym.symbols('r1'),r1).subs(sym.symbols('r2'),r2)\n",
    "print(Y_solution)"
   ],
   "metadata": {
    "collapsed": false,
    "ExecuteTime": {
     "end_time": "2023-12-29T13:48:35.003025Z",
     "start_time": "2023-12-29T13:48:34.993383Z"
    }
   },
   "id": "4b23aed52fdb11d9"
  },
  {
   "cell_type": "code",
   "execution_count": null,
   "outputs": [],
   "source": [],
   "metadata": {
    "collapsed": false
   },
   "id": "d8912d9dc533394e"
  }
 ],
 "metadata": {
  "kernelspec": {
   "display_name": "Python 3",
   "language": "python",
   "name": "python3"
  },
  "language_info": {
   "codemirror_mode": {
    "name": "ipython",
    "version": 2
   },
   "file_extension": ".py",
   "mimetype": "text/x-python",
   "name": "python",
   "nbconvert_exporter": "python",
   "pygments_lexer": "ipython2",
   "version": "2.7.6"
  }
 },
 "nbformat": 4,
 "nbformat_minor": 5
}
