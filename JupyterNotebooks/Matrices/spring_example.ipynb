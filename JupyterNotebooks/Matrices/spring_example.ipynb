{
 "cells": [
  {
   "cell_type": "markdown",
   "source": [
    "# Coupled Second Order ODEs\n",
    "\n",
    "Consider the following system of coupled second order ODEs:\n",
    "\n",
    "$$\\begin{equatin}\n",
    "m_1 \\frac{d^2y_1}{dt^2} =  -k_1 y_1 + k_2 (y_2 - y_1)\\\\\n",
    "m_2 \\frac{d^2y_2}{dt^2} =  -k_2 (y_2 - y_1)\n",
    "\\end{equation}$$\n",
    "\n",
    "where $y_1$ and $y_2$ are the displacements of two masses $m_1$ and $m_2$ from their equilibrium positions, and $k_1$ and $k_2$ are the spring constants of two springs.  The displacements are measured from the equilibrium positions, so that $y_1 = 0$ and $y_2 = 0$ are the equilibrium positions.  The displacements are measured in meters, the masses in kilograms, and the spring constants in N/m.\n",
    "\n",
    "The system can be written in matrix form as\n",
    "\n",
    "$$\\begin{equation}\n",
    "\\begin{bmatrix}\n",
    "\\frac{d^2y_1}{dt^2}\\\\\n",
    "\\frac{d^2y_2}{dt^2}\n",
    "\\end{bmatrix}\n",
    "=\n",
    "\\begin{bmatrix}\n",
    "-\\frac{(k_1+k_2)}{m_1} & \\frac{k_2}{m_1}\\\\\n",
    "\\frac{k_2}{m_2} & -\\frac{k_2}{m_2}\n",
    "\\end{bmatrix}\n",
    "\\begin{bmatrix}\n",
    "y_1\\\\\n",
    "y_2\n",
    "\\end{bmatrix}\n",
    "\\end{equation}$$\n",
    "\n",
    "For the case where $m_1 = m_2 = 1$ kg, $k_1 = 3$ N/m, and $k_2 = 2$ N/m, the system can be written as\n",
    "\n",
    "$$\\begin{equation}\n",
    "\\begin{bmatrix}\n",
    "\\frac{d^2y_1}{dt^2}\\\\\n",
    "\\frac{d^2y_2}{dt^2}\n",
    "\\end{bmatrix}\n",
    "=\n",
    "\\begin{bmatrix}\n",
    "-5 & 2\\\\\n",
    "2 & -2\n",
    "\\end{bmatrix}\n",
    "\\begin{bmatrix}\n",
    "y_1\\\\\n",
    "y_2\n",
    "\\end{bmatrix}\n",
    "\\end{equation}$$\n",
    "\n",
    " "
   ],
   "metadata": {
    "collapsed": false
   },
   "id": "89a1c93afb49b69"
  },
  {
   "cell_type": "code",
   "execution_count": 1,
   "outputs": [
    {
     "name": "stdout",
     "output_type": "stream",
     "text": [
      "The eigenvalues are \n",
      "[-6. -1.]\n",
      "The eigenvectors (rows) are \n",
      "[[-0.89442719  0.4472136 ]\n",
      " [-0.4472136  -0.89442719]]\n"
     ]
    }
   ],
   "source": [
    "import numpy as np\n",
    "\n",
    "# create a coefficient matrix\n",
    "A = np.array([[-5, 2], [2, -2]])\n",
    "\n",
    "# print the eigenvalues and eigenvectors of the coefficient matrix\n",
    "eigenvalues, eigenvectorsT = np.linalg.eig(A)\n",
    "\n",
    "# the eigenvectors are the columns of the eigenvectorsT matrix\n",
    "# taking the transpose of this matrix gives the eigenvectors as rows\n",
    "eigenvectors = eigenvectorsT.T\n",
    "print('The eigenvalues are ')\n",
    "print(eigenvalues)\n",
    "print('The eigenvectors (rows) are ')\n",
    "print(eigenvectors)\n",
    "print()"
   ],
   "metadata": {
    "collapsed": false,
    "ExecuteTime": {
     "end_time": "2023-12-28T12:56:53.552539Z",
     "start_time": "2023-12-28T12:56:53.344256Z"
    }
   },
   "id": "initial_id"
  },
  {
   "cell_type": "code",
   "execution_count": 2,
   "outputs": [
    {
     "name": "stdout",
     "output_type": "stream",
     "text": [
      "Matrix([[r1(t)], [r2(t)]])\n",
      "Matrix([[-0.894427190999916, 0.447213595499958], [-0.447213595499958, -0.894427190999916]])\n",
      "Matrix([[-0.894427190999916, -0.447213595499958], [0.447213595499958, -0.894427190999916]])\n",
      "The solution is\n",
      "Matrix([[-0.894427190999916*r1(t) + 0.447213595499958*r2(t)], [-0.447213595499958*r1(t) - 0.894427190999916*r2(t)]])\n"
     ]
    }
   ],
   "source": [
    "import sympy as sym\n",
    "\n",
    "# create a solution matrix\n",
    "R = sym.Matrix([sym.Function('r1')(sym.symbols('t')), sym.Function('r2')(sym.symbols('t'))])\n",
    "print(R)\n",
    "\n",
    "# create a matrix of eigenvectors\n",
    "S = sym.Matrix(eigenvectors)\n",
    "print(S)\n",
    "\n",
    "# create a diagonal matrix of eigenvalues\n",
    "L = sym.Matrix([[eigenvalues[0], 0], [0, eigenvalues[1]]])\n",
    "\n",
    "# create the inverse of the matrix of eigenvectors\n",
    "Sinv = S.inv()\n",
    "print(Sinv)\n",
    "\n",
    "Y = S * R\n",
    "\n",
    "print('The solution is')\n",
    "print(Y)\n"
   ],
   "metadata": {
    "collapsed": false,
    "ExecuteTime": {
     "end_time": "2023-12-28T12:56:54.206687Z",
     "start_time": "2023-12-28T12:56:53.555053Z"
    }
   },
   "id": "49606853ee497903"
  },
  {
   "cell_type": "code",
   "execution_count": 2,
   "outputs": [],
   "source": [],
   "metadata": {
    "collapsed": false,
    "ExecuteTime": {
     "end_time": "2023-12-28T12:56:54.210961Z",
     "start_time": "2023-12-28T12:56:54.205903Z"
    }
   },
   "id": "d8de2baffc4d43d0"
  }
 ],
 "metadata": {
  "kernelspec": {
   "display_name": "Python 3",
   "language": "python",
   "name": "python3"
  },
  "language_info": {
   "codemirror_mode": {
    "name": "ipython",
    "version": 2
   },
   "file_extension": ".py",
   "mimetype": "text/x-python",
   "name": "python",
   "nbconvert_exporter": "python",
   "pygments_lexer": "ipython2",
   "version": "2.7.6"
  }
 },
 "nbformat": 4,
 "nbformat_minor": 5
}
