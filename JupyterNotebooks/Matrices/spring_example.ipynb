{
 "cells": [
  {
   "cell_type": "markdown",
   "source": [
    "# Coupled Second Order ODEs\n",
    "\n",
    "Consider the following system of coupled second order ODEs:\n",
    "\n",
    "$$\\begin{equatin}\n",
    "m_1 \\frac{d^2y_1}{dt^2} =  -k_1 y_1 + k_2 (y_2 - y_1)\\\\\n",
    "m_2 \\frac{d^2y_2}{dt^2} =  -k_2 (y_2 - y_1)\n",
    "\\end{equation}$$\n",
    "\n",
    "where $y_1$ and $y_2$ are the displacements of two masses $m_1$ and $m_2$ from their equilibrium positions, and $k_1$ and $k_2$ are the spring constants of two springs.  The displacements are measured from the equilibrium positions, so that $y_1 = 0$ and $y_2 = 0$ are the equilibrium positions.  The displacements are measured in meters, the masses in kilograms, and the spring constants in N/m.\n",
    "\n",
    "The system can be written in matrix form as\n",
    "\n",
    "$$\\begin{equation}\n",
    "\\begin{bmatrix}\n",
    "\\frac{d^2y_1}{dt^2}\\\\\n",
    "\\frac{d^2y_2}{dt^2}\n",
    "\\end{bmatrix}\n",
    "=\n",
    "\\begin{bmatrix}\n",
    "-\\frac{(k_1+k_2)}{m_1} & \\frac{k_2}{m_1}\\\\\n",
    "\\frac{k_2}{m_2} & -\\frac{k_2}{m_2}\n",
    "\\end{bmatrix}\n",
    "\\begin{bmatrix}\n",
    "y_1\\\\\n",
    "y_2\n",
    "\\end{bmatrix}\n",
    "\\end{equation}$$\n",
    "\n",
    "For the case where $m_1 = m_2 = 1$ kg, $k_1 = 3$ N/m, and $k_2 = 2$ N/m, the system can be written as\n",
    "\n",
    "$$\\begin{equation}\n",
    "\\begin{bmatrix}\n",
    "\\frac{d^2y_1}{dt^2}\\\\\n",
    "\\frac{d^2y_2}{dt^2}\n",
    "\\end{bmatrix}\n",
    "=\n",
    "\\begin{bmatrix}\n",
    "-5 & 2\\\\\n",
    "2 & -2\n",
    "\\end{bmatrix}\n",
    "\\begin{bmatrix}\n",
    "y_1\\\\\n",
    "y_2\n",
    "\\end{bmatrix}\n",
    "\\end{equation}$$\n",
    "\n",
    " "
   ],
   "metadata": {
    "collapsed": false
   },
   "id": "89a1c93afb49b69"
  },
  {
   "cell_type": "code",
   "execution_count": 3,
   "outputs": [
    {
     "name": "stdout",
     "output_type": "stream",
     "text": [
      "The eigenvalues are \n",
      "[-6. -1.]\n",
      "The eigenvectors (columns) are \n",
      "[[-0.89442719 -0.4472136 ]\n",
      " [ 0.4472136  -0.89442719]]\n"
     ]
    }
   ],
   "source": [
    "import numpy as np\n",
    "\n",
    "# create a coefficient matrix\n",
    "A = np.array([[-5, 2], [2, -2]])\n",
    "\n",
    "# print the eigenvalues and eigenvectors of the coefficient matrix\n",
    "eigenvalues, eigenvectorsT = np.linalg.eig(A)\n",
    "\n",
    "# the eigenvectors are the columns of the eigenvectorsT matrix\n",
    "# taking the transpose of this matrix gives the eigenvectors as rows\n",
    "eigenvectors = eigenvectorsT.T\n",
    "print('The eigenvalues are ')\n",
    "print(eigenvalues)\n",
    "print('The eigenvectors (columns) are ')\n",
    "print(eigenvectorsT)\n",
    "print()"
   ],
   "metadata": {
    "collapsed": false,
    "ExecuteTime": {
     "end_time": "2023-12-29T14:12:19.813359Z",
     "start_time": "2023-12-29T14:12:19.646753Z"
    }
   },
   "id": "initial_id"
  },
  {
   "cell_type": "markdown",
   "source": [
    "## Solution of the System of ODEs\n",
    "\n",
    "Solving for the eigenvalues and eigenvectors of the coefficient matrix, we find that the eigenvalues are $\\lambda_1 = -6$ and $\\lambda_2 = -1$.  \n",
    "\n",
    "The corresponding eigenvectors are $\\mathbf{v}_1 = \\begin{bmatrix}\\frac{2}{\\sqrt{5}}\\\\-\\frac{1}{\\sqrt{5}}\\end{bmatrix}$ and $\\mathbf{r}_2 = \\begin{bmatrix}\\frac{1}{\\sqrt{5}}\\\\\\frac{2}{\\sqrt{5}}\\end{bmatrix}$.\n",
    "\n",
    "From these, we create a similar matrix $S$ with the eigenvectors as columns, and a diagonal matrix $L$ with the eigenvalues on the diagonal:\n",
    "\n",
    "$$\\begin{equation}\n",
    "S = \\begin{bmatrix}\n",
    "\\frac{2}{\\sqrt{5}} & \\frac{1}{\\sqrt{5}}\\\\\n",
    "-\\frac{1}{\\sqrt{5}} & \\frac{2}{\\sqrt{5}}\n",
    "\\end{bmatrix}\n",
    "\\end{equation}$$\n",
    "\n",
    "$$\\begin{equation}\n",
    "L = \\begin{bmatrix}\n",
    "-6 & 0\\\\\n",
    "0 & -1\n",
    "\\end{bmatrix}\n",
    "\\end{equation}$$\n",
    "\n",
    "The solution of the system of ODEs is then\n",
    "\n",
    "$$\\begin{equation}\n",
    "\\begin{bmatrix}\n",
    "y_1\\\\\n",
    "y_2\n",
    "\\end{bmatrix}\n",
    "=\n",
    "\\begin{bmatrix}\n",
    "\\frac{2}{\\sqrt{5}} & \\frac{1}{\\sqrt{5}}\\\\\n",
    "-\\frac{1}{\\sqrt{5}} & \\frac{2}{\\sqrt{5}}\n",
    "\\end{bmatrix}\n",
    "\\begin{bmatrix}\n",
    "r_1\\\\\n",
    "r_2\n",
    "\\end{bmatrix}\n",
    "\\end{equation}$$\n",
    "\n",
    "where $r_1$ and $r_2$ are the solutions of the system of ODEs\n",
    "\n",
    "$$\\begin{equation}\n",
    "\\begin{bmatrix}\n",
    "\\frac{d^2r_1}{dt^2}\\\\\n",
    "\\frac{d^2r_2}{dt^2}\n",
    "\\end{bmatrix}\n",
    "=\n",
    "\\begin{bmatrix}\n",
    "-6 & 0\\\\\n",
    "0 & -1\n",
    "\\end{bmatrix}\n",
    "\\begin{bmatrix}\n",
    "r_1\\\\\n",
    "r_2\n",
    "\\end{bmatrix}\n",
    "\\end{equation}$$\n",
    "\n",
    "The solution of this system of ODEs is\n",
    "    \n",
    "$$\\begin{equation}\n",
    "\\begin{bmatrix}\n",
    "r_1\\\\\n",
    "r_2\n",
    "\\end{bmatrix}\n",
    "=\n",
    "\\begin{bmatrix}\n",
    "c_1 sin(\\sqrt{6}t) + c_2 cos(\\sqrt{6}t)\\\\\n",
    "k_1 sin(t) + k_2 cos(t)\n",
    "\\end{bmatrix}\n",
    "\\end{equation}$$\n",
    "\n",
    "where $c_1$, $c_2$, $k_1$, and $k_2$ are constants of integration.\n",
    "\n",
    "We can determine these constants of integration from the initial conditions.  If the initial conditions are $y_1(0) = 1$ m, $y_2(0) = 2$ m, $y_1'(0) = -2\\sqrt{6}$ m/s, and $y_2'(0) = \\sqrt{6}$ m/s, then the solution of the system of ODEs is\n",
    "\n",
    "$$\\begin{equation}\n",
    "\\begin{bmatrix}\n",
    "y_1\\\\\n",
    "y_2\n",
    "\\end{bmatrix}\n",
    "=\n",
    "\\begin{bmatrix}\n",
    "\\frac{2}{\\sqrt{5}} & \\frac{1}{\\sqrt{5}}\\\\\n",
    "-\\frac{1}{\\sqrt{5}} & \\frac{2}{\\sqrt{5}}\n",
    "\\end{bmatrix}\n",
    "\\begin{bmatrix}\n",
    "c_1 sin(\\sqrt{6}t) + c_2 cos(\\sqrt{6}t)\\\\\n",
    "k_1 sin(t) + k_2 cos(t)\n",
    "\\end{bmatrix}\n",
    "\\end{equation}$$\n",
    "\n",
    "where\n",
    "\n",
    "$$\\begin{equation}\n",
    "\\begin{bmatrix}\n",
    "c_2\\\\\n",
    "k_2\n",
    "\\end{bmatrix}\n",
    "=\n",
    "\\begin{bmatrix}\n",
    "\\frac{2}{\\sqrt{5}} & \\frac{1}{\\sqrt{5}}\\\\\n",
    "-\\frac{1}{\\sqrt{5}} & \\frac{2}{\\sqrt{5}}\n",
    "\\end{bmatrix}^{-1}\n",
    "\\begin{bmatrix}\n",
    "1\\\\\n",
    "2\n",
    "\\end{bmatrix}\n",
    "\\end{equation}$$\n",
    "\n",
    "and\n",
    "\n",
    "$$\\begin{equation}\n",
    "\\begin{bmatrix}\n",
    "\\sqrt{6} c_1\\\\\n",
    "k_1\n",
    "\\end{bmatrix}\n",
    "=\n",
    "\\begin{bmatrix}\n",
    "\\frac{2}{\\sqrt{5}} & \\frac{1}{\\sqrt{5}}\\\\\n",
    "-\\frac{1}{\\sqrt{5}} & \\frac{2}{\\sqrt{5}}\n",
    "\\end{bmatrix}^{-1}\n",
    "\\begin{bmatrix}\n",
    "-2\\sqrt{6}\\\\\n",
    "\\sqrt{6}\n",
    "\\end{bmatrix}\n",
    "\\end{equation}$$\n",
    "\n",
    "\n",
    "\n"
   ],
   "metadata": {
    "collapsed": false
   },
   "id": "eafc23228c5a2117"
  },
  {
   "cell_type": "code",
   "execution_count": 4,
   "outputs": [
    {
     "name": "stdout",
     "output_type": "stream",
     "text": [
      "Matrix([[r1], [r2]])\n",
      "Matrix([[-0.894427190999916, -0.447213595499958], [0.447213595499958, -0.894427190999916]])\n",
      "Matrix([[-0.894427190999916, 0.447213595499958], [-0.447213595499958, -0.894427190999916]])\n",
      "The solution is\n",
      "Matrix([[-0.894427190999916*r1 - 0.447213595499958*r2], [0.447213595499958*r1 - 0.894427190999916*r2]])\n",
      "r1(0) =  k1\n",
      "r2(0) =  k2\n",
      "r1dot(0) =  2.44948974278318*c1\n",
      "r2dot(0) =  1.0*c2\n"
     ]
    }
   ],
   "source": [
    "import sympy as sym\n",
    "\n",
    "# create a solution matrix\n",
    "R = sym.Matrix([sym.symbols('r1'), sym.symbols('r2')])\n",
    "print(R)\n",
    "\n",
    "# create a matrix of eigenvectors\n",
    "S = sym.Matrix(eigenvectorsT)\n",
    "print(S)\n",
    "\n",
    "# create a diagonal matrix of eigenvalues\n",
    "L = sym.Matrix([[eigenvalues[0], 0], [0, eigenvalues[1]]])\n",
    "\n",
    "# create the inverse of the matrix of eigenvectors\n",
    "Sinv = S.inv()\n",
    "print(Sinv)\n",
    "\n",
    "if (eigenvalues[0] > 0 ):\n",
    "    r1 = sym.symbols('c1')*sym.exp(sym.sqrt(eigenvalues[0]) * sym.symbols('t')) + sym.symbols('k1')*sym.exp(-sym.sqrt(eigenvalues[0]) * sym.symbols('t'))\n",
    "else:\n",
    "    r1 = sym.symbols('c1') * sym.sin(sym.sqrt(-eigenvalues[0]) * sym.symbols('t')) + sym.symbols('k1') * sym.cos(sym.sqrt(-eigenvalues[0]) * sym.symbols('t'))\n",
    "\n",
    "if (eigenvalues[1] > 0 ):\n",
    "    r2 = sym.symbols('c1')*sym.exp(sym.sqrt(eigenvalues[1]) * sym.symbols('t')) + sym.symbols('k1')*sym.exp(-sym.sqrt(eigenvalues[1]) * sym.symbols('t'))\n",
    "else:\n",
    "    r2 = sym.symbols('c2') * sym.sin(sym.sqrt(-eigenvalues[1]) * sym.symbols('t')) + sym.symbols('k2') * sym.cos(sym.sqrt(-eigenvalues[1]) * sym.symbols('t'))\n",
    "\n",
    "Y = S * R\n",
    "\n",
    "print('The solution is')\n",
    "print(Y)\n",
    "\n",
    "print('r1(0) = ',r1.subs(sym.symbols('t'),0).subs(sym.symbols('t'),0))\n",
    "print('r2(0) = ',r2.subs(sym.symbols('t'),0).subs(sym.symbols('t'),0))\n",
    "\n",
    "print('r1dot(0) = ',sym.diff(r1,sym.symbols('t')).subs(sym.symbols('t'),0))\n",
    "print('r2dot(0) = ',sym.diff(r2,sym.symbols('t')).subs(sym.symbols('t'),0))\n",
    "\n",
    "\n"
   ],
   "metadata": {
    "collapsed": false,
    "ExecuteTime": {
     "end_time": "2023-12-29T14:12:21.859680Z",
     "start_time": "2023-12-29T14:12:21.727171Z"
    }
   },
   "id": "49606853ee497903"
  },
  {
   "cell_type": "code",
   "execution_count": 5,
   "outputs": [
    {
     "name": "stdout",
     "output_type": "stream",
     "text": [
      "Matrix([[-0.894427190999916*k1 - 0.447213595499958*k2], [0.447213595499958*k1 - 0.894427190999916*k2]])\n",
      "Matrix([[-2.19089023002066*c1 - 0.447213595499958*c2], [1.09544511501033*c1 - 0.894427190999916*c2]])\n",
      "Matrix([[y10], [y20]])\n",
      "Matrix([[y10dot], [y20dot]])\n",
      "Matrix([[1], [2]])\n",
      "Matrix([[-4.89897948556636], [2.44948974278318]])\n"
     ]
    }
   ],
   "source": [
    "Y0 = S * R.subs(sym.symbols('r1'),r1).subs(sym.symbols('r2'),r2)\n",
    "Y0 = Y0.subs(sym.symbols('t'),0)\n",
    "print(Y0)\n",
    "\n",
    "Y0dot = S * R.subs(sym.symbols('r1'),sym.diff(r1,sym.symbols('t'))).subs(sym.symbols('r2'),sym.diff(r2,sym.symbols('t')))\n",
    "Y0dot = Y0dot.subs(sym.symbols('t'),0)\n",
    "print(Y0dot)\n",
    "\n",
    "Y0val = sym.Matrix([sym.symbols('y10'), sym.symbols('y20')])\n",
    "print(Y0val)\n",
    "\n",
    "Y0dotval = sym.Matrix([sym.symbols('y10dot'), sym.symbols('y20dot')])\n",
    "print(Y0dotval)\n",
    "\n",
    "# Initial conditions\n",
    "\n",
    "y10 = 1\n",
    "y20 = 2\n",
    "y10dot = -2*np.sqrt(6)\n",
    "y20dot = np.sqrt(6)\n",
    "\n",
    "Y0val = Y0val.subs(sym.symbols('y10'),y10).subs(sym.symbols('y20'),y20)\n",
    "Y0dotval = Y0dotval.subs(sym.symbols('y10dot'),y10dot).subs(sym.symbols('y20dot'),y20dot)\n",
    "\n",
    "print(Y0val)\n",
    "print(Y0dotval)"
   ],
   "metadata": {
    "collapsed": false,
    "ExecuteTime": {
     "end_time": "2023-12-29T14:12:22.643185Z",
     "start_time": "2023-12-29T14:12:22.638093Z"
    }
   },
   "id": "d8de2baffc4d43d0"
  },
  {
   "cell_type": "code",
   "execution_count": 6,
   "outputs": [],
   "source": [
    "constant_dict = sym.solve([Y0val[0] - Y0[0], Y0val[1] - Y0[1], Y0dotval[0] - Y0dot[0], Y0dotval[1] - Y0dot[1]], [sym.symbols('c1'), sym.symbols('c2'), sym.symbols('k1'), sym.symbols('k2')])"
   ],
   "metadata": {
    "collapsed": false,
    "ExecuteTime": {
     "end_time": "2023-12-29T14:12:23.447452Z",
     "start_time": "2023-12-29T14:12:23.415547Z"
    }
   },
   "id": "f8a8083e955038d9"
  },
  {
   "cell_type": "code",
   "execution_count": 7,
   "outputs": [
    {
     "name": "stdout",
     "output_type": "stream",
     "text": [
      "2.23606797749980\n",
      "0.0\n",
      "0.0\n",
      "-2.23606797749979\n"
     ]
    }
   ],
   "source": [
    "print(constant_dict[sym.symbols('c1')])\n",
    "print(constant_dict[sym.symbols('c2')])\n",
    "print(constant_dict[sym.symbols('k1')])\n",
    "print(constant_dict[sym.symbols('k2')])\n"
   ],
   "metadata": {
    "collapsed": false,
    "ExecuteTime": {
     "end_time": "2023-12-29T14:12:24.268108Z",
     "start_time": "2023-12-29T14:12:24.262716Z"
    }
   },
   "id": "57116b65c890286d"
  },
  {
   "cell_type": "code",
   "execution_count": 8,
   "outputs": [
    {
     "name": "stdout",
     "output_type": "stream",
     "text": [
      "Matrix([[-2.00000000000001*sin(2.44948974278318*t) + 1.0*cos(1.0*t)], [1.0*sin(2.44948974278318*t) + 2.0*cos(1.0*t)]])\n"
     ]
    }
   ],
   "source": [
    "Y_solution = Y.subs(sym.symbols('r1'),r1).subs(sym.symbols('r2'),r2)\n",
    "Y_solution = Y_solution.subs(sym.symbols('c1'),constant_dict[sym.symbols('c1')]).subs(sym.symbols('c2'),constant_dict[sym.symbols('c2')]).subs(sym.symbols('k1'),constant_dict[sym.symbols('k1')]).subs(sym.symbols('k2'),constant_dict[sym.symbols('k2')])\n",
    "Y_solution = Y_solution.subs(sym.symbols('r1'),r1).subs(sym.symbols('r2'),r2)\n",
    "print(Y_solution)"
   ],
   "metadata": {
    "collapsed": false,
    "ExecuteTime": {
     "end_time": "2023-12-29T14:12:25.010765Z",
     "start_time": "2023-12-29T14:12:25.002303Z"
    }
   },
   "id": "4b23aed52fdb11d9"
  },
  {
   "cell_type": "code",
   "execution_count": 9,
   "outputs": [
    {
     "data": {
      "text/plain": "<Figure size 640x480 with 1 Axes>",
      "image/png": "[encoded data removed]"
     },
     "metadata": {},
     "output_type": "display_data"
    }
   ],
   "source": [
    "import matplotlib.pyplot as plt\n",
    "\n",
    "t = np.linspace(0, 10, 100)\n",
    "\n",
    "y1 = sym.lambdify(sym.symbols('t'), Y_solution[0], 'numpy')\n",
    "y2 = sym.lambdify(sym.symbols('t'), Y_solution[1], 'numpy')\n",
    "\n",
    "plt.plot(t, y1(t), label='y1')\n",
    "plt.plot(t, y2(t), label='y2')\n",
    "plt.legend()\n",
    "plt.show()"
   ],
   "metadata": {
    "collapsed": false,
    "ExecuteTime": {
     "end_time": "2023-12-29T14:12:26.523683Z",
     "start_time": "2023-12-29T14:12:25.786490Z"
    }
   },
   "id": "d8912d9dc533394e"
  },
  {
   "cell_type": "code",
   "execution_count": 9,
   "outputs": [],
   "source": [],
   "metadata": {
    "collapsed": false,
    "ExecuteTime": {
     "end_time": "2023-12-29T14:12:26.528803Z",
     "start_time": "2023-12-29T14:12:26.524164Z"
    }
   },
   "id": "811f2f1e4fbaa9f6"
  },
  {
   "cell_type": "code",
   "execution_count": null,
   "outputs": [],
   "source": [],
   "metadata": {
    "collapsed": false
   },
   "id": "c34fcc69782babc6"
  }
 ],
 "metadata": {
  "kernelspec": {
   "display_name": "Python 3",
   "language": "python",
   "name": "python3"
  },
  "language_info": {
   "codemirror_mode": {
    "name": "ipython",
    "version": 2
   },
   "file_extension": ".py",
   "mimetype": "text/x-python",
   "name": "python",
   "nbconvert_exporter": "python",
   "pygments_lexer": "ipython2",
   "version": "2.7.6"
  }
 },
 "nbformat": 4,
 "nbformat_minor": 5
}
