{
 "cells": [
  {
   "cell_type": "code",
   "id": "initial_id",
   "metadata": {
    "collapsed": true,
    "ExecuteTime": {
     "end_time": "2024-12-30T22:28:13.896420Z",
     "start_time": "2024-12-30T22:28:13.731883Z"
    }
   },
   "source": [
    "sys_values = True\n",
    "if (sys_values):\n",
    "    import sys\n",
    "    print(\"sys.executable: \", sys.executable)\n",
    "    print(\"-----------------\")\n",
    "    !type python3\n",
    "    print(\"-----------------\")\n",
    "    from pprint import pprint as p\n",
    "    p(sys.path)"
   ],
   "outputs": [
    {
     "name": "stdout",
     "output_type": "stream",
     "text": [
      "sys.executable:  /Applications/Xcode.app/Contents/Developer/usr/bin/python3\n",
      "-----------------\n",
      "python3 is /usr/local/bin/./python3\r\n",
      "-----------------\n",
      "['/Applications/PyCharm.app/Contents/plugins/python/helpers-pro/jupyter_debug',\n",
      " '/Applications/PyCharm.app/Contents/plugins/python/helpers/pydev',\n",
      " '/Users/brash/phys340',\n",
      " '/Applications/Xcode.app/Contents/Developer/Library/Frameworks/Python3.framework/Versions/3.9/lib/python39.zip',\n",
      " '/Applications/Xcode.app/Contents/Developer/Library/Frameworks/Python3.framework/Versions/3.9/lib/python3.9',\n",
      " '/Applications/Xcode.app/Contents/Developer/Library/Frameworks/Python3.framework/Versions/3.9/lib/python3.9/lib-dynload',\n",
      " '',\n",
      " '/Users/brash/Library/Python/3.9/lib/python/site-packages',\n",
      " '/Applications/Xcode.app/Contents/Developer/Library/Frameworks/Python3.framework/Versions/3.9/lib/python3.9/site-packages',\n",
      " '/Library/Python/3.9/site-packages']\n"
     ]
    }
   ],
   "execution_count": 4
  },
  {
   "cell_type": "code",
   "source": [
    "from mpl_toolkits.mplot3d import Axes3D\n",
    "from pprint import pprint\n",
    "from sympy.vector import CoordSys3D\n",
    "import sys    \n",
    "import os   \n",
    "from array import array \n",
    "from functools import lru_cache \n",
    "from matplotlib import cm as cm\n",
    "from mpl_toolkits.axes_grid1 import make_axes_locatable \n",
    "from mpl_toolkits.mplot3d import Axes3D \n",
    "from scipy import integrate \n",
    "from scipy import signal \n",
    "from scipy.fftpack import fft \n",
    "from scipy.integrate import dblquad \n",
    "from scipy.integrate import tplquad \n",
    "from scipy.optimize import fsolve \n",
    "from scipy.special import gamma, factorial\n",
    "from sympy.vector import CoordSys3D \n",
    "from timer import Timer \n",
    "import decimal as dec \n",
    "import librosa   \n",
    "import librosa.display   \n",
    "import math   \n",
    "import matplotlib.animation as animation \n",
    "import matplotlib.pyplot as plt \n",
    "import numpy as np \n",
    "import numpy.random as random \n",
    "import pandas as pd \n",
    "import platform   \n",
    "import random   \n",
    "import rk_functions as rk \n",
    "import sympy as sp \n",
    "import time"
   ],
   "metadata": {
    "collapsed": false,
    "ExecuteTime": {
     "end_time": "2024-12-30T19:24:33.172319Z",
     "start_time": "2024-12-30T19:24:26.280634Z"
    }
   },
   "id": "cb73ba2f2fdba9c5",
   "outputs": [],
   "execution_count": 3
  },
  {
   "cell_type": "code",
   "outputs": [],
   "source": [],
   "metadata": {
    "collapsed": false
   },
   "id": "878af9acdca491e2",
   "execution_count": null
  }
 ],
 "metadata": {
  "kernelspec": {
   "display_name": "Python 3",
   "language": "python",
   "name": "python3"
  },
  "language_info": {
   "codemirror_mode": {
    "name": "ipython",
    "version": 2
   },
   "file_extension": ".py",
   "mimetype": "text/x-python",
   "name": "python",
   "nbconvert_exporter": "python",
   "pygments_lexer": "ipython2",
   "version": "2.7.6"
  }
 },
 "nbformat": 4,
 "nbformat_minor": 5
}
