{
 "cells": [
  {
   "cell_type": "code",
   "id": "initial_id",
   "metadata": {
    "collapsed": true,
    "ExecuteTime": {
     "end_time": "2025-01-10T18:17:03.647299Z",
     "start_time": "2025-01-10T18:17:03.490659Z"
    }
   },
   "source": [
    "sys_values = True\n",
    "if (sys_values):\n",
    "    import sys\n",
    "    print(\"sys.executable: \", sys.executable)\n",
    "    print(\"-----------------\")\n",
    "    !type python3\n",
    "    print(\"-----------------\")\n",
    "    from pprint import pprint as p\n",
    "    p(sys.path)"
   ],
   "outputs": [
    {
     "name": "stdout",
     "output_type": "stream",
     "text": [
      "sys.executable:  /Users/brash/.pyenv/versions/3.12.7/bin/python3\n",
      "-----------------\n",
      "python3 is /Users/brash/.pyenv/versions/3.12.7/bin/./python3\r\n",
      "-----------------\n",
      "['/Users/brash/phys340',\n",
      " '/Users/brash/.pyenv/versions/3.12.7/lib/python312.zip',\n",
      " '/Users/brash/.pyenv/versions/3.12.7/lib/python3.12',\n",
      " '/Users/brash/.pyenv/versions/3.12.7/lib/python3.12/lib-dynload',\n",
      " '',\n",
      " '/Users/brash/.pyenv/versions/3.12.7/lib/python3.12/site-packages']\n"
     ]
    }
   ],
   "execution_count": 1
  },
  {
   "cell_type": "code",
   "source": [
    "from mpl_toolkits.mplot3d import Axes3D\n",
    "from pprint import pprint\n",
    "from sympy.vector import CoordSys3D\n",
    "import sys    \n",
    "import os   \n",
    "from array import array \n",
    "from functools import lru_cache \n",
    "from matplotlib import cm as cm\n",
    "from mpl_toolkits.axes_grid1 import make_axes_locatable \n",
    "from mpl_toolkits.mplot3d import Axes3D \n",
    "from scipy import integrate \n",
    "from scipy import signal \n",
    "from scipy.fftpack import fft \n",
    "from scipy.integrate import dblquad \n",
    "from scipy.integrate import tplquad \n",
    "from scipy.optimize import fsolve \n",
    "from scipy.special import gamma, factorial\n",
    "from sympy.vector import CoordSys3D \n",
    "from timer import Timer \n",
    "import decimal as dec \n",
    "import librosa   \n",
    "import librosa.display   \n",
    "import math   \n",
    "import matplotlib.animation as animation \n",
    "import matplotlib.pyplot as plt \n",
    "import numpy as np \n",
    "import numpy.random as random \n",
    "import pandas as pd \n",
    "import platform   \n",
    "import random   \n",
    "import rk_functions as rk \n",
    "import sympy as sp \n",
    "import time"
   ],
   "metadata": {
    "collapsed": false,
    "ExecuteTime": {
     "end_time": "2024-12-30T19:24:33.172319Z",
     "start_time": "2024-12-30T19:24:26.280634Z"
    }
   },
   "id": "cb73ba2f2fdba9c5",
   "outputs": [],
   "execution_count": 3
  },
  {
   "cell_type": "code",
   "outputs": [],
   "source": [],
   "metadata": {
    "collapsed": false
   },
   "id": "878af9acdca491e2",
   "execution_count": null
  }
 ],
 "metadata": {
  "kernelspec": {
   "display_name": "Python 3",
   "language": "python",
   "name": "python3"
  },
  "language_info": {
   "codemirror_mode": {
    "name": "ipython",
    "version": 2
   },
   "file_extension": ".py",
   "mimetype": "text/x-python",
   "name": "python",
   "nbconvert_exporter": "python",
   "pygments_lexer": "ipython2",
   "version": "2.7.6"
  }
 },
 "nbformat": 4,
 "nbformat_minor": 5
}
