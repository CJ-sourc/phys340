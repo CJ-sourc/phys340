{
 "cells": [
  {
   "cell_type": "code",
   "execution_count": 1,
   "id": "initial_id",
   "metadata": {
    "collapsed": true,
    "ExecuteTime": {
     "end_time": "2024-02-15T15:53:16.885393Z",
     "start_time": "2024-02-15T15:53:15.764520Z"
    }
   },
   "outputs": [],
   "source": [
    "import numpy as np\n",
    "import matplotlib.pyplot as plt"
   ]
  },
  {
   "cell_type": "code",
   "outputs": [
    {
     "name": "stdout",
     "output_type": "stream",
     "text": [
      "c1:  (0.7071067811865476+0.7071067811865475j)\n",
      "c2:  (6.123233995736766e-17+1j)\n",
      "addition:  (0.7071067811865477+1.7071067811865475j)\n",
      "subtraction:  (0.7071067811865475-0.29289321881345254j)\n",
      "multiplication:  (-0.7071067811865475+0.7071067811865476j) 135.0\n",
      "division:  (0.7071067811865475-0.7071067811865476j) -45.00000000000001\n"
     ]
    }
   ],
   "source": [
    "theta1d = 45.0\n",
    "theta2d = 90.0\n",
    "\n",
    "theta1 = theta1d*np.pi/180.0\n",
    "theta2 = theta2d*np.pi/180.0\n",
    "\n",
    "c1 = np.cos(theta1) + 1j*np.sin(theta1)\n",
    "c2 = np.cos(theta2) + 1j*np.sin(theta2)\n",
    "\n",
    "print('c1: ', c1)\n",
    "print('c2: ', c2)\n",
    "\n",
    "cadd = c1 + c2\n",
    "csub = c1 - c2\n",
    "c3 = c1*c2\n",
    "c4 = c1/c2\n",
    "\n",
    "theta3 = np.angle(c3)*180.0/np.pi\n",
    "theta4 = np.angle(c4)*180.0/np.pi\n",
    "\n",
    "print('addition: ', cadd)\n",
    "print('subtraction: ', csub)\n",
    "print('multiplication: ', c3, theta3)\n",
    "print('division: ', c4, theta4)"
   ],
   "metadata": {
    "collapsed": false,
    "ExecuteTime": {
     "end_time": "2024-02-15T15:53:42.429790Z",
     "start_time": "2024-02-15T15:53:42.424951Z"
    }
   },
   "id": "33ae101a2e27ed4",
   "execution_count": 4
  },
  {
   "cell_type": "code",
   "outputs": [],
   "source": [
    "c1 = 4 + 3j\n",
    "c2 = 2 - 1j\n",
    "\n",
    "print('c1: ', c1)\n",
    "print('c2: ', c2)\n",
    "\n",
    "cadd = c1 + c2\n",
    "csub = c1 - c2\n",
    "c3 = c1*c2\n",
    "c4 = c1/c2\n",
    "\n",
    "theta3 = np.angle(c3)*180.0/np.pi\n",
    "theta4 = np.angle(c4)*180.0/np.pi\n",
    "\n",
    "print('addition: ', cadd)\n",
    "print('subtraction: ', csub)\n",
    "print('multiplication: ', c3, theta3)\n",
    "print('division: ', c4, theta4)"
   ],
   "metadata": {
    "collapsed": false
   },
   "id": "ba8a873fce7942ef"
  },
  {
   "cell_type": "code",
   "outputs": [],
   "source": [
    "c5 = c1**7\n",
    "\n",
    "print('c5 = c1**7 = ', c5)"
   ],
   "metadata": {
    "collapsed": false
   },
   "id": "9e68bf5ee2b95d92"
  },
  {
   "cell_type": "code",
   "outputs": [],
   "source": [
    "c6 = np.sqrt(c1)\n",
    "\n",
    "print('c6 = sqrt(c1) = ', c6)"
   ],
   "metadata": {
    "collapsed": false
   },
   "id": "88bc6ea6cbd438f8"
  },
  {
   "cell_type": "code",
   "execution_count": 21,
   "outputs": [],
   "source": [],
   "metadata": {
    "collapsed": false,
    "ExecuteTime": {
     "end_time": "2024-02-08T18:38:40.036418Z",
     "start_time": "2024-02-08T18:38:40.033055Z"
    }
   },
   "id": "a1a415f1931c9c42"
  },
  {
   "cell_type": "code",
   "execution_count": 21,
   "outputs": [],
   "source": [],
   "metadata": {
    "collapsed": false,
    "ExecuteTime": {
     "end_time": "2024-02-08T18:38:43.192608Z",
     "start_time": "2024-02-08T18:38:43.183304Z"
    }
   },
   "id": "f760d90126f2ac08"
  },
  {
   "cell_type": "code",
   "execution_count": 22,
   "outputs": [
    {
     "name": "stdout",
     "output_type": "stream",
     "text": [
      "multiplication:\n",
      "-c1i⋅c2i + ⅈ⋅c1i⋅c2r + ⅈ⋅c1r⋅c2i + c1r⋅c2r\n",
      "\n",
      "division:\n",
      "   ⅈ⋅c1i          c1r    \n",
      "─────────── + ───────────\n",
      "ⅈ⋅c2i + c2r   ⅈ⋅c2i + c2r\n",
      "\n",
      "addition:\n",
      "ⅈ⋅c1i + c1r + ⅈ⋅c2i + c2r\n",
      "\n",
      "subtraction:\n",
      "ⅈ⋅c1i + c1r - ⅈ⋅c2i - c2r\n",
      "\n",
      "power:\n",
      "       7        6               5    2         4    3           3    4        \n",
      "- ⅈ⋅c1i  - 7⋅c1i ⋅c1r + 21⋅ⅈ⋅c1i ⋅c1r  + 35⋅c1i ⋅c1r  - 35⋅ⅈ⋅c1i ⋅c1r  - 21⋅c1\n",
      "\n",
      " 2    5              6      7\n",
      "i ⋅c1r  + 7⋅ⅈ⋅c1i⋅c1r  + c1r \n",
      "\n",
      "sqrt:\n",
      "  _____________\n",
      "╲╱ ⅈ⋅c1i + c1r \n",
      "\n",
      "Substituting values:\n",
      "\n",
      "multiplication:\n",
      "11 + 2⋅ⅈ\n",
      "division:\n",
      "1 + 2⋅ⅈ\n",
      "addition:\n",
      "6 + 2⋅ⅈ\n",
      "subtraction:\n",
      "2 + 4⋅ⅈ\n",
      "power:\n",
      "-16124 - 76443⋅ⅈ\n",
      "sqrt:\n",
      "√2⋅(3 + ⅈ)\n",
      "──────────\n",
      "    2     \n"
     ]
    }
   ],
   "source": [
    "import sympy as sym\n",
    "c1r, c1i, c2r, c2i = sym.symbols('c1r c1i c2r c2i', real=True)\n",
    "c1 = c1r + sym.I*c1i\n",
    "c2 = c2r + sym.I*c2i\n",
    "\n",
    "expr_mult = c1*c2\n",
    "expr_mult = sym.expand(expr_mult)\n",
    "\n",
    "print('multiplication:')\n",
    "sym.pprint(expr_mult)\n",
    "print()\n",
    "\n",
    "expr_div = c1/c2\n",
    "expr_div = sym.expand(expr_div)\n",
    "\n",
    "print('division:')\n",
    "sym.pprint(expr_div)\n",
    "print()\n",
    "\n",
    "expr_add = c1+c2\n",
    "expr_add = sym.expand(expr_add)\n",
    "\n",
    "print('addition:')\n",
    "sym.pprint(expr_add)\n",
    "print()\n",
    "\n",
    "expr_sub = c1-c2\n",
    "expr_sub = sym.expand(expr_sub)\n",
    "\n",
    "print('subtraction:')\n",
    "sym.pprint(expr_sub)\n",
    "print()\n",
    "\n",
    "expr_power = c1**7\n",
    "expr_power = sym.expand(expr_power)\n",
    "\n",
    "print('power:')\n",
    "sym.pprint(expr_power)\n",
    "print()\n",
    "\n",
    "expr_sqrt = sym.sqrt(c1)\n",
    "expr_sqrt = sym.expand(expr_sqrt)\n",
    "\n",
    "print('sqrt:')\n",
    "sym.pprint(expr_sqrt)\n",
    "print()\n",
    "\n",
    "print(\"Substituting values:\")\n",
    "print()\n",
    "\n",
    "print('multiplication:')\n",
    "sym.pprint(sym.simplify(expr_mult.subs({c1r:4, c1i:3, c2r:2, c2i:-1})))\n",
    "print('division:')\n",
    "sym.pprint(sym.simplify(expr_div.subs({c1r:4, c1i:3, c2r:2, c2i:-1})))\n",
    "print('addition:')\n",
    "sym.pprint(sym.simplify(expr_add.subs({c1r:4, c1i:3, c2r:2, c2i:-1})))\n",
    "print('subtraction:')\n",
    "sym.pprint(sym.simplify(expr_sub.subs({c1r:4, c1i:3, c2r:2, c2i:-1})))\n",
    "print('power:')\n",
    "sym.pprint(sym.simplify(expr_power.subs({c1r:4, c1i:3})))\n",
    "print('sqrt:')\n",
    "sym.pprint(sym.simplify(expr_sqrt.subs({c1r:4, c1i:3})))\n",
    "\n"
   ],
   "metadata": {
    "collapsed": false,
    "ExecuteTime": {
     "end_time": "2024-02-08T18:38:45.205114Z",
     "start_time": "2024-02-08T18:38:43.704597Z"
    }
   },
   "id": "46451fbf2b1efe12"
  },
  {
   "cell_type": "code",
   "execution_count": 8,
   "outputs": [],
   "source": [],
   "metadata": {
    "collapsed": false,
    "ExecuteTime": {
     "end_time": "2024-01-22T15:30:26.388055Z",
     "start_time": "2024-01-22T15:30:26.385807Z"
    }
   },
   "id": "fb4f976860bb5c77"
  },
  {
   "cell_type": "code",
   "execution_count": 8,
   "outputs": [],
   "source": [],
   "metadata": {
    "collapsed": false,
    "ExecuteTime": {
     "end_time": "2024-01-22T15:30:27.251037Z",
     "start_time": "2024-01-22T15:30:27.249318Z"
    }
   },
   "id": "80e1c5fb2a48747d"
  },
  {
   "cell_type": "code",
   "outputs": [],
   "source": [],
   "metadata": {
    "collapsed": false
   },
   "id": "a8481998c9019c7c"
  }
 ],
 "metadata": {
  "kernelspec": {
   "display_name": "Python 3",
   "language": "python",
   "name": "python3"
  },
  "language_info": {
   "codemirror_mode": {
    "name": "ipython",
    "version": 2
   },
   "file_extension": ".py",
   "mimetype": "text/x-python",
   "name": "python",
   "nbconvert_exporter": "python",
   "pygments_lexer": "ipython2",
   "version": "2.7.6"
  }
 },
 "nbformat": 4,
 "nbformat_minor": 5
}
