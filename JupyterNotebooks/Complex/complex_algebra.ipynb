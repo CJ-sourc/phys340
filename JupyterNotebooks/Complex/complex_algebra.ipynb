{
 "cells": [
  {
   "cell_type": "code",
   "execution_count": 3,
   "id": "initial_id",
   "metadata": {
    "collapsed": true,
    "ExecuteTime": {
     "end_time": "2024-02-08T18:29:35.267312Z",
     "start_time": "2024-02-08T18:29:34.343602Z"
    }
   },
   "outputs": [],
   "source": [
    "import numpy as np\n",
    "import matplotlib.pyplot as plt"
   ]
  },
  {
   "cell_type": "markdown",
   "source": [
    "# Complex numbers\n",
    "\n",
    "A complex number is a number that can be expressed in the form a + bi, where a and b are real numbers, and i is a solution of the equation x^2 = −1. Because no real number satisfies this equation, i is called an imaginary number. For the complex number a + bi, a is called the real part, and b is called the imaginary part. For example, 3 + 2i is a complex number.\n",
    "\n",
    "The set of complex numbers is two-dimensional, and a complex number can be visualized as a point in a plane. This is called the complex plane. The complex plane is a two-dimensional plane with the horizontal axis representing the real part and the vertical axis representing the imaginary part of a complex number.\n",
    "\n",
    "## Algebraic operations\n",
    "\n",
    "The algebraic operations of addition, subtraction, multiplication, and division can be performed on complex numbers. The following are the formulas for these operations:\n",
    "\n",
    "Addition: \n",
    "$$(a + bi) + (c + di) = (a + c) + (b + d)i$$\n",
    "\n",
    "Subtraction: \n",
    "$$(a + bi) − (c + di) = (a − c) + (b − d)i$$\n",
    "\n",
    "For multiplication, we can just multiply the two complex numbers using the distributive property and then simplify using the fact that i^2 = −1:\n",
    "\n",
    "Multiplication: \n",
    "$$(a + bi)(c + di) = ac + bd (i^2) + ad i + bci$$\n",
    "$$= (ac − bd) + (ad + bc)i$$\n",
    "\n",
    "For division, we can multiply the numerator and denominator by the conjugate of the denominator to get a real number in the denominator:\n",
    "\n",
    "Division: \n",
    "$$\\frac{(a + bi)}{(c + di)} = \\frac{(ac + bd)}{(c+di)} \\frac{(c-di)}{(c-di)}$$\n",
    " $$ = \\frac{(ac + bd)}{(c^2 + d^2)} + \\frac{(bc − ad)}{(c^2 + d^2)}i$$"
   ],
   "metadata": {
    "collapsed": false
   },
   "id": "ae50d27d3f439e60"
  },
  {
   "cell_type": "markdown",
   "source": [
    "## Taylor Seried for exp(i*theta)\n",
    "\n",
    "Recall that the Taylor series expansion for the exponential function is given by:\n",
    "\n",
    "$$e^x = 1 + x + \\frac{x^2}{2!} + \\frac{x^3}{3!} + \\frac{x^4}{4!} + \\cdots$$\n",
    "\n",
    "If we replace x with iθ, we get the Taylor series expansion for the exponential function of a complex number:\n",
    "\n",
    "$$e^{i\\theta} = 1 + i\\theta − \\frac{\\theta^2}{2!} − \\frac{i\\theta^3}{3!} + \\frac{\\theta^4}{4!} + \\cdots$$\n",
    "\n",
    "If we group the real and imaginary terms together, we get:\n",
    "\n",
    "$$e^{i\\theta} = (1 − \\frac{\\theta^2}{2!} + \\frac{\\theta^4}{4!} − \\cdots) + i(\\theta − \\frac{\\theta^3}{3!} + \\frac{\\theta^5}{5!} − \\cdots)$$\n",
    "\n",
    "The real part of the Taylor series expansion is the Taylor series expansion for the cosine function, and the imaginary part is the Taylor series expansion for the sine function:\n",
    "\n",
    "$$e^{i\\theta} = \\cos(\\theta) + i\\sin(\\theta)$$\n",
    "\n",
    "This is called Euler's formula, and it is one of the most important formulas in mathematics. It relates the exponential function, the trigonometric functions, and the imaginary unit. It is used to simplify trigonometric expressions and to solve differential equations.\n",
    "\n",
    "## Polar form\n",
    "\n",
    "A complex number can be expressed in polar form as:\n",
    "\n",
    "$$z = r(\\cos(\\theta) + i\\sin(\\theta))$$\n",
    "\n",
    "where r is the magnitude of the complex number, and θ is the angle that the complex number makes with the positive real axis. The magnitude of a complex number is given by:\n",
    "\n",
    "$$r = |z| = \\sqrt{a^2 + b^2}$$\n",
    "\n",
    "where a is the real part, and b is the imaginary part of the complex number. The angle that the complex number makes with the positive real axis is given by:\n",
    "\n",
    "$$\\theta = \\arctan(\\frac{b}{a})$$\n",
    "\n",
    "where a is the real part, and b is the imaginary part of the complex number.\n",
    "\n",
    "Geometrically, then, we can think of a complex number as a point in the complex plane, and the polar form of the complex number gives us the magnitude and the angle of the point with respect to the origin.\n",
    "\n",
    "This has an important geometrical interpretation for multiplication of complex numbers. If we multiply two complex numbers, the magnitude of the product is the product of the magnitudes of the two complex numbers, and the angle of the product is the sum of the angles of the two complex numbers!\n",
    "\n",
    "## Complex conjugate\n",
    "\n",
    "The complex conjugate of a complex number is obtained by changing the sign of the imaginary part of the complex number. The complex conjugate of a complex number a + bi is denoted by a − bi. The complex conjugate of a complex number is important because it is used to find the magnitude of a complex number and to divide complex numbers."
   ],
   "metadata": {
    "collapsed": false
   },
   "id": "1360413795b4f2a3"
  },
  {
   "cell_type": "code",
   "execution_count": 14,
   "outputs": [
    {
     "name": "stdout",
     "output_type": "stream",
     "text": [
      "c1: (0.707 + 0.707i)\n",
      "c2: (0.000 + 1.000i)\n",
      "Angle of c1: 45.000\n",
      "Angle of c2: 90.000\n",
      "---------------------\n",
      "Addition: (0.707 + 1.707i)\n",
      "Subtraction: (0.707 + -0.293i)\n",
      "Multiplication: (-0.707 + 0.707i)\n",
      "Division: (0.707 + -0.707i)\n",
      "---------------------\n",
      "Angle of c3: 135.000\n",
      "Angle of c4: -45.000\n"
     ]
    }
   ],
   "source": [
    "# In Python, complex numbers are represented using the j suffix for the imaginary part. For example, 3 + 2j is a complex number with a real part of 3 and an imaginary part of 2.\n",
    "\n",
    "theta1d = 45.0\n",
    "theta2d = 90.0\n",
    "\n",
    "theta1 = theta1d*np.pi/180.0\n",
    "theta2 = theta2d*np.pi/180.0\n",
    "\n",
    "c1 = np.cos(theta1) + 1j*np.sin(theta1)\n",
    "c2 = np.cos(theta2) + 1j*np.sin(theta2)\n",
    "\n",
    "print('c1: ({0.real:.3f} + {0.imag:.3f}i)'.format(c1))\n",
    "print('c2: ({0.real:.3f} + {0.imag:.3f}i)'.format(c2))\n",
    "\n",
    "print('Angle of c1: {0:.3f}'.format(np.angle(c1)*180.0/np.pi))\n",
    "print('Angle of c2: {0:.3f}'.format(np.angle(c2)*180.0/np.pi))\n",
    "print('---------------------')\n",
    "\n",
    "cadd = c1 + c2\n",
    "csub = c1 - c2\n",
    "c3 = c1*c2\n",
    "c4 = c1/c2\n",
    "\n",
    "theta3 = np.angle(c3)*180.0/np.pi\n",
    "theta4 = np.angle(c4)*180.0/np.pi\n",
    "\n",
    "print('Addition: ({0.real:.3f} + {0.imag:.3f}i)'.format(cadd))\n",
    "print('Subtraction: ({0.real:.3f} + {0.imag:.3f}i)'.format(csub))\n",
    "print('Multiplication: ({0.real:.3f} + {0.imag:.3f}i)'.format(c3))\n",
    "print('Division: ({0.real:.3f} + {0.imag:.3f}i)'.format(c4))\n",
    "print('---------------------')\n",
    "\n",
    "print('Angle of c3: {0:.3f}'.format(theta3))\n",
    "print('Angle of c4: {0:.3f}'.format(theta4))"
   ],
   "metadata": {
    "collapsed": false,
    "ExecuteTime": {
     "end_time": "2024-02-08T18:34:31.593884Z",
     "start_time": "2024-02-08T18:34:31.587117Z"
    }
   },
   "id": "48deae9306eafd07"
  },
  {
   "cell_type": "code",
   "execution_count": 16,
   "outputs": [
    {
     "name": "stdout",
     "output_type": "stream",
     "text": [
      "c1: (4.000 + 3.000i)\n",
      "c2: (2.000 + -1.000i)\n",
      "Angle of c1: 36.870\n",
      "Angle of c2: -26.565\n",
      "---------------------\n",
      "Addition: (6.000 + 2.000i)\n",
      "Subtraction: (2.000 + 4.000i)\n",
      "Multiplication: (11.000 + 2.000i)\n",
      "Division: (1.000 + 2.000i)\n",
      "---------------------\n",
      "Angle of c3: 10.305\n",
      "Angle of c4: 63.435\n"
     ]
    }
   ],
   "source": [
    "c1 = 4 + 3j\n",
    "c2 = 2 - 1j\n",
    "\n",
    "print('c1: ({0.real:.3f} + {0.imag:.3f}i)'.format(c1))\n",
    "print('c2: ({0.real:.3f} + {0.imag:.3f}i)'.format(c2))\n",
    "print('Angle of c1: {0:.3f}'.format(np.angle(c1)*180.0/np.pi))\n",
    "print('Angle of c2: {0:.3f}'.format(np.angle(c2)*180.0/np.pi))\n",
    "print('---------------------')\n",
    "\n",
    "cadd = c1 + c2\n",
    "csub = c1 - c2\n",
    "c3 = c1*c2\n",
    "c4 = c1/c2\n",
    "\n",
    "theta3 = np.angle(c3)*180.0/np.pi\n",
    "theta4 = np.angle(c4)*180.0/np.pi\n",
    "\n",
    "print('Addition: ({0.real:.3f} + {0.imag:.3f}i)'.format(cadd))\n",
    "print('Subtraction: ({0.real:.3f} + {0.imag:.3f}i)'.format(csub))\n",
    "print('Multiplication: ({0.real:.3f} + {0.imag:.3f}i)'.format(c3))\n",
    "print('Division: ({0.real:.3f} + {0.imag:.3f}i)'.format(c4))\n",
    "print('---------------------')\n",
    "\n",
    "print('Angle of c3: {0:.3f}'.format(theta3))\n",
    "print('Angle of c4: {0:.3f}'.format(theta4))"
   ],
   "metadata": {
    "collapsed": false,
    "ExecuteTime": {
     "end_time": "2024-02-08T18:35:38.455669Z",
     "start_time": "2024-02-08T18:35:38.451844Z"
    }
   },
   "id": "2e5b9692ad1fa753"
  },
  {
   "cell_type": "code",
   "execution_count": 19,
   "outputs": [
    {
     "name": "stdout",
     "output_type": "stream",
     "text": [
      "Angle of c1: 36.870\n",
      "7 times Angle of c1: 258.089\n",
      "c5: (-16124.000 + -76443.000i)\n",
      "Angle of c5: -101.911\n"
     ]
    }
   ],
   "source": [
    "c5 = c1**7\n",
    "\n",
    "print('Angle of c1: {0:.3f}'.format(np.angle(c1)*180.0/np.pi))\n",
    "\n",
    "print('7 times Angle of c1: {0:.3f}'.format(7*np.angle(c1)*180.0/np.pi))\n",
    "\n",
    "print('c5: ({0.real:.3f} + {0.imag:.3f}i)'.format(c5))\n",
    "\n",
    "print('Angle of c5: {0:.3f}'.format(np.angle(c5)*180.0/np.pi))"
   ],
   "metadata": {
    "collapsed": false,
    "ExecuteTime": {
     "end_time": "2024-02-08T18:37:29.995378Z",
     "start_time": "2024-02-08T18:37:29.991665Z"
    }
   },
   "id": "7af715ef348ecc43"
  },
  {
   "cell_type": "code",
   "execution_count": 21,
   "outputs": [
    {
     "name": "stdout",
     "output_type": "stream",
     "text": [
      "Angle of c1: 36.870\n",
      "c6: (2.121 + 0.707i)\n",
      "Angle of c6: 18.435\n"
     ]
    }
   ],
   "source": [
    "c6 = np.sqrt(c1)\n",
    "\n",
    "print('Angle of c1: {0:.3f}'.format(np.angle(c1)*180.0/np.pi))\n",
    "\n",
    "print('c6: ({0.real:.3f} + {0.imag:.3f}i)'.format(c6))\n",
    "\n",
    "print('Angle of c6: {0:.3f}'.format(np.angle(c6)*180.0/np.pi))"
   ],
   "metadata": {
    "collapsed": false,
    "ExecuteTime": {
     "end_time": "2024-02-08T18:38:30.832Z",
     "start_time": "2024-02-08T18:38:30.826506Z"
    }
   },
   "id": "a826ac4b4ad42852"
  },
  {
   "cell_type": "code",
   "execution_count": 21,
   "outputs": [],
   "source": [],
   "metadata": {
    "collapsed": false,
    "ExecuteTime": {
     "end_time": "2024-02-08T18:38:40.036418Z",
     "start_time": "2024-02-08T18:38:40.033055Z"
    }
   },
   "id": "a1a415f1931c9c42"
  },
  {
   "cell_type": "code",
   "execution_count": 21,
   "outputs": [],
   "source": [],
   "metadata": {
    "collapsed": false,
    "ExecuteTime": {
     "end_time": "2024-02-08T18:38:43.192608Z",
     "start_time": "2024-02-08T18:38:43.183304Z"
    }
   },
   "id": "f760d90126f2ac08"
  },
  {
   "cell_type": "code",
   "execution_count": 22,
   "outputs": [
    {
     "name": "stdout",
     "output_type": "stream",
     "text": [
      "multiplication:\n",
      "-c1i⋅c2i + ⅈ⋅c1i⋅c2r + ⅈ⋅c1r⋅c2i + c1r⋅c2r\n",
      "\n",
      "division:\n",
      "   ⅈ⋅c1i          c1r    \n",
      "─────────── + ───────────\n",
      "ⅈ⋅c2i + c2r   ⅈ⋅c2i + c2r\n",
      "\n",
      "addition:\n",
      "ⅈ⋅c1i + c1r + ⅈ⋅c2i + c2r\n",
      "\n",
      "subtraction:\n",
      "ⅈ⋅c1i + c1r - ⅈ⋅c2i - c2r\n",
      "\n",
      "power:\n",
      "       7        6               5    2         4    3           3    4        \n",
      "- ⅈ⋅c1i  - 7⋅c1i ⋅c1r + 21⋅ⅈ⋅c1i ⋅c1r  + 35⋅c1i ⋅c1r  - 35⋅ⅈ⋅c1i ⋅c1r  - 21⋅c1\n",
      "\n",
      " 2    5              6      7\n",
      "i ⋅c1r  + 7⋅ⅈ⋅c1i⋅c1r  + c1r \n",
      "\n",
      "sqrt:\n",
      "  _____________\n",
      "╲╱ ⅈ⋅c1i + c1r \n",
      "\n",
      "Substituting values:\n",
      "\n",
      "multiplication:\n",
      "11 + 2⋅ⅈ\n",
      "division:\n",
      "1 + 2⋅ⅈ\n",
      "addition:\n",
      "6 + 2⋅ⅈ\n",
      "subtraction:\n",
      "2 + 4⋅ⅈ\n",
      "power:\n",
      "-16124 - 76443⋅ⅈ\n",
      "sqrt:\n",
      "√2⋅(3 + ⅈ)\n",
      "──────────\n",
      "    2     \n"
     ]
    }
   ],
   "source": [
    "import sympy as sym\n",
    "c1r, c1i, c2r, c2i = sym.symbols('c1r c1i c2r c2i', real=True)\n",
    "c1 = c1r + sym.I*c1i\n",
    "c2 = c2r + sym.I*c2i\n",
    "\n",
    "expr_mult = c1*c2\n",
    "expr_mult = sym.expand(expr_mult)\n",
    "\n",
    "print('multiplication:')\n",
    "sym.pprint(expr_mult)\n",
    "print()\n",
    "\n",
    "expr_div = c1/c2\n",
    "expr_div = sym.expand(expr_div)\n",
    "\n",
    "print('division:')\n",
    "sym.pprint(expr_div)\n",
    "print()\n",
    "\n",
    "expr_add = c1+c2\n",
    "expr_add = sym.expand(expr_add)\n",
    "\n",
    "print('addition:')\n",
    "sym.pprint(expr_add)\n",
    "print()\n",
    "\n",
    "expr_sub = c1-c2\n",
    "expr_sub = sym.expand(expr_sub)\n",
    "\n",
    "print('subtraction:')\n",
    "sym.pprint(expr_sub)\n",
    "print()\n",
    "\n",
    "expr_power = c1**7\n",
    "expr_power = sym.expand(expr_power)\n",
    "\n",
    "print('power:')\n",
    "sym.pprint(expr_power)\n",
    "print()\n",
    "\n",
    "expr_sqrt = sym.sqrt(c1)\n",
    "expr_sqrt = sym.expand(expr_sqrt)\n",
    "\n",
    "print('sqrt:')\n",
    "sym.pprint(expr_sqrt)\n",
    "print()\n",
    "\n",
    "print(\"Substituting values:\")\n",
    "print()\n",
    "\n",
    "print('multiplication:')\n",
    "sym.pprint(sym.simplify(expr_mult.subs({c1r:4, c1i:3, c2r:2, c2i:-1})))\n",
    "print('division:')\n",
    "sym.pprint(sym.simplify(expr_div.subs({c1r:4, c1i:3, c2r:2, c2i:-1})))\n",
    "print('addition:')\n",
    "sym.pprint(sym.simplify(expr_add.subs({c1r:4, c1i:3, c2r:2, c2i:-1})))\n",
    "print('subtraction:')\n",
    "sym.pprint(sym.simplify(expr_sub.subs({c1r:4, c1i:3, c2r:2, c2i:-1})))\n",
    "print('power:')\n",
    "sym.pprint(sym.simplify(expr_power.subs({c1r:4, c1i:3})))\n",
    "print('sqrt:')\n",
    "sym.pprint(sym.simplify(expr_sqrt.subs({c1r:4, c1i:3})))\n",
    "\n"
   ],
   "metadata": {
    "collapsed": false,
    "ExecuteTime": {
     "end_time": "2024-02-08T18:38:45.205114Z",
     "start_time": "2024-02-08T18:38:43.704597Z"
    }
   },
   "id": "46451fbf2b1efe12"
  },
  {
   "cell_type": "code",
   "execution_count": 8,
   "outputs": [],
   "source": [],
   "metadata": {
    "collapsed": false,
    "ExecuteTime": {
     "end_time": "2024-01-22T15:30:26.388055Z",
     "start_time": "2024-01-22T15:30:26.385807Z"
    }
   },
   "id": "fb4f976860bb5c77"
  },
  {
   "cell_type": "code",
   "execution_count": 8,
   "outputs": [],
   "source": [],
   "metadata": {
    "collapsed": false,
    "ExecuteTime": {
     "end_time": "2024-01-22T15:30:27.251037Z",
     "start_time": "2024-01-22T15:30:27.249318Z"
    }
   },
   "id": "80e1c5fb2a48747d"
  },
  {
   "cell_type": "code",
   "outputs": [],
   "source": [],
   "metadata": {
    "collapsed": false
   },
   "id": "a8481998c9019c7c"
  }
 ],
 "metadata": {
  "kernelspec": {
   "display_name": "Python 3",
   "language": "python",
   "name": "python3"
  },
  "language_info": {
   "codemirror_mode": {
    "name": "ipython",
    "version": 2
   },
   "file_extension": ".py",
   "mimetype": "text/x-python",
   "name": "python",
   "nbconvert_exporter": "python",
   "pygments_lexer": "ipython2",
   "version": "2.7.6"
  }
 },
 "nbformat": 4,
 "nbformat_minor": 5
}
