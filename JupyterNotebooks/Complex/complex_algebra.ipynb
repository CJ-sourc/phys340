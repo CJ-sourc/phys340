{
 "cells": [
  {
   "cell_type": "code",
   "execution_count": 1,
   "id": "initial_id",
   "metadata": {
    "collapsed": true,
    "ExecuteTime": {
     "end_time": "2023-12-30T15:19:18.049575Z",
     "start_time": "2023-12-30T15:19:17.432851Z"
    }
   },
   "outputs": [],
   "source": [
    "import numpy as np\n",
    "import matplotlib.pyplot as plt"
   ]
  },
  {
   "cell_type": "code",
   "execution_count": 3,
   "outputs": [
    {
     "name": "stdout",
     "output_type": "stream",
     "text": [
      "addition:  (0.7071067811865477+1.7071067811865475j)\n",
      "subtraction:  (0.7071067811865475-0.29289321881345254j)\n",
      "multiplication:  (-0.7071067811865475+0.7071067811865476j) 135.0\n",
      "division:  (0.7071067811865475-0.7071067811865476j) -45.00000000000001\n"
     ]
    }
   ],
   "source": [
    "theta1d = 45.0\n",
    "theta2d = 90.0\n",
    "\n",
    "theta1 = theta1d*np.pi/180.0\n",
    "theta2 = theta2d*np.pi/180.0\n",
    "\n",
    "c1 = np.cos(theta1) + 1j*np.sin(theta1)\n",
    "c2 = np.cos(theta2) + 1j*np.sin(theta2)\n",
    "\n",
    "cadd = c1 + c2\n",
    "csub = c1 - c2\n",
    "c3 = c1*c2\n",
    "c4 = c1/c2\n",
    "\n",
    "theta3 = np.angle(c3)*180.0/np.pi\n",
    "theta4 = np.angle(c4)*180.0/np.pi\n",
    "\n",
    "print('addition: ', cadd)\n",
    "print('subtraction: ', csub)\n",
    "print('multiplication: ', c3, theta3)\n",
    "print('division: ', c4, theta4)"
   ],
   "metadata": {
    "collapsed": false,
    "ExecuteTime": {
     "end_time": "2023-12-30T15:24:34.459862Z",
     "start_time": "2023-12-30T15:24:34.454970Z"
    }
   },
   "id": "48deae9306eafd07"
  },
  {
   "cell_type": "code",
   "execution_count": 4,
   "outputs": [
    {
     "name": "stdout",
     "output_type": "stream",
     "text": [
      "addition:  (6+2j)\n",
      "subtraction:  (2+4j)\n",
      "multiplication:  (11+2j) 10.304846468766033\n",
      "division:  (1+2j) 63.43494882292201\n"
     ]
    }
   ],
   "source": [
    "c1 = 4 + 3j\n",
    "c2 = 2 - 1j\n",
    "\n",
    "cadd = c1 + c2\n",
    "csub = c1 - c2\n",
    "c3 = c1*c2\n",
    "c4 = c1/c2\n",
    "\n",
    "theta3 = np.angle(c3)*180.0/np.pi\n",
    "theta4 = np.angle(c4)*180.0/np.pi\n",
    "\n",
    "print('addition: ', cadd)\n",
    "print('subtraction: ', csub)\n",
    "print('multiplication: ', c3, theta3)\n",
    "print('division: ', c4, theta4)"
   ],
   "metadata": {
    "collapsed": false,
    "ExecuteTime": {
     "end_time": "2023-12-30T15:25:52.633979Z",
     "start_time": "2023-12-30T15:25:52.613228Z"
    }
   },
   "id": "2e5b9692ad1fa753"
  },
  {
   "cell_type": "code",
   "execution_count": 5,
   "outputs": [
    {
     "name": "stdout",
     "output_type": "stream",
     "text": [
      "c5:  (-16124-76443j)\n"
     ]
    }
   ],
   "source": [
    "c5 = c1**7\n",
    "\n",
    "print('c5: ', c5)"
   ],
   "metadata": {
    "collapsed": false,
    "ExecuteTime": {
     "end_time": "2023-12-30T15:32:48.098885Z",
     "start_time": "2023-12-30T15:32:48.090235Z"
    }
   },
   "id": "7af715ef348ecc43"
  },
  {
   "cell_type": "code",
   "execution_count": null,
   "outputs": [],
   "source": [],
   "metadata": {
    "collapsed": false
   },
   "id": "a826ac4b4ad42852"
  }
 ],
 "metadata": {
  "kernelspec": {
   "display_name": "Python 3",
   "language": "python",
   "name": "python3"
  },
  "language_info": {
   "codemirror_mode": {
    "name": "ipython",
    "version": 2
   },
   "file_extension": ".py",
   "mimetype": "text/x-python",
   "name": "python",
   "nbconvert_exporter": "python",
   "pygments_lexer": "ipython2",
   "version": "2.7.6"
  }
 },
 "nbformat": 4,
 "nbformat_minor": 5
}
