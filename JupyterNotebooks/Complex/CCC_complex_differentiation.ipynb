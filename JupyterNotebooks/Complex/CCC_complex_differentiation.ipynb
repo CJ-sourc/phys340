{
 "cells": [
  {
   "cell_type": "markdown",
   "source": [
    "# So, you think you can differentiate?"
   ],
   "metadata": {
    "collapsed": false
   },
   "id": "54ac1878e1ed3e79"
  },
  {
   "cell_type": "markdown",
   "source": [
    "# Complex Differentiation\n",
    "\n",
    "In this notebook, we will explore the concept of complex differentiation. We will start by defining the complex derivative and then we will explore the concept of complex differentiability. We will also explore the concept of complex analytic functions and the Cauchy-Riemann equations.\n",
    "\n",
    "## Complex Derivative\n",
    "\n",
    "The complex derivative of a function $f(z)$ is defined as:\n",
    "\n",
    "$$f'(z) = \\lim_{\\Delta z \\to 0} \\frac{f(z + \\Delta z) - f(z)}{\\Delta z}$$\n",
    "\n",
    "where $\\Delta z$ is a complex number.\n",
    "\n",
    "Now, we have to really think about what this means!  Since $z$ is a complex number, $\\Delta z$ is also a complex number.  This means that $\\Delta z$ can approach $0$ from any direction in the complex plane.  This is a very different concept from the real derivative, where $\\Delta x$ can only approach $0$ from the left or the right!!!!\n",
    "\n",
    "## Complex Differentiability\n",
    "\n",
    "A function $f(z)$ is said to be complex differentiable at a point $z_0$ if the limit:\n",
    "\n",
    "$$f'(z_0) = \\lim_{\\Delta z \\to 0} \\frac{f(z_0 + \\Delta z) - f(z_0)}{\\Delta z}$$\n",
    "\n",
    "exists.  This is a very strong condition.  It means that the function $f(z)$ must be differentiable at every point in a neighborhood of $z_0$.  This is a much stronger condition than the real derivative, where a function can be differentiable at a point, but not in a neighborhood of that point.\n",
    "\n",
    "## Complex Analytic Functions\n",
    "\n",
    "We can use the definition of the complex derivative to find the derivative of this function.  We have:\n",
    "\n",
    "$$f'(z) = \\lim_{\\Delta z \\to 0} \\frac{f(z + \\Delta z) - f(z)}{\\Delta z}$$\n",
    "\n",
    "Let's start imagine a small $real$ change in $z$, $\\Delta h$. Then we have:\n",
    "\n",
    "$$f'(z) = \\lim_{\\Delta h \\to 0} \\frac{f(z + \\Delta h) - f(z)}{\\Delta h}$$\n",
    "\n",
    "We write the function, $f(z)$, as:\n",
    "\n",
    "$$f(z) = u(x,y) + i v(x,y)$$\n",
    "\n",
    "where $u$ and $v$ are real functions of $x$ and $y$.  We can then write the function $f(z + \\Delta h)$ as:\n",
    "\n",
    "$$f(z + \\Delta h) = u(x + \\Delta h, y) + i v(x + \\Delta h, y)$$\n",
    "\n",
    "We can then write the derivative as:\n",
    "\n",
    "$$f'(z) = \\lim_{\\Delta h \\to 0} \\frac{u(x + \\Delta h, y) + i v(x + \\Delta h, y) - u(x,y) - i v(x,y)}{\\Delta h}$$\n",
    "\n",
    "$$ = \\lim_{\\Delta h \\to 0} \\frac{u(x + \\Delta h, y) - u(x,y)}{\\Delta h} + i \\lim_{\\Delta h \\to 0} \\frac{v(x + \\Delta h, y) - v(x,y)}{\\Delta h}$$\n",
    "\n",
    "$$ = \\frac{\\partial u}{\\partial x} + i \\frac{\\partial v}{\\partial x}$$\n",
    "\n",
    "Now, let's imagine a small $imaginary$ change in $z$, $i\\Delta k$. Then we have:\n",
    "\n",
    "$$f'(z) = \\lim_{\\Delta k \\to 0} \\frac{f(z + i\\Delta k) - f(z)}{i\\Delta k}$$\n",
    "\n",
    "We write the function $f(z + i\\Delta k)$ as:\n",
    "\n",
    "$$f(z + i\\Delta k) = u(x, y + \\Delta k) + i v(x, y + \\Delta k)$$\n",
    "\n",
    "We can then write the derivative as:\n",
    "\n",
    "$$f'(z) = \\lim_{\\Delta k \\to 0} \\frac{u(x, y + \\Delta k) + i v(x, y + \\Delta k) - u(x,y) - i v(x,y)}{i\\Delta k}$$\n",
    "\n",
    "$$ = \\lim_{\\Delta k \\to 0} \\frac{u(x, y + \\Delta k) - u(x,y)}{i\\Delta k} + i \\lim_{\\Delta k \\to 0} \\frac{v(x, y + \\Delta k) - v(x,y)}{i\\Delta k}$$\n",
    "\n",
    "$$ = -i \\frac{\\partial u}{\\partial y} + \\frac{\\partial v}{\\partial y}$$\n",
    "\n",
    "The function $f(z)$ is differentiable at a point $z_0$ if the following conditions are satisfied:\n",
    "\n",
    "$$\\frac{\\partial u}{\\partial x} = \\frac{\\partial v}{\\partial y}$$\n",
    "\n",
    "$$\\frac{\\partial u}{\\partial y} = -\\frac{\\partial v}{\\partial x}$$\n",
    "\n",
    "These are called the Cauchy-Riemann equations.  If these equations are satisfied, then the function $f(z)$ is said to be complex differentiable at the point $z_0$.\n",
    "\n",
    "## Example 1\n",
    "\n",
    "Consider the following function:\n",
    "\n",
    "$$f(z) = z^2$$\n",
    "\n",
    "Let's find the derivative of this function.\n",
    "\n",
    "## Solution\n",
    "\n",
    "We can write the function as:\n",
    "\n",
    "$$f(z) = z^2 = (x + iy)^2 = x^2 - y^2 + 2ixy$$\n",
    "\n",
    "So, we have that $u(x,y) = x^2 - y^2$ and $v(x,y) = 2xy$.  We can then write the derivative as:\n",
    "\n",
    "$$f'(z) = \\frac{\\partial u}{\\partial x} + i \\frac{\\partial v}{\\partial x} = 2x + 2iy = 2z$$\n",
    "\n",
    "So, the derivative of the function $f(z) = z^2$ is $f'(z) = 2z$.  Notice that this is the same as the real derivative of the function $f(x) = x^2$.\n",
    "\n",
    "## Rules for Complex Differentiation\n",
    "\n",
    "While it is totally NOT obvious that this should be the case, it turns out that if we go through the mechanics of using the definition of complex differentiation as shown above, the rules for complex differentiation are the same as the rules for real differentiation!!!!  \n",
    "\n",
    "We have:\n",
    "\n",
    "1. The sum rule:  $(f + g)' = f' + g'$\n",
    "2. The product rule:  $(fg)' = f'g + fg'$\n",
    "3. The quotient rule:  $\\left(\\frac{f}{g}\\right)' = \\frac{f'g - fg'}{g^2}$\n",
    "4. The chain rule:  $(f \\circ g)' = (f' \\circ g) \\cdot g'$\n",
    "5. The power rule:  $(f^n)' = nf^{n-1}f'$\n",
    "6. The exponential rule:  $(e^f)' = e^f \\cdot f'$\n",
    "7. The logarithm rule:  $(\\ln(f))' = \\frac{f'}{f}$\n",
    "8. The sine rule:  $(\\sin(f))' = \\cos(f) \\cdot f'$\n",
    "9. The cosine rule:  $(\\cos(f))' = -\\sin(f) \\cdot f'$\n",
    "10. The tangent rule:  $(\\tan(f))' = \\sec^2(f) \\cdot f'$\n",
    "\n",
    "## Example 1\n",
    "\n",
    "Consider the following function:\n",
    "\n",
    "$$f(z) = \\frac{7z - 8 + 9i}{4z + i}$$\n",
    "\n",
    "Let's find the derivative of this function.\n",
    "\n",
    "## Solution\n",
    "\n",
    "We can use the quotient rule to find the derivative of this function.  We have:\n",
    "\n",
    "$$f'(z) = \\frac{(7z - 8 + 9i)'(4z + i) - (7z - 8 + 9i)(4z + i)'}{(4z + i)^2}$$\n",
    "\n",
    "$$ = \\frac{7(4z + i) - 4(7z - 8 + 9i)}{(4z + i)^2}$$\n",
    "\n",
    "$$ = \\frac{28z + 7i - 28z + 32 - 36i}{(4z + i)^2}$$\n",
    "\n",
    "$$ = \\frac{7i + 32 - 36i}{(4z + i)^2}$$\n",
    "\n",
    "$$ = \\frac{32 - 29i}{(4z + i)^2}$$\n",
    "\n",
    "So, the derivative of the function $f(z) = \\frac{7z - 8 + 9i}{4z + i}$ is $f'(z) = \\frac{32 - 29i}{(4z + i)^2}$.\n",
    "\n",
    "## Example 2\n",
    "\n",
    "It is very important to appreciate that the condition of differentiability is a very strong condition. It is actually rather difficult to find functions that are complex differentiable!\n",
    "\n",
    "Consider the following function:\n",
    "\n",
    "$$f(z) = z^2$$\n",
    "\n",
    "Let's check the differentiability of this function, by checking the Cauchy-Riemann equations.\n",
    "\n",
    "## Solution\n",
    "\n",
    "We have that $u(x,y) = x^2 - y^2$ and $v(x,y) = 2xy$.  We can then write the partial derivatives as:\n",
    "\n",
    "$$\\frac{\\partial u}{\\partial x} = 2x$$\n",
    "\n",
    "$$\\frac{\\partial v}{\\partial y} = 2x$$\n",
    "\n",
    "$$\\frac{\\partial u}{\\partial y} = -2y$$\n",
    "\n",
    "$$\\frac{\\partial v}{\\partial x} = 2y$$\n",
    "\n",
    "We can see that the Cauchy-Riemann equations are satisfied.  So, the function $f(z) = z^2$ is complex differentiable.\n",
    "\n",
    "## Finding points of non-differentiability\n",
    "\n",
    "It is very difficult to find functions that are complex differentiable.  It is much easier to find functions that are not complex differentiable.  We can use the Cauchy-Riemann equations to find points of non-differentiability.\n",
    "\n",
    "Consider the following function:\n",
    "\n",
    "$$f(z) = \\frac{z-4+3i}{z^2-6z+25}$$\n",
    "\n",
    "Let's find the points of non-differentiability of this function.\n",
    "\n",
    "## Solution\n",
    "\n",
    "First, we can calculate the derivative of the function using the quotient rule.  We have:\n",
    "\n",
    "$$f'(z) = \\frac{(z-4+3i)'(z^2-6z+25) - (z-4+3i)(z^2-6z+25)'}{(z^2-6z+25)^2}$$\n",
    "\n",
    "$$ = \\frac{(z^2-6z+25) - (z-4+3i)(2z-6)}{(z^2-6z+25)^2}$$\n",
    "\n",
    "We see that the derivative is undefined if the denominator is zero.  We can then solve the equation:\n",
    "\n",
    "$$z^2-6z+25 = 0$$\n",
    "\n",
    "Substituting $z = x + iy$, we have:\n",
    "\n",
    "$$(x + iy)^2 - 6(x + iy) + 25 = 0$$\n",
    "\n",
    "$$x^2 - y^2 + 2ixy - 6x - 6iy + 25 = 0$$\n",
    "\n",
    "We can then separate the real and imaginary parts:\n",
    "\n",
    "$$x^2 - y^2 - 6x + 25 = 0$$\n",
    "\n",
    "$$2xy - 6y = 0$$\n",
    "\n",
    "We can then solve the second equation for $y$:\n",
    "\n",
    "$$y(2x - 6) = 0$$\n",
    "\n",
    "So, we have that $y = 0$ or $x = 3$.  If $y = 0$, then the first equation becomes:\n",
    "\n",
    "$$x^2 - 6x + 25 = 0$$\n",
    "\n",
    "This equation has no real solutions.  So, we have that $y \\neq 0$.  If $x = 3$, then the first equation becomes:\n",
    "\n",
    "$$9 - y^2 - 18 + 25 = 0$$\n",
    "\n",
    "$$y^2 = 16$$\n",
    "\n",
    "$$y = \\pm 4$$\n",
    "\n",
    "So, the points of non-differentiability are $z = 3 + 4i$ and $z = 3 - 4i$.\n",
    "\n",
    "\n",
    "\n",
    "\n",
    "\n",
    "\n",
    "\n",
    "\n",
    "\n",
    "\n",
    "\n",
    "\n",
    "\n",
    "\n",
    "\n",
    "\n"
   ],
   "metadata": {
    "collapsed": false
   },
   "id": "b4e0505987ecc086"
  },
  {
   "cell_type": "markdown",
   "source": [
    "## Second Method\n",
    "\n",
    "We can also use the Cauchy-Riemann equations to find the points of non-differentiability and the points of analyticity.\n",
    "\n",
    "Consider the following function:\n",
    "\n",
    "$$f(z) = \\frac{1}{z}$$\n",
    "\n",
    "Let's find the points of non-differentiability of this function.\n",
    "\n",
    "## Solution Using First Method\n",
    "\n",
    "We can calculate the derivative of the function using rule for polynomials.  We have:\n",
    "\n",
    "$$f'(z) = -\\frac{1}{z^2}$$\n",
    "\n",
    "We see that the derivative is undefined if the denominator is zero.  So, the expected solution is $z = 0$.\n",
    "\n",
    "Now, let's use the Cauchy-Riemann equations to find the points of non-differentiability."
   ],
   "metadata": {
    "collapsed": false
   },
   "id": "c901f238d06f23f"
  },
  {
   "cell_type": "markdown",
   "source": [
    "## Step 1:  Write the function in the form $f(z) = u(x,y) + iv(x,y)$\n",
    "\n",
    "We can write the function as:\n",
    "\n",
    "$$f(z) = \\frac{1}{z} = \\frac{1}{x + iy} = \\frac{x - iy}{x^2 + y^2}$$\n",
    "\n",
    "## Step 2:  Calculate the partial derivatives\n",
    "\n",
    "We have that $u(x,y) = \\frac{x}{x^2 + y^2}$ and $v(x,y) = -\\frac{y}{x^2 + y^2}$.  We can then write the partial derivatives as:\n",
    "\n",
    "$$\\frac{\\partial u}{\\partial x} = \\frac{(x^2+y^2)(1) - x(2x)}{(x^2 + y^2)^2} = \\frac{y^2 - x^2}{(x^2 + y^2)^2}$$\n",
    "\n",
    "$$\\frac{\\partial v}{\\partial y} = - \\frac{(x^2+y^2)(-1) - (-y)(2y)}{(x^2 + y^2)^2} = \\frac{y^2 - x^2}{(x^2 + y^2)^2}$$\n",
    "\n",
    "$$\\frac{\\partial u}{\\partial y} = -\\frac{2xy}{(x^2 + y^2)^2}$$\n",
    "\n",
    "$$\\frac{\\partial v}{\\partial x} = \\frac{2xy}{(x^2 + y^2)^2}$$\n",
    "\n",
    "## Step 3:  Solve the Cauchy-Riemann equations\n",
    "\n",
    "We can then solve the Cauchy-Riemann equations:\n",
    "\n",
    "$$\\frac{\\partial u}{\\partial x} = \\frac{\\partial v}{\\partial y}$$\n",
    "\n",
    "$$\\frac{\\partial u}{\\partial y} = -\\frac{\\partial v}{\\partial x}$$\n",
    "\n",
    "We can see by inspection that the Cauchy-Riemann equations are satisfied.  So, the function $f(z)$ is indeed analytic everywhere except at $z = 0$."
   ],
   "metadata": {
    "collapsed": false
   },
   "id": "84b6e8c9cccb6d78"
  },
  {
   "cell_type": "markdown",
   "source": [
    "## Second Method for a different function\n",
    "\n",
    "We can also use the Cauchy-Riemann equations to find the points of non-differentiability.\n",
    "\n",
    "Consider the following function:\n",
    "\n",
    "$$f(z) = \\frac{1}{4z^2 - 1}$$\n",
    "\n",
    "Let's find the points of non-differentiability of this function.\n",
    "\n",
    "We can calculate the derivative of the function using the polynomial rule, together with the chain rule.  We have:\n",
    "\n",
    "$$f'(z) = -\\frac{8z}{(4z^2 - 1)^2}$$\n",
    "\n",
    "We see that the derivative is undefined if the denominator is zero.  We can then solve the equation:\n",
    "\n",
    "$$(4z^2 - 1)^2 = 0$$\n",
    "\n",
    "Writing $z = x + iy$, we have:\n",
    "\n",
    "$$z^2 = x^2 - y^2 + 2ixy$$\n",
    "\n",
    "$$4z^2 - 1 = 4x^2 - 4y^2 - 1 + 8ixy$$\n",
    "\n",
    "$$ = (4x^2 - 4y^2 - 1) + i(8xy)$$\n",
    "\n",
    "$$(4z^2 - 1)^2 = (4x^2 - 4y^2 - 1)^2 - (8xy)^2 +i(16xy(4x^2-4y^2-1)) = 0$$\n",
    "\n",
    "Looking at the imaginary part, we have three solutions:\n",
    "\n",
    "$$x=0$$\n",
    "$$y=0$$\n",
    "$$(4x^2 - 4y^2 - 1) = 0$$\n",
    "\n",
    "If $x=0$, then we have:\n",
    "\n",
    "$$(- 4y^2 - 1) = 0$$\n",
    "\n",
    "This equation has no real solutions.  So, we have that $x \\neq 0$.  \n",
    "\n",
    "If $y=0$, then we have:\n",
    "\n",
    "$$(4x^2 - 1) = 0$$\n",
    "\n",
    "$$4x^2 = 1$$\n",
    "\n",
    "$$x^2 = \\frac{1}{4}$$\n",
    "\n",
    "$$x = \\pm \\frac{1}{2}$$\n",
    "\n",
    "So, the points of non-differentiability are $z = \\pm \\frac{1}{2}$.\n",
    "\n",
    "Finally, if $(4x^2 - 4y^2 - 1) = 0$, then we have:\n",
    "\n",
    "$$-16x^2y^2 = 0$$\n",
    "\n",
    "This equation also has the two solutions $x=0$ and $y=0$, but these two cases lead to the same solutions as the previous two cases.\n",
    "\n",
    "So, the points of non-differentiability are $z = \\pm \\frac{1}{2}$.\n",
    "\n",
    "## Solution using the Cauchy-Riemann equations\n",
    "\n",
    "Letting $z = x + iy$, we have:\n",
    "\n",
    "$$f(z) = \\frac{1}{4(x + iy)^2 - 1}$$\n",
    "\n",
    "$$ = \\frac{1}{4(x^2 - y^2 + 2ixy) - 1}$$\n",
    "\n",
    "$$ = \\frac{1}{4x^2 - 4y^2 + 8ixy - 1}$$\n",
    "\n",
    "We can use that if:\n",
    "\n",
    "$$f(z) = \\frac{1}{u_d(x,y) + iv_d(x,y)}$$\n",
    "\n",
    "Then:\n",
    "\n",
    "$$f(z) = \\frac{u_d(x,y) - iv_d(x,y)}{u_d^2(x,y) + v_d^2(x,y)}$$\n",
    "\n",
    "We can then separate the real and imaginary parts:\n",
    "\n",
    "$$u(x,y) = \\frac{u_d}{u_d^2 +v_d^2}$$\n",
    "$$= \\frac{4x^2 - 4y^2 - 1}{(4x^2 - 4y^2 - 1)^2+(8xy)^2}$$\n",
    "\n",
    "$$v(x,y) = \\frac{-v_d}{u_d^2 +v_d^2}$$\n",
    "$$= \\frac{-8xy}{(4x^2 - 4y^2 - 1)^2+(8xy)^2}$$\n",
    "\n",
    "We can then calculate the partial derivatives as follows (using Wolfram Alpha):\n",
    "\n",
    "$$\\frac{\\partial u}{\\partial x} = \\frac{-(8 x (1 + 16 x^4 - 8 y^2 - 48 y^4 - 8 x^2 (1 + 4 y^2)))}{(16 x^4 + 8 x^2 (-1 + 4 y^2) + (1 + 4 y^2)^2)^2}$$\n",
    "\n",
    "$$\\frac{\\partial u}{\\partial y} = \\frac{(8 y (-48 x^4 + x^2 (8 - 32 y^2) + (1 + 4 y^2)^2))}{(16 x^4 + 8 x^2 (-1 + 4 y^2) + (1 + 4 y^2)^2)^2}$$\n",
    "\n",
    "$$\\frac{\\partial v}{\\partial x} = \\frac{-(8 y (-48 x^4 + x^2 (8 - 32 y^2) + (1 + 4 y^2)^2))}{(16 x^4 + 8 x^2 (-1 + 4 y^2) + (1 + 4 y^2)^2)^2}$$\n",
    "\n",
    "$$\\frac{\\partial v}{\\partial y} = \\frac{-(8 x (1 + 16 x^4 - 8 y^2 - 48 y^4 - 8 x^2 (1 + 4 y^2)))}{(16 x^4 + 8 x^2 (-1 + 4 y^2) + (1 + 4 y^2)^2)^2}\n",
    "$$\n",
    "\n",
    "We note that the denominator is always positive, and so we would only have to worry about when it is zero.  \n",
    "\n",
    "Using the Cauchy-Riemann equations, we have:\n",
    "\n",
    "$$\\frac{\\partial u}{\\partial x} = \\frac{\\partial v}{\\partial y}$$\n",
    "\n",
    "$$\\frac{\\partial u}{\\partial y} = -\\frac{\\partial v}{\\partial x}$$\n",
    "\n",
    "And, we see by inspection that the Cauchy-Riemann equations are satisfied.  So, the function $f(z)$ is indeed analytic everywhere except at for possibly when the denominator is zero.\n",
    "\n",
    "Let's look at the denominator in more detail.  We have:\n",
    "\n",
    "$$(16 x^4 + 8 x^2 (-1 + 4 y^2) + (1 + 4 y^2)^2)^2 = 0$$\n",
    "\n",
    "Wolfram Alpha tells us that the solution to this equation is:\n",
    "\n",
    "$$x = \\pm \\frac{1}{2} \\pm \\frac{i}{2}y$$\n",
    "\n",
    "However, we have specifed that $x$ and $y$ are real numbers.  So, the only solution is:\n",
    "\n",
    "$$x = \\pm \\frac{1}{2}$$\n",
    "$$y = 0$$\n",
    "\n",
    "or\n",
    "\n",
    "$$z = \\pm \\frac{1}{2}$$"
   ],
   "metadata": {
    "collapsed": false
   },
   "id": "32212af1b8c2d1a3"
  },
  {
   "cell_type": "code",
   "outputs": [
    {
     "data": {
      "text/plain": "(x + I*y - 4 + 3*I)/(-6*x - 6*I*y + (x + I*y)**2 + 25)",
      "text/latex": "$\\displaystyle \\frac{x + i y - 4 + 3 i}{- 6 x - 6 i y + \\left(x + i y\\right)^{2} + 25}$"
     },
     "execution_count": 71,
     "metadata": {},
     "output_type": "execute_result"
    }
   ],
   "source": [
    "# Let's see if we can do this using sympy\n",
    "\n",
    "from sympy import symbols, diff, I, re, im, solve, pprint\n",
    "\n",
    "x = symbols('x', real=True)\n",
    "y = symbols('y', real=True)\n",
    "z = x + I*y\n",
    "\n",
    "function_choice = 5\n",
    "\n",
    "if function_choice == 1:\n",
    "    f = z**2\n",
    "elif function_choice == 2:\n",
    "    f = (7*z - 8 + 9*I)/(4*z + I)\n",
    "elif function_choice == 3:\n",
    "    f = 1/z\n",
    "elif function_choice == 4:\n",
    "    f = 1/(4*z**2 - 1)\n",
    "else:\n",
    "    f = (z-4+3*I)/(z**2-6*z+25)\n",
    "\n",
    "f"
   ],
   "metadata": {
    "collapsed": false,
    "ExecuteTime": {
     "end_time": "2024-03-11T15:22:36.158923Z",
     "start_time": "2024-03-11T15:22:36.147092Z"
    }
   },
   "id": "b8f226be07f92690",
   "execution_count": 71
  },
  {
   "cell_type": "code",
   "outputs": [
    {
     "name": "stdout",
     "output_type": "stream",
     "text": [
      "      zz - 4 + 3⋅ⅈ     \n",
      "───────────────────────\n",
      "                 2     \n",
      "-6⋅x - 6⋅ⅈ⋅y + zz  + 25\n",
      "                 2                           \n",
      "-6⋅x - 6⋅ⅈ⋅y + zz  - 2⋅zz⋅(zz - 4 + 3⋅ⅈ) + 25\n",
      "─────────────────────────────────────────────\n",
      "                                  2          \n",
      "          ⎛                2     ⎞           \n",
      "          ⎝6⋅x + 6⋅ⅈ⋅y - zz  - 25⎠           \n",
      "The points of non-differentiability are [3 - 4*I, 3 + 4*I]\n"
     ]
    }
   ],
   "source": [
    "# Let's calculate the derivative of the function\n",
    "zz = symbols('zz', complex=True)\n",
    "\n",
    "if (function_choice == 1):\n",
    "    f_c = f.subs({z:zz})\n",
    "elif (function_choice == 2):\n",
    "    f_c = (7*zz - 8 + 9*I)/(4*zz + I)\n",
    "elif (function_choice == 3):\n",
    "    f_c = f.subs({z:zz})\n",
    "elif (function_choice == 4):\n",
    "    f_c = f.subs({z:zz})\n",
    "else:\n",
    "    f_c = f.subs({z:zz})\n",
    "\n",
    "pprint(f_c)\n",
    "f_prime = diff(f_c, zz)\n",
    "\n",
    "pprint(f_prime.simplify())\n",
    "\n",
    "if (function_choice == 1):\n",
    "    print(\"There are no points of non-differentiability\")\n",
    "elif (function_choice == 2):\n",
    "    denominator_zz = (4*zz + I)**2\n",
    "    solution = solve(denominator_zz, zz)\n",
    "    print(\"The points of non-differentiability are\", solution)\n",
    "elif (function_choice == 3):\n",
    "    denominator_zz = zz**2\n",
    "    solution = solve(denominator_zz, zz)\n",
    "    print(\"The points of non-differentiability are\", solution)\n",
    "elif (function_choice == 4):\n",
    "    denominator_zz = (4*zz**2 - 1)**2\n",
    "    solution = solve(denominator_zz, zz)\n",
    "    print(\"The points of non-differentiability are\", solution)\n",
    "else:\n",
    "    denominator_zz = (zz**2-6*zz+25)**2 \n",
    "    solution = solve(denominator_zz, zz)\n",
    "    print(\"The points of non-differentiability are\", solution)\n"
   ],
   "metadata": {
    "collapsed": false,
    "ExecuteTime": {
     "end_time": "2024-03-11T15:22:37.126867Z",
     "start_time": "2024-03-11T15:22:37.066233Z"
    }
   },
   "id": "47cd1823529157aa",
   "execution_count": 72
  },
  {
   "cell_type": "code",
   "outputs": [],
   "source": [
    "# Ok, so let's manipulate the function to get it in the form f(z) = u(x,y) + iv(x,y)\n",
    "\n",
    "u = re(f)\n",
    "\n",
    "v = im(f)"
   ],
   "metadata": {
    "collapsed": false,
    "ExecuteTime": {
     "end_time": "2024-03-11T15:22:37.853301Z",
     "start_time": "2024-03-11T15:22:37.850811Z"
    }
   },
   "id": "96f8548c53eb74ce",
   "execution_count": 73
  },
  {
   "cell_type": "code",
   "outputs": [
    {
     "data": {
      "text/plain": "(x - 4)*(x**2 - 6*x - y**2 + 25)/((2*x*y - 6*y)**2 + (x**2 - 6*x - y**2 + 25)**2) - (y + 3)*(-2*x*y + 6*y)/((2*x*y - 6*y)**2 + (x**2 - 6*x - y**2 + 25)**2)",
      "text/latex": "$\\displaystyle \\frac{\\left(x - 4\\right) \\left(x^{2} - 6 x - y^{2} + 25\\right)}{\\left(2 x y - 6 y\\right)^{2} + \\left(x^{2} - 6 x - y^{2} + 25\\right)^{2}} - \\frac{\\left(y + 3\\right) \\left(- 2 x y + 6 y\\right)}{\\left(2 x y - 6 y\\right)^{2} + \\left(x^{2} - 6 x - y^{2} + 25\\right)^{2}}$"
     },
     "execution_count": 74,
     "metadata": {},
     "output_type": "execute_result"
    }
   ],
   "source": [
    "u"
   ],
   "metadata": {
    "collapsed": false,
    "ExecuteTime": {
     "end_time": "2024-03-11T15:22:38.642567Z",
     "start_time": "2024-03-11T15:22:38.635680Z"
    }
   },
   "id": "dd6d9c7cc06bf94c",
   "execution_count": 74
  },
  {
   "cell_type": "code",
   "outputs": [
    {
     "data": {
      "text/plain": "(x - 4)*(-2*x*y + 6*y)/((2*x*y - 6*y)**2 + (x**2 - 6*x - y**2 + 25)**2) + (y + 3)*(x**2 - 6*x - y**2 + 25)/((2*x*y - 6*y)**2 + (x**2 - 6*x - y**2 + 25)**2)",
      "text/latex": "$\\displaystyle \\frac{\\left(x - 4\\right) \\left(- 2 x y + 6 y\\right)}{\\left(2 x y - 6 y\\right)^{2} + \\left(x^{2} - 6 x - y^{2} + 25\\right)^{2}} + \\frac{\\left(y + 3\\right) \\left(x^{2} - 6 x - y^{2} + 25\\right)}{\\left(2 x y - 6 y\\right)^{2} + \\left(x^{2} - 6 x - y^{2} + 25\\right)^{2}}$"
     },
     "execution_count": 75,
     "metadata": {},
     "output_type": "execute_result"
    }
   ],
   "source": [
    "v"
   ],
   "metadata": {
    "collapsed": false,
    "ExecuteTime": {
     "end_time": "2024-03-11T15:22:39.185269Z",
     "start_time": "2024-03-11T15:22:39.180528Z"
    }
   },
   "id": "1a1060b5c305e7e1",
   "execution_count": 75
  },
  {
   "cell_type": "code",
   "outputs": [
    {
     "data": {
      "text/plain": "(-4*(x - 3)*(2*y*(x - 3)*(y + 3) + (x - 4)*(x**2 - 6*x - y**2 + 25))*(x**2 - 6*x + y**2 + 25) + (4*y**2*(x - 3)**2 + (x**2 - 6*x - y**2 + 25)**2)*(x**2 - 6*x - y**2 + 2*y*(y + 3) + 2*(x - 4)*(x - 3) + 25))/(4*y**2*(x - 3)**2 + (x**2 - 6*x - y**2 + 25)**2)**2",
      "text/latex": "$\\displaystyle \\frac{- 4 \\left(x - 3\\right) \\left(2 y \\left(x - 3\\right) \\left(y + 3\\right) + \\left(x - 4\\right) \\left(x^{2} - 6 x - y^{2} + 25\\right)\\right) \\left(x^{2} - 6 x + y^{2} + 25\\right) + \\left(4 y^{2} \\left(x - 3\\right)^{2} + \\left(x^{2} - 6 x - y^{2} + 25\\right)^{2}\\right) \\left(x^{2} - 6 x - y^{2} + 2 y \\left(y + 3\\right) + 2 \\left(x - 4\\right) \\left(x - 3\\right) + 25\\right)}{\\left(4 y^{2} \\left(x - 3\\right)^{2} + \\left(x^{2} - 6 x - y^{2} + 25\\right)^{2}\\right)^{2}}$"
     },
     "execution_count": 76,
     "metadata": {},
     "output_type": "execute_result"
    }
   ],
   "source": [
    "# Let's calculate the partial derivatives\n",
    "\n",
    "u_x = diff(u, x)\n",
    "u_y = diff(u, y)\n",
    "v_x = diff(v, x)\n",
    "v_y = diff(v, y)\n",
    "\n",
    "u_x.simplify()"
   ],
   "metadata": {
    "collapsed": false,
    "ExecuteTime": {
     "end_time": "2024-03-11T15:22:40.104018Z",
     "start_time": "2024-03-11T15:22:39.942522Z"
    }
   },
   "id": "4efd5627178df14",
   "execution_count": 76
  },
  {
   "cell_type": "code",
   "outputs": [
    {
     "data": {
      "text/plain": "2*(2*y*(2*y*(x - 3)*(y + 3) + (x - 4)*(x**2 - 6*x - y**2 + 25))*(x**2 - 6*x - y**2 - 2*(x - 3)**2 + 25) + (4*y**2*(x - 3)**2 + (x**2 - 6*x - y**2 + 25)**2)*(x*y - y*(x - 4) - 3*y + (x - 3)*(y + 3)))/(4*y**2*(x - 3)**2 + (x**2 - 6*x - y**2 + 25)**2)**2",
      "text/latex": "$\\displaystyle \\frac{2 \\cdot \\left(2 y \\left(2 y \\left(x - 3\\right) \\left(y + 3\\right) + \\left(x - 4\\right) \\left(x^{2} - 6 x - y^{2} + 25\\right)\\right) \\left(x^{2} - 6 x - y^{2} - 2 \\left(x - 3\\right)^{2} + 25\\right) + \\left(4 y^{2} \\left(x - 3\\right)^{2} + \\left(x^{2} - 6 x - y^{2} + 25\\right)^{2}\\right) \\left(x y - y \\left(x - 4\\right) - 3 y + \\left(x - 3\\right) \\left(y + 3\\right)\\right)\\right)}{\\left(4 y^{2} \\left(x - 3\\right)^{2} + \\left(x^{2} - 6 x - y^{2} + 25\\right)^{2}\\right)^{2}}$"
     },
     "execution_count": 77,
     "metadata": {},
     "output_type": "execute_result"
    }
   ],
   "source": [
    "u_y.simplify()"
   ],
   "metadata": {
    "collapsed": false,
    "ExecuteTime": {
     "end_time": "2024-03-11T15:22:40.888046Z",
     "start_time": "2024-03-11T15:22:40.739Z"
    }
   },
   "id": "7afabe6c6ac1372b",
   "execution_count": 77
  },
  {
   "cell_type": "code",
   "outputs": [
    {
     "data": {
      "text/plain": "2*(2*(x - 3)*(2*y*(x - 4)*(x - 3) - (y + 3)*(x**2 - 6*x - y**2 + 25))*(x**2 - 6*x + y**2 + 25) + (4*y**2*(x - 3)**2 + (x**2 - 6*x - y**2 + 25)**2)*(-x*y - y*(x - 4) + 3*y + (x - 3)*(y + 3)))/(4*y**2*(x - 3)**2 + (x**2 - 6*x - y**2 + 25)**2)**2",
      "text/latex": "$\\displaystyle \\frac{2 \\cdot \\left(2 \\left(x - 3\\right) \\left(2 y \\left(x - 4\\right) \\left(x - 3\\right) - \\left(y + 3\\right) \\left(x^{2} - 6 x - y^{2} + 25\\right)\\right) \\left(x^{2} - 6 x + y^{2} + 25\\right) + \\left(4 y^{2} \\left(x - 3\\right)^{2} + \\left(x^{2} - 6 x - y^{2} + 25\\right)^{2}\\right) \\left(- x y - y \\left(x - 4\\right) + 3 y + \\left(x - 3\\right) \\left(y + 3\\right)\\right)\\right)}{\\left(4 y^{2} \\left(x - 3\\right)^{2} + \\left(x^{2} - 6 x - y^{2} + 25\\right)^{2}\\right)^{2}}$"
     },
     "execution_count": 78,
     "metadata": {},
     "output_type": "execute_result"
    }
   ],
   "source": [
    "v_x.simplify()"
   ],
   "metadata": {
    "collapsed": false,
    "ExecuteTime": {
     "end_time": "2024-03-11T15:22:41.971447Z",
     "start_time": "2024-03-11T15:22:41.815804Z"
    }
   },
   "id": "126d87dd67525c88",
   "execution_count": 78
  },
  {
   "cell_type": "code",
   "outputs": [
    {
     "data": {
      "text/plain": "(4*y*(-2*y*(x - 4)*(x - 3) + (y + 3)*(x**2 - 6*x - y**2 + 25))*(x**2 - 6*x - y**2 - 2*(x - 3)**2 + 25) + (4*y**2*(x - 3)**2 + (x**2 - 6*x - y**2 + 25)**2)*(x**2 - 6*x - y**2 - 2*y*(y + 3) - 2*(x - 4)*(x - 3) + 25))/(4*y**2*(x - 3)**2 + (x**2 - 6*x - y**2 + 25)**2)**2",
      "text/latex": "$\\displaystyle \\frac{4 y \\left(- 2 y \\left(x - 4\\right) \\left(x - 3\\right) + \\left(y + 3\\right) \\left(x^{2} - 6 x - y^{2} + 25\\right)\\right) \\left(x^{2} - 6 x - y^{2} - 2 \\left(x - 3\\right)^{2} + 25\\right) + \\left(4 y^{2} \\left(x - 3\\right)^{2} + \\left(x^{2} - 6 x - y^{2} + 25\\right)^{2}\\right) \\left(x^{2} - 6 x - y^{2} - 2 y \\left(y + 3\\right) - 2 \\left(x - 4\\right) \\left(x - 3\\right) + 25\\right)}{\\left(4 y^{2} \\left(x - 3\\right)^{2} + \\left(x^{2} - 6 x - y^{2} + 25\\right)^{2}\\right)^{2}}$"
     },
     "execution_count": 79,
     "metadata": {},
     "output_type": "execute_result"
    }
   ],
   "source": [
    "v_y.simplify()"
   ],
   "metadata": {
    "collapsed": false,
    "ExecuteTime": {
     "end_time": "2024-03-11T15:22:42.840158Z",
     "start_time": "2024-03-11T15:22:42.681193Z"
    }
   },
   "id": "cf20452f2f405d81",
   "execution_count": 79
  },
  {
   "cell_type": "code",
   "outputs": [
    {
     "name": "stdout",
     "output_type": "stream",
     "text": [
      "The function is analytic everywhere except at x=3 and y= [-4, 4]\n",
      "The function is analytic everywhere except at y=0 and x= []\n"
     ]
    }
   ],
   "source": [
    "# Let's find the points where the function is analytic\n",
    "\n",
    "if (function_choice == 1):\n",
    "    print(\"The function is analytic everywhere\")\n",
    "elif (function_choice == 2):\n",
    "    denominator = (16*x**2 + (4*y+1)**2)**2\n",
    "    solution = solve(denominator, x)\n",
    "    for sol in solution:\n",
    "        print(\"The function is analytic everywhere except at I*\", solve(sol, y))\n",
    "    solution = solve(denominator, y)\n",
    "    for sol in solution:\n",
    "        print(\"The function is analytic everywhere except at \", solve(sol, x))\n",
    "elif (function_choice == 3):\n",
    "    denominator = (x**2 + y**2)**2\n",
    "    solution = solve(denominator, x)\n",
    "    for sol in solution:\n",
    "        print(\"The function is analytic everywhere except at I*\", solve(sol, y))\n",
    "    solution = solve(denominator, y)\n",
    "    for sol in solution:\n",
    "        print(\"The function is analytic everywhere except at \", solve(sol, x))\n",
    "elif (function_choice == 4):\n",
    "    denominator = (64*x**2*y**2 -(-4*x**2 + 4*y**2 + 1)**2)**2\n",
    "    solution = solve(denominator, x)\n",
    "    for sol in solution:\n",
    "        print(\"The function is analytic everywhere except at I*\", solve(sol, y))\n",
    "    solution = solve(denominator, y)\n",
    "    for sol in solution:\n",
    "        print(\"The function is analytic everywhere except at \", solve(sol, x))\n",
    "else:\n",
    "    denominator = (4*y**2*(x-3)**2 + (x**2-6*x-y**2+25)**2)**2\n",
    "    solution = denominator.subs({x:3})\n",
    "    solution = solve(solution, y)\n",
    "    print(\"The function is analytic everywhere except at x=3 and y=\", solution)\n",
    "    solution = denominator.subs({y:0})\n",
    "    solution = solve(solution, x)\n",
    "    print(\"The function is analytic everywhere except at y=0 and x=\", solution)"
   ],
   "metadata": {
    "collapsed": false,
    "ExecuteTime": {
     "end_time": "2024-03-11T15:22:43.522086Z",
     "start_time": "2024-03-11T15:22:43.501962Z"
    }
   },
   "id": "c5c5b3c5c7769558",
   "execution_count": 80
  },
  {
   "cell_type": "code",
   "outputs": [],
   "source": [],
   "metadata": {
    "collapsed": false,
    "ExecuteTime": {
     "end_time": "2024-03-11T15:17:16.000057Z",
     "start_time": "2024-03-11T15:17:15.998923Z"
    }
   },
   "id": "2bb4020f64b2c759",
   "execution_count": 10
  },
  {
   "cell_type": "code",
   "outputs": [],
   "source": [],
   "metadata": {
    "collapsed": false,
    "ExecuteTime": {
     "end_time": "2024-03-11T15:17:16.001700Z",
     "start_time": "2024-03-11T15:17:16.000583Z"
    }
   },
   "id": "f30a6238dbf38a38",
   "execution_count": 10
  },
  {
   "cell_type": "code",
   "outputs": [],
   "source": [
    " "
   ],
   "metadata": {
    "collapsed": false,
    "ExecuteTime": {
     "end_time": "2024-03-11T15:17:16.003401Z",
     "start_time": "2024-03-11T15:17:16.002304Z"
    }
   },
   "id": "5d296f7654b3fa94",
   "execution_count": 10
  },
  {
   "cell_type": "code",
   "outputs": [],
   "source": [],
   "metadata": {
    "collapsed": false,
    "ExecuteTime": {
     "end_time": "2024-03-11T15:17:16.005013Z",
     "start_time": "2024-03-11T15:17:16.003873Z"
    }
   },
   "id": "dd49fdf9e83e55ae",
   "execution_count": 10
  }
 ],
 "metadata": {
  "kernelspec": {
   "display_name": "Python 3",
   "language": "python",
   "name": "python3"
  },
  "language_info": {
   "codemirror_mode": {
    "name": "ipython",
    "version": 2
   },
   "file_extension": ".py",
   "mimetype": "text/x-python",
   "name": "python",
   "nbconvert_exporter": "python",
   "pygments_lexer": "ipython2",
   "version": "2.7.6"
  }
 },
 "nbformat": 4,
 "nbformat_minor": 5
}
