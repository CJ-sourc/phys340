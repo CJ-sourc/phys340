{
 "cells": [
  {
   "cell_type": "markdown",
   "source": [
    "# Stokes Theorem"
   ],
   "metadata": {
    "collapsed": false
   },
   "id": "5589bbfc6efb1074"
  },
  {
   "cell_type": "markdown",
   "source": [
    "# Stokes Theorem\n",
    "\n",
    "In physics, Stokes' theorem is a statement about the integration of differential forms on manifolds, which both simplifies and generalizes several theorems from vector calculus. \n",
    "\n",
    "Stokes' theorem says that the integral of a differential form ω over the boundary of some orientable manifold Ω is equal to the integral of its exterior derivative dω over the whole of Ω. \n",
    "\n",
    "In its simplest form, Stokes' theorem says that the integral of a differential form ω over the boundary of some orientable manifold Ω is equal to the integral of its exterior derivative dω over the whole of Ω. \n",
    "\n",
    "In physics, Stokes' theorem is used in classical electrodynamics as the mathematical basis of electromagnetic potentials and in fluid mechanics as the mathematical basis of the Navier–Stokes equations. \n",
    "\n",
    "It is also used in Stokes flow, a mathematical model in fluid mechanics which is used to study the motion of very viscous fluids. Stokes' theorem is also used in the proof of the Atiyah–Singer index theorem, an important result in differential geometry and the theory of elliptic operators. \n",
    "\n",
    "Stokes' theorem is a special case of the more general Cartan–Stokes theorem, which in turn is a special case of the generalized Stokes' theorem. The theorem is named after the Irish mathematician and physicist George Gabriel Stokes (1819–1903), who published it at the University of Cambridge in 1850."
   ],
   "metadata": {
    "collapsed": false
   },
   "id": "73d239f696e20e5"
  },
  {
   "cell_type": "markdown",
   "source": [
    "# Theorem\n",
    "\n",
    "$$\\int_{\\partial \\Omega} \\omega = \\int_{\\Omega} d\\omega$$\n",
    "\n",
    "where $\\omega$ is a differential form, $\\Omega$ is a manifold with boundary $\\partial \\Omega$ and $d\\omega$ is the exterior derivative of $\\omega$.\n",
    "\n",
    "## Example\n",
    "\n",
    "Consider a vector field $\\mathbf{F}$ defined as\n",
    "\n",
    "$$\\mathbf{F} = (x^2 + y^2) \\mathbf{i} + (y^2 + z^2) \\mathbf{j} + (z^2 + x^2) \\mathbf{k}$$\n",
    "\n",
    "and a surface $\\Sigma$ defined as\n",
    "\n",
    "$$\\Sigma = \\{ (x, y, z) \\in \\mathbb{R}^3 : x^2 + y^2 + z^2 = 1, z \\geq 0 \\}$$\n",
    "\n",
    "The boundary of $\\Sigma$ is the circle $x^2 + y^2 = 1, z = 0$.\n",
    "\n",
    "The curl of $\\mathbf{F}$ is\n",
    "\n",
    "$$\\nabla \\times \\mathbf{F} = 2(x \\mathbf{i} + y \\mathbf{j} + z \\mathbf{k})$$\n",
    "\n",
    "The integral of the curl of $\\mathbf{F}$ over $\\Sigma$ is\n",
    "\n",
    "$$\\int_{\\Sigma} \\nabla \\times \\mathbf{F} \\cdot d\\mathbf{S} = \\int_{\\Sigma} 2(x \\mathbf{i} + y \\mathbf{j} + z \\mathbf{k}) \\cdot d\\mathbf{S}$$\n",
    "\n",
    "where $d\\mathbf{S}$ is the outward-pointing unit normal vector to $\\Sigma$.\n",
    "\n",
    "By Stokes' theorem, this is equal to the line integral of $\\mathbf{F}$ over the boundary of $\\Sigma$:\n",
    "\n",
    "$$\\int_{\\Sigma} \\nabla \\times \\mathbf{F} \\cdot d\\mathbf{S} = \\int_{\\partial \\Sigma} \\mathbf{F} \\cdot d\\mathbf{r}$$\n",
    "\n",
    "where $d\\mathbf{r}$ is the tangent vector to the boundary of $\\Sigma$.\n",
    "\n",
    "The boundary of $\\Sigma$ is the circle $x^2 + y^2 = 1, z = 0$. We can parameterize this as\n",
    "\n",
    "$$\\mathbf{r}(t) = \\cos t \\mathbf{i} + \\sin t \\mathbf{j}$$\n",
    "\n",
    "where $0 \\leq t \\leq 2\\pi$.\n",
    "\n",
    "The line integral of $\\mathbf{F}$ over the boundary of $\\Sigma$ is\n",
    "\n",
    "$$\\int_{\\partial \\Sigma} \\mathbf{F} \\cdot d\\mathbf{r} = \\int_0^{2\\pi} \\mathbf{F}(\\mathbf{r}(t)) \\cdot \\mathbf{r}'(t) dt$$\n",
    "\n",
    "$$= \\int_0^{2\\pi} \\mathbf{F}(\\cos t \\mathbf{i} + \\sin t \\mathbf{j}) \\cdot (-\\sin t \\mathbf{i} + \\cos t \\mathbf{j}) dt$$\n",
    "\n",
    "$$= \\int_0^{2\\pi} ((\\cos^2 t + \\sin^2 t) \\mathbf{i} + (\\sin^2 t + \\cos^2 t) \\mathbf{j} + (\\sin t \\cos t + \\cos t \\sin t) \\mathbf{k}) \\cdot (-\\sin t \\mathbf{i} + \\cos t \\mathbf{j}) dt$$\n",
    "\n",
    "$$= \\int_0^{2\\pi} (-\\sin t \\mathbf{i} + \\cos t \\mathbf{j}) \\cdot (-\\sin t \\mathbf{i} + \\cos t \\mathbf{j}) dt$$\n",
    "\n",
    "$$= \\int_0^{2\\pi} (\\sin^2 t + \\cos^2 t) dt$$\n",
    "\n",
    "$$= \\int_0^{2\\pi} dt$$\n",
    "\n",
    "$$= 2\\pi$$\n",
    " \n",
    "\n",
    "The integral of the curl of $\\mathbf{F}$ over $\\Sigma$ is\n",
    "\n",
    "$$\\int_{\\Sigma} \\nabla \\times \\mathbf{F} \\cdot d\\mathbf{S} = 2\\pi$$\n",
    "\n",
    "which is equal to the line integral of $\\mathbf{F}$ over the boundary of $\\Sigma$:\n",
    "\n",
    "$$\\int_{\\Sigma} \\nabla \\times \\mathbf{F} \\cdot d\\mathbf{S} = \\int_{\\partial \\Sigma} \\mathbf{F} \\cdot d\\mathbf{r} = 2\\pi$$\n",
    "\n"
   ],
   "metadata": {
    "collapsed": false
   },
   "id": "aea63be51c8590f9"
  },
  {
   "cell_type": "code",
   "outputs": [],
   "source": [],
   "metadata": {
    "collapsed": false
   },
   "id": "274706cb9fe7d80c"
  }
 ],
 "metadata": {
  "kernelspec": {
   "display_name": "Python 3",
   "language": "python",
   "name": "python3"
  },
  "language_info": {
   "codemirror_mode": {
    "name": "ipython",
    "version": 2
   },
   "file_extension": ".py",
   "mimetype": "text/x-python",
   "name": "python",
   "nbconvert_exporter": "python",
   "pygments_lexer": "ipython2",
   "version": "2.7.6"
  }
 },
 "nbformat": 4,
 "nbformat_minor": 5
}
