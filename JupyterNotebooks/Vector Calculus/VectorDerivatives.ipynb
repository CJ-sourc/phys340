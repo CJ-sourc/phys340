{
 "cells": [
  {
   "cell_type": "markdown",
   "source": [
    "# Vector Derivatives\n",
    "\n",
    "The principle vector derivatives are the gradient, divergence, and curl.  \n",
    "\n",
    "## Gradient\n",
    "\n",
    "The gradient is a vector of the partial derivatives of a scalar function, and is defined as:\n",
    "\n",
    "$$\\nabla f = \\frac{\\partial f}{\\partial x} \\hat{x} + \\frac{\\partial f}{\\partial y} \\hat{y} + \\frac{\\partial f}{\\partial z} \\hat{z}$$\n",
    "\n",
    "The gradient is a vector, and is the direction of steepest ascent of a scalar function.\n",
    "\n",
    "## Divergence\n",
    "\n",
    "The divergence is the dot product of the gradient and a vector function, and is defined as:\n",
    "\n",
    "$$\\nabla \\cdot \\vec{F} = \\frac{\\partial F_x}{\\partial x} + \\frac{\\partial F_y}{\\partial y} + \\frac{\\partial F_z}{\\partial z}$$\n",
    "\n",
    "The divergence is a scalar, and is the amount of flux per unit volume leaving a point.\n",
    "\n",
    "## Curl\n",
    "\n",
    "The curl is the cross product of the gradient and a vector function, and is defined as:\n",
    "\n",
    "$$\\nabla \\times \\vec{F} = \\left( \\frac{\\partial F_z}{\\partial y} - \\frac{\\partial F_y}{\\partial z} \\right) \\hat{x} + \\left( \\frac{\\partial F_x}{\\partial z} - \\frac{\\partial F_z}{\\partial x} \\right) \\hat{y} + \\left( \\frac{\\partial F_y}{\\partial x} - \\frac{\\partial F_x}{\\partial y} \\right) \\hat{z}$$  \n",
    "\n",
    "The curl is a vector, and is the direction of the axis of rotation of a vector function."
   ],
   "metadata": {
    "collapsed": false
   },
   "id": "b5eeab8787ef830d"
  },
  {
   "cell_type": "code",
   "execution_count": null,
   "outputs": [],
   "source": [
    "import numpy as np\n",
    "import matplotlib.pyplot as plt\n",
    "from mpl_toolkits.mplot3d import Axes3D\n",
    "\n",
    "# Create a scalar field\n",
    "def T(x,y,z):\n",
    "    return 20 + 0.5*np.exp(-x**2) + 0.5*np.exp(-y**2)\n",
    "\n",
    "# Create a grid of points in the x-y plane\n",
    "x = np.linspace(-2,2,20)\n",
    "y = np.linspace(-2,2,20)\n",
    "\n",
    "# Create a meshgrid\n",
    "X,Y = np.meshgrid(x,y)\n",
    "\n",
    "# Evaluate the scalar field at the grid points\n",
    "T = T(X,Y,0)\n",
    "\n",
    "# Create a contour plot\n",
    "plt.contour(X,Y,T)\n",
    "plt.show()"
   ],
   "metadata": {
    "collapsed": false,
    "is_executing": true
   },
   "id": "e3dea52e412d18a6"
  },
  {
   "cell_type": "code",
   "execution_count": null,
   "outputs": [],
   "source": [
    "# Create a 3D plot of the scalar field\n",
    "fig = plt.figure(figsize=(10,10))\n",
    "ax = fig.add_subplot(111, projection='3d')\n",
    "ax.plot_surface(X,Y,T)"
   ],
   "metadata": {
    "collapsed": false,
    "is_executing": true
   },
   "id": "78a01ca2212aef12"
  },
  {
   "cell_type": "code",
   "execution_count": null,
   "outputs": [],
   "source": [
    "# Calculate the gradient of the scalar field\n",
    "Tgrad = np.gradient(T)\n",
    "\n",
    "# Plot the gradient\n",
    "plt.quiver(X,Y,Tgrad[0],Tgrad[1],color='b')\n",
    "plt.show()"
   ],
   "metadata": {
    "collapsed": false,
    "is_executing": true
   },
   "id": "1cfc9d2445d9afd8"
  },
  {
   "cell_type": "code",
   "execution_count": null,
   "outputs": [],
   "source": [
    "# Create a 3D plot of the size of the gradient\n",
    "\n",
    "# Calculate the magnitude of the gradient\n",
    "Tgradmag = np.sqrt(Tgrad[0]**2 + Tgrad[1]**2)\n",
    "\n",
    "# Plot the magnitude of the gradient\n",
    "fig = plt.figure(figsize=(10,10))\n",
    "ax = fig.add_subplot(111, projection='3d')\n",
    "ax.plot_surface(X,Y,Tgradmag)"
   ],
   "metadata": {
    "collapsed": false,
    "is_executing": true
   },
   "id": "d586845e70bacd73"
  },
  {
   "cell_type": "code",
   "execution_count": null,
   "outputs": [],
   "source": [
    "# create a contour plot of the magnitude of the gradient\n",
    "plt.contour(X,Y,Tgradmag)"
   ],
   "metadata": {
    "collapsed": false,
    "is_executing": true
   },
   "id": "afa99a14db2741f2"
  },
  {
   "cell_type": "markdown",
   "source": [
    "# Divergence of Vector Fields\n",
    "\n",
    "The divergence of a vector field is a scalar field, and is defined as:\n",
    "\n",
    "$$\\nabla \\cdot \\vec{F} = \\frac{\\partial F_x}{\\partial x} + \\frac{\\partial F_y}{\\partial y} + \\frac{\\partial F_z}{\\partial z}$$\n",
    "\n",
    "The divergence is the amount of flux per unit volume leaving a point.  If the divergence is positive, then the vector field is expanding from that point.  If the divergence is negative, then the vector field is contracting towards that point.  If the divergence is zero, then the vector field is neither expanding nor contracting at that point.\n",
    "\n",
    "The divergence of a vector field can be calculated in Python using the `divergence` function from the `numpy` library.  The `divergence` function takes two arguments: the vector field, and the grid spacing.  The vector field is a list of the components of the vector field, and the grid spacing is a list of the grid spacing in each dimension.  The `divergence` function returns a scalar field.\n",
    "\n",
    "Let's start by creating a vector field in the x-y plane.  We'll use the function $F(x,y) = \\left( \\cos(x + 2y), \\sin(x - 2y) \\right)$."
   ],
   "metadata": {
    "collapsed": false
   },
   "id": "77bd7a63a61e547c"
  },
  {
   "cell_type": "code",
   "execution_count": null,
   "outputs": [],
   "source": [
    "# Create a vector field\n",
    "\n",
    "# Create a grid of points in the x-y plane\n",
    "x = np.linspace(-2,2,20)\n",
    "y = np.linspace(-2,2,20)\n",
    "\n",
    "# Create a meshgrid\n",
    "X,Y = np.meshgrid(x,y,indexing = 'ij', sparse = False)\n",
    "\n",
    "# Create a vector field\n",
    "def F(x,y):\n",
    "    return np.array([np.cos(x + 2*y),np.sin(x - 2*y)])\n",
    "\n",
    "# Evaluate the vector field at the grid points\n",
    "F = F(X,Y)\n",
    "\n",
    "# Plot the vector field\n",
    "plt.quiver(X,Y,F[0],F[1], color='b', scale=50)\n"
   ],
   "metadata": {
    "collapsed": false,
    "is_executing": true
   },
   "id": "56b68d9292f85f72"
  },
  {
   "cell_type": "markdown",
   "source": [
    "## Divergence of a 2D Vector Field\n",
    "\n",
    "Let's calculate the divergence of the vector field $F(x,y) = \\left( \\cos(x + 2y), \\sin(x - 2y) \\right)$.\n",
    "\n",
    "Analytically, the divergence of $F(x,y)$ is:\n",
    "\n",
    "$$\\nabla \\cdot F(x,y) = - \\sin(x + 2y) - 2 \\cos(x - 2y)$$\n",
    "\n",
    "Let's calculate the divergence of $F(x,y)$ numerically using a `divergence` function which uses functions from the `numpy` library.\n",
    "\n",
    "This function takes two arguments: the vector field, and the grid spacing.  The vector field is a list of the components of the vector field, and the grid spacing is a list of the grid spacing in each dimension.  The `divergence` function returns a scalar field.\n",
    "\n"
   ],
   "metadata": {
    "collapsed": false
   },
   "id": "6c892d440842d6fa"
  },
  {
   "cell_type": "code",
   "execution_count": null,
   "outputs": [],
   "source": [
    "# Calculate the divergence of the vector field\n",
    "def divergence(f,h):\n",
    "    \"\"\"\n",
    "    div(F) = dFx/dx + dFy/dy + ...\n",
    "    g = np.gradient(Fx,dx, axis=1)+ np.gradient(Fy,dy, axis=0) #2D\n",
    "    g = np.gradient(Fx,dx, axis=2)+ np.gradient(Fy,dy, axis=1) +np.gradient(Fz,dz,axis=0) #3D\n",
    "    \"\"\"\n",
    "    num_dims = len(f)\n",
    "    #print(h[0],h[1])\n",
    "    #print(f[0][0])\n",
    "    #print(f[1][0])\n",
    "    return np.ufunc.reduce(np.add, [np.gradient(f[i], h[i], axis=i) for i in range(num_dims)])\n",
    "\n",
    "# Calculate the grid spacing\n",
    "dx = x[1]-x[0]\n",
    "dy = y[1]-y[0]\n",
    "\n",
    "# Calculate the divergence\n",
    "Fdiv = divergence(F,[dx,dy])\n",
    "\n",
    "# Plot the divergence\n",
    "plt.contour(X,Y,Fdiv)\n"
   ],
   "metadata": {
    "collapsed": false,
    "is_executing": true
   },
   "id": "5e175d0cc15dd44b"
  },
  {
   "cell_type": "code",
   "execution_count": null,
   "outputs": [],
   "source": [
    "# Let's compare the numerical divergence to the analytical divergence\n",
    "\n",
    "def divF_theory(x,y):\n",
    "    return -np.sin(x+2*y) - 2*np.cos(x-2*y)\n",
    "\n",
    "divFT = divF_theory(X,Y)\n",
    "\n",
    "# Plot the divergence\n",
    "fig, ax = plt.subplots(1,2,figsize=(10,5))\n",
    "ax[0].contour(X,Y,Fdiv)\n",
    "ax[0].quiver(X,Y,F[0],F[1])\n",
    "ax[0].set_title('numerical')\n",
    "\n",
    "ax[1].contour(X,Y,divFT)\n",
    "ax[1].quiver(X,Y,F[0],F[1])\n",
    "ax[1].set_title('analytical')\n"
   ],
   "metadata": {
    "collapsed": false,
    "is_executing": true
   },
   "id": "45d3261762588b68"
  },
  {
   "cell_type": "code",
   "execution_count": null,
   "outputs": [],
   "source": [
    "# Here is an alternate way to plot the divergence\n",
    "\n",
    "rows = 1\n",
    "cols = 2\n",
    "#plt.clf()\n",
    "plt.figure(figsize=(cols*6.5,rows*6.5))\n",
    "plt.minorticks_on()\n",
    "\n",
    "ax = plt.subplot(rows,cols,1,aspect='equal',title='div numerical')\n",
    "im = plt.pcolormesh(X, Y, Fdiv, shading='nearest')\n",
    "plt.quiver(X,Y,F[0],F[1])\n",
    "divider = make_axes_locatable(ax)\n",
    "cax = divider.append_axes(\"right\", size=\"5%\", pad=0.05)\n",
    "cbar = plt.colorbar(im, cax = cax,format='%.1f')\n",
    "\n",
    "ax = plt.subplot(rows,cols,2,aspect='equal',title='div analytical')\n",
    "im = plt.pcolormesh(X, Y, divFT, shading='nearest')\n",
    "plt.quiver(X,Y,F[0],F[1])\n",
    "divider = make_axes_locatable(ax)\n",
    "cax = divider.append_axes(\"right\", size=\"5%\", pad=0.05)\n",
    "cbar = plt.colorbar(im, cax = cax,format='%.1f')\n",
    "\n",
    "plt.tight_layout()\n",
    "plt.show()"
   ],
   "metadata": {
    "collapsed": false,
    "is_executing": true
   },
   "id": "ec3a88c53850f109"
  },
  {
   "cell_type": "code",
   "execution_count": null,
   "outputs": [],
   "source": [],
   "metadata": {
    "collapsed": false,
    "is_executing": true
   },
   "id": "c620ed6e7ec5b03e"
  },
  {
   "cell_type": "code",
   "execution_count": null,
   "outputs": [],
   "source": [],
   "metadata": {
    "collapsed": false,
    "is_executing": true
   },
   "id": "ba9d5f3aaa0ea0eb"
  },
  {
   "cell_type": "code",
   "execution_count": null,
   "outputs": [],
   "source": [],
   "metadata": {
    "collapsed": false,
    "is_executing": true
   },
   "id": "ab4e08922ced8a5d"
  }
 ],
 "metadata": {
  "kernelspec": {
   "display_name": "Python 3",
   "language": "python",
   "name": "python3"
  },
  "language_info": {
   "codemirror_mode": {
    "name": "ipython",
    "version": 2
   },
   "file_extension": ".py",
   "mimetype": "text/x-python",
   "name": "python",
   "nbconvert_exporter": "python",
   "pygments_lexer": "ipython2",
   "version": "2.7.6"
  }
 },
 "nbformat": 4,
 "nbformat_minor": 5
}
