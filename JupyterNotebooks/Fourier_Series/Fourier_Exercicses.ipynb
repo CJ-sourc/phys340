{
 "cells": [
  {
   "cell_type": "markdown",
   "source": [
    "# Question 1:\n",
    "\n",
    "Find the Fourier series of the function $f(x) = x^2$ on the interval $[-\\pi, \\pi]$."
   ],
   "metadata": {
    "collapsed": false
   },
   "id": "8f76dbec57367f9d"
  },
  {
   "cell_type": "code",
   "outputs": [],
   "source": [],
   "metadata": {
    "collapsed": false
   },
   "id": "32e4522ec585b0d1"
  }
 ],
 "metadata": {
  "kernelspec": {
   "display_name": "Python 3",
   "language": "python",
   "name": "python3"
  },
  "language_info": {
   "codemirror_mode": {
    "name": "ipython",
    "version": 2
   },
   "file_extension": ".py",
   "mimetype": "text/x-python",
   "name": "python",
   "nbconvert_exporter": "python",
   "pygments_lexer": "ipython2",
   "version": "2.7.6"
  }
 },
 "nbformat": 4,
 "nbformat_minor": 5
}
