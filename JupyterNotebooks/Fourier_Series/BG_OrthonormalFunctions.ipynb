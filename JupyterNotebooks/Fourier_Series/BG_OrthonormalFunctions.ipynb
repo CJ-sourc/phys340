{
 "cells": [
  {
   "cell_type": "markdown",
   "source": [
    "# Orthonormal Functions\n",
    "\n",
    "We are all familiar with the concept that the dot product of two vectors is zero if the vectors are orthogonal.\n",
    "\n",
    "An even more important concept is that if we can find a set of vectors that are orthonormal (meaning that they are mutually orthogonal and have unit length), then we can use them as a basis for any vector in that vector space.  For example, the unit vectors in the x, y, and z directions are orthonormal and can be used as a basis for any vector in 3D space.\n",
    "\n",
    "We can extend this concept to $functions$.  We can define a set of functions as orthonormal if the dot product of any two functions is zero if the functions are different and the dot product of a function with itself is 1.  We can define the dot product of two functions as:\n",
    "\n",
    "$$\n",
    "\\int_{a}^{b} f(x)g(x)dx\n",
    "$$\n",
    "\n",
    "If we can find a set of orthonormal functions, then we can use them as a basis for any function in that space.  This is the basis for the Fourier series and the Fourier transform.\n",
    "\n",
    "There are many sets of orthonormal functions.  Some of the most famous are the Legendre polynomials, the Hermite polynomials, and the Laguerre polynomials.  Each of these sets of functions has a different domain and different properties.  The Legendre polynomials are defined on the interval $[-1,1]$, the Hermite polynomials are defined on the interval $[-\\infty,\\infty]$, and the Laguerre polynomials are defined on the interval $[0,\\infty]$.  The Legendre polynomials are used to solve problems with spherical symmetry, the Hermite polynomials are used to solve problems with cylindrical symmetry, and the Laguerre polynomials are used to solve problems with exponential decay.\n",
    "\n",
    "One of the most interesting sets of orthonormal functions is the set of sine and cosine functions.  These functions are defined on the interval $[0,2\\pi]$ and are used to solve problems with periodic boundary conditions.  The sine and cosine functions are used to solve the wave equation, the heat equation, and the Laplace equation.  The sine and cosine functions are also used to solve problems with non-periodic boundary conditions by using the Fourier series and the Fourier transform.\n",
    "\n",
    "The sine and cosine functions are defined as:\n",
    "\n",
    "$$\n",
    "\\sin(n\\pi x/L)\n",
    "$$\n",
    "\n",
    "$$\n",
    "\\cos(n\\pi x/L)\n",
    "$$\n",
    "\n",
    "where $n$ is an integer and $L$ is the length of the interval.  The sine and cosine functions are orthonormal on the interval $[0,L]$ and can be used as a basis for any function on that interval. \n",
    "\n",
    "Let's understand how this works by looking at the dot product of two sine functions.  We can define the dot product of two functions as:\n",
    "\n",
    "$$\n",
    "\\int_{0}^{L} \\sin(n\\pi x/L)\\sin(m\\pi x/L)dx\n",
    "$$\n",
    "\n",
    "If $n=m$, then the dot product is:\n",
    "\n",
    "$$\n",
    "\\int_{0}^{L} \\sin^2(n\\pi x/L)dx\n",
    "$$\n",
    "\n",
    "This integral is equal to $L/2$.  If $n\\ne m$, then the dot product is:\n",
    "\n",
    "$$\n",
    "\\int_{0}^{L} \\sin(n\\pi x/L)\\sin(m\\pi x/L)dx = 0\n",
    "$$\n",
    "\n",
    "This means that the sine functions are orthonormal (provided we include the appropriate normalization factor, $\\sqrt{\\frac{2}{L}}$).  The cosine functions are also orthonormal.  This means that the sine and cosine functions can be used as a basis for any function on the interval $[0,L]$.\n",
    "\n",
    "## Expressing a vector as a linear combination of basis vectors\n",
    "\n",
    "We can express a vector as a linear combination of basis vectors.  For example, we can express the vector $\\vec{v}$ as:\n",
    "\n",
    "$$\n",
    "\\vec{v} = a\\hat{i} + b\\hat{j} + c\\hat{k}\n",
    "$$\n",
    "\n",
    "where $\\hat{i}$, $\\hat{j}$, and $\\hat{k}$ are the unit vectors in the x, y, and z directions.  Note that there the number of vectors needed to span the space is equal to the dimension of the space.  In 3D space, we need 3 vectors to span the space.\n",
    "\n",
    "## Expressing a function as a linear combination of basis functions\n",
    "\n",
    "We can also express a function as a linear combination of basis functions.  For example, in Fourier analysis, we can express the function $f(x)$ as:\n",
    "\n",
    "$$\n",
    "f(x) = \\sum_{n=0}^{\\infty} a_n\\sin(n\\pi x/L) + b_n\\cos(n\\pi x/L)\n",
    "$$\n",
    "\n",
    "where the sine and cosine functions are the basis functions.  In the case of the sine and cosine functions, we need an $infinite$ number of functions to span the space.  This is because the sine and cosine functions are defined on the interval $[0,L]$ and can represent any function on that interval.  This is typical of functions that are defined on an interval with periodic boundary conditions, and for example in quantum mechanics, the wave function is defined on an interval with periodic boundary conditions.  Thus, we tend to use terms like \"infinite dimensional space\" and \"complete set of states\" when we are working with functions.\n"
   ],
   "metadata": {
    "collapsed": false
   },
   "id": "432bc0e5ffffdf7"
  },
  {
   "cell_type": "code",
   "outputs": [],
   "source": [],
   "metadata": {
    "collapsed": false
   },
   "id": "5571437fa4d34899"
  }
 ],
 "metadata": {
  "kernelspec": {
   "display_name": "Python 3",
   "language": "python",
   "name": "python3"
  },
  "language_info": {
   "codemirror_mode": {
    "name": "ipython",
    "version": 2
   },
   "file_extension": ".py",
   "mimetype": "text/x-python",
   "name": "python",
   "nbconvert_exporter": "python",
   "pygments_lexer": "ipython2",
   "version": "2.7.6"
  }
 },
 "nbformat": 4,
 "nbformat_minor": 5
}
