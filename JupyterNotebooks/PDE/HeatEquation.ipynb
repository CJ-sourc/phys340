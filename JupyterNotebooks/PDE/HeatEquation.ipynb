{
 "cells": [
  {
   "cell_type": "markdown",
   "source": [
    "# Heat Equation\n",
    "\n",
    "In physics, the heat equation is a partial differential equation that describes how the distribution of some quantity (such as heat) evolves over time in a solid medium, as it spontaneously flows from places where it is higher towards places where it is lower. It is a special case of the diffusion equation.\n",
    "\n",
    "The general heat equation that I will be solving is:\n",
    "\n",
    "$$\\frac{\\partial u}{\\partial t} = \\alpha \\frac{\\partial^2 u}{\\partial x^2}$$\n",
    "\n",
    "where $u(x,t)$ is the temperature distribution function of position $x$ and time $t$ and $\\alpha$ is the thermal diffusivity constant.\n",
    "\n",
    "Clearly, this is a second order partial differential equation. To solve this equation numerically, we need to discretize the equation both in space and time. \n",
    "\n",
    "## Numerical Approximation of Derivatives\n",
    "\n",
    "We will use the finite difference method to discretize the equation.  This is a method of approximating the derivative of a function using a finite difference.  By Taylor's theorem, a function $f(x)$ can be approximated near a point $x_0$ by the following Taylor series:\n",
    "\n",
    "$$f(x) = f(x_0) + \\frac{f'(x_0)}{1!}(x-x_0) + \\frac{f''(x_0)}{2!}(x-x_0)^2 + \\frac{f'''(x_0)}{3!}(x-x_0)^3 + \\cdots$$\n",
    "\n",
    "We can evaluate the Taylor series at $x_0 + h$ to get:\n",
    "\n",
    "$$f(x_0 + h) = f(x_0) + \\frac{f'(x_0)}{1!}h + \\frac{f''(x_0)}{2!}h^2 + \\frac{f'''(x_0)}{3!}h^3 + \\cdots$$\n",
    "\n",
    "Subtracting the two equations, we get:\n",
    "\n",
    "$$f(x_0 + h) - f(x_0) = \\frac{f'(x_0)}{1!}h + \\frac{f''(x_0)}{2!}h^2 + \\frac{f'''(x_0)}{3!}h^3 + \\cdots$$\n",
    "\n",
    "We can rearrange the terms to get:\n",
    "\n",
    "$$f'(x_0) = \\frac{f(x_0 + h) - f(x_0)}{h} - \\frac{f''(x_0)}{2!}h - \\frac{f'''(x_0)}{3!}h^2 - \\cdots$$\n",
    "\n",
    "The first term on the right hand side is the forward difference approximation of the first derivative.  The second term on the right hand side is the error term.  The error term is proportional to $h$ and is called the truncation error.  The truncation error is the error that is made by truncating the Taylor series.  The truncation error is also called the discretization error.\n",
    "\n",
    "The approach is similar for the backward difference.  We can evaluate the Taylor series at $x_0 - h$ to get:\n",
    "\n",
    "$$f(x_0 - h) = f(x_0) - \\frac{f'(x_0)}{1!}h + \\frac{f''(x_0)}{2!}h^2 - \\frac{f'''(x_0)}{3!}h^3 + \\cdots$$\n",
    "\n",
    "Subtracting the two equations, we get:\n",
    "\n",
    "$$f(x_0) - f(x_0 - h) = \\frac{f'(x_0)}{1!}h - \\frac{f''(x_0)}{2!}h^2 + \\frac{f'''(x_0)}{3!}h^3 - \\cdots$$\n",
    "\n",
    "We can rearrange the terms to get:\n",
    "\n",
    "$$f'(x_0) = \\frac{f(x_0) - f(x_0 - h)}{h} + \\frac{f''(x_0)}{2!}h - \\frac{f'''(x_0)}{3!}h^2 + \\cdots$$\n",
    "\n",
    "The first term on the right hand side is the backward difference approximation of the first derivative.  The second term on the right hand side is the error term.\n",
    "\n",
    "The central difference method is similar to the forward and backward difference methods.  We can evaluate the Taylor series at $x_0 + h$ and $x_0 - h$ to get:\n",
    "\n",
    "$$f(x_0 + h) = f(x_0) + \\frac{f'(x_0)}{1!}h + \\frac{f''(x_0)}{2!}h^2 + \\frac{f'''(x_0)}{3!}h^3 + \\cdots$$\n",
    "\n",
    "$$f(x_0 - h) = f(x_0) - \\frac{f'(x_0)}{1!}h + \\frac{f''(x_0)}{2!}h^2 - \\frac{f'''(x_0)}{3!}h^3 + \\cdots$$\n",
    "\n",
    "Adding the two equations, we get:\n",
    "\n",
    "$$f(x_0 + h) + f(x_0 - h) = 2f(x_0) + \\frac{f''(x_0)}{2!}h^2 + \\frac{f''''(x_0)}{4!}h^4 + \\cdots$$\n",
    "\n",
    "Subtracting the two equations, we get:\n",
    "\n",
    "$$f(x_0 + h) - f(x_0 - h) = 2f'(x_0)h + \\frac{f'''(x_0)}{3!}h^3 + \\frac{f''''(x_0)}{4!}h^4 + \\cdots$$\n",
    "\n",
    "We can rearrange the terms to get:\n",
    "\n",
    "$$f'(x_0) = \\frac{f(x_0 + h) - f(x_0 - h)}{2h} - \\frac{f'''(x_0)}{3!}h^2 - \\frac{f''''(x_0)}{4!}h^3 - \\cdots$$\n",
    "\n",
    "The first term on the right hand side is the central difference approximation of the first derivative.  The second term on the right hand side is the error term.\n",
    "\n",
    "### Summary of First Derivative Methods\n",
    "\n",
    "#### Forward Difference\n",
    "\n",
    "The forward difference method for approximating the first derivative is given by:\n",
    "\n",
    "$$f'(x) = \\frac{f(x+h) - f(x)}{h} + O(h)$$\n",
    "\n",
    "#### Backward Difference\n",
    "\n",
    "The backward difference method for approximating the first derivative is given by:\n",
    "\n",
    "$$f'(x) = \\frac{f(x) - f(x-h)}{h} + O(h)$$\n",
    "\n",
    "#### Central Difference\n",
    "\n",
    "The central difference method for approximating the first derivative is given by:\n",
    "\n",
    "$$f'(x) = \\frac{f(x+h) - f(x-h)}{2h} + O(h^2)$$\n",
    "\n",
    "### Second Derivative Methods\n",
    "\n",
    "We can use similar approaches to approximate the second derivative.  Here is a summary of the methods:\n",
    "\n",
    "#### Forward Difference\n",
    "\n",
    "The forward difference method for approximating the second derivative is given by:\n",
    "\n",
    "$$f''(x) = \\frac{f(x+2h) - 2f(x+h) + f(x)}{h^2} + O(h)$$\n",
    "\n",
    "#### Backward Difference\n",
    "\n",
    "The backward difference method for approximating the second derivative is given by:\n",
    "\n",
    "$$f''(x) = \\frac{f(x) - 2f(x-h) + f(x-2h)}{h^2} + O(h)$$\n",
    "\n",
    "#### Central Difference\n",
    "\n",
    "The central difference method for approximating the second derivative is given by:\n",
    "\n",
    "$$f''(x) = \\frac{f(x+h) - 2f(x) + f(x-h)}{h^2} + O(h^2)$$\n",
    "\n",
    "\n",
    "\n",
    "## Discretization of the Heat Equation\n",
    "\n",
    "We will discretize the heat equation in both space and time.\n",
    "\n",
    "We will use the forward difference for time and central difference for space. Why?  Well, think of it this way.  Time moves forward, so we use the forward difference.  And, space is isotropic, meaning that there is no preferred direction.  Since it is symmetric moving either forwards or backwards, we use the central difference (which itself is symmetric).\n",
    "\n",
    "\n",
    "The discretized equation is:\n",
    "\n",
    "$$\\frac{u(x,t+\\Delta t) - u(x,t)}{\\Delta t} = \\alpha \\frac{u(x+\\Delta x,t) - 2u(x,t) + u(x-\\Delta x,t)}{\\Delta x^2}$$\n",
    "\n",
    "Rearranging the terms, we get:\n",
    "\n",
    "$$u(x,t+\\Delta t) = u(x,t) + \\frac{\\alpha \\Delta t}{\\Delta x^2} \\left[ u(x+\\Delta x,t) - 2u(x,t) + u(x-\\Delta x,t) \\right]$$"
   ],
   "metadata": {
    "collapsed": false
   },
   "id": "99897bdf0c27eb48"
  },
  {
   "cell_type": "markdown",
   "source": [
    "# Key Points:\n",
    "\n",
    "In the problems studied earlier in the course, where we looked at differential equations of a single variable, we saw that we could basically \"brute force\" a numerical solution by keeping the time step small enough.  However, as we see in this case, it is a combination of the time step and the spatial step size that matters:\n",
    "\n",
    "$$ r = \\frac{\\alpha \\Delta t}{\\Delta x^2} $$\n",
    "\n",
    "We require $r < \\frac{1}{2}$ for $stable$ solutions!  One approach is to choose a spatial step size that is appropriate for the physical size of the problem, and then choose a time step appropriately based on this.  Alternatively, we can choose $nx$ and $nt$ and then check that $r < \\frac{1}{2}$."
   ],
   "metadata": {
    "collapsed": false
   },
   "id": "217b9db7a2b32ebb"
  },
  {
   "cell_type": "code",
   "outputs": [],
   "source": [
    "# Remember: comments in python are denoted by the pound sign\n",
    "import numpy as np                            #here we load numpy\n",
    "from matplotlib import pyplot as plt     #here we load matplotlib\n",
    "import time, sys                         #and load some utilities"
   ],
   "metadata": {
    "collapsed": false,
    "ExecuteTime": {
     "end_time": "2024-01-21T13:53:55.860287Z",
     "start_time": "2024-01-21T13:53:55.566105Z"
    }
   },
   "id": "971c50a4c25920d1",
   "execution_count": 1
  },
  {
   "cell_type": "code",
   "outputs": [],
   "source": [
    "#this makes matplotlib plots appear in the notebook (instead of a separate window)\n",
    "%matplotlib inline  "
   ],
   "metadata": {
    "collapsed": false,
    "ExecuteTime": {
     "end_time": "2024-01-21T13:54:14.245401Z",
     "start_time": "2024-01-21T13:54:14.237647Z"
    }
   },
   "id": "29fdff933b277489",
   "execution_count": 2
  },
  {
   "cell_type": "markdown",
   "source": [
    "# Diffusion of Heat in a 1D metal bar\n",
    "\n",
    "Consider the problem of a long thin metal bar (length = 20m).  The initial temperature distribution is that there exists a \"hot spot\" at the center of the bar.  We seek to understand how the temperature over the entire bar varies with time."
   ],
   "metadata": {
    "collapsed": false
   },
   "id": "48bad48d812d4815"
  },
  {
   "cell_type": "code",
   "outputs": [
    {
     "name": "stdout",
     "output_type": "stream",
     "text": [
      "Stability constant = 0.2400\n",
      "Minimum number of timesteps = 1921\n"
     ]
    }
   ],
   "source": [
    "# We define the x-axis to start at x=0.0m and end at x=20.0m.\n",
    "# \n",
    "# We specify the number of steps in x (nx), and the number\n",
    "# of steps in t (nt), and calculate dx and dt based on these choices.\n",
    "\n",
    "xrange = 20.0 # in meters\n",
    "trange = 24.0 # in seconds\n",
    "\n",
    "# Note, the indices of the x-values will go from 0 to nx-1\n",
    "nx = 401  # try changing this number and Run All ... what happens?\n",
    "dx = xrange / (nx-1)\n",
    "\n",
    "# Note, the indices of the timesteps will go from 0 to nt-1\n",
    "nt = 4001    #nt is the number of timesteps we want to calculate\n",
    "dt = trange/ (nt-1)  #dt is the amount of time each timestep covers (delta t)\n",
    "\n",
    "thermal = 0.1\n",
    "print (\"Stability constant = %0.4f\" % (thermal*dt/dx**2))\n",
    "\n",
    "# stability for thermal*dt/dx**2 <= 1/2\n",
    "dt_max = 0.5*dx**2/thermal\n",
    "nt_min = trange/dt_max+1\n",
    "print (\"Minimum number of timesteps = %0.0f\" % nt_min)\n",
    "\n",
    "x = np.linspace(0,xrange,nx)\n",
    "\n"
   ],
   "metadata": {
    "collapsed": false,
    "ExecuteTime": {
     "end_time": "2024-01-21T13:55:48.645098Z",
     "start_time": "2024-01-21T13:55:48.639270Z"
    }
   },
   "id": "6d93866e9a9ce35b",
   "execution_count": 5
  },
  {
   "cell_type": "code",
   "outputs": [],
   "source": [
    "def get_uinit(pulseShapeChoice=1):\n",
    "  \n",
    "  # Set the wavefunction equal to all ones, initially\n",
    "  u = np.zeros(nx)      #numpy function ones()\n",
    "\n",
    "  if (pulseShapeChoice == 1):\n",
    "    # Test Case 1: Square Pulse\n",
    "    u[int(9.75 / dx):int(10.25 / dx + 1)] = 2  #setting u = 2 between 9.75 and 10.25\n",
    "  elif pulseShapeChoice == 2:\n",
    "    # Test Case 2:  Gaussian Pulse\n",
    "    mu = 10.0\n",
    "    sigma = 0.25\n",
    "    for i in range(len(u)):\n",
    "      u[i]=u[i]+np.exp(-1.0*(x[i]-mu)**2/sigma**2)\n",
    "  else:\n",
    "    # Test Case 3: Sinusoidal Distribution\n",
    "    wavelength = 1.2*xrange\n",
    "    amplitude = 0.5\n",
    "    for i in range(len(u)):\n",
    "      u[i] = u[i]+amplitude*np.sin(2.0*np.pi*x[i]/wavelength)\n",
    "          \n",
    "  return u"
   ],
   "metadata": {
    "collapsed": false,
    "ExecuteTime": {
     "end_time": "2024-01-21T14:42:23.965833Z",
     "start_time": "2024-01-21T14:42:23.957949Z"
    }
   },
   "id": "7d65ce558e48d3fe",
   "execution_count": 27
  },
  {
   "cell_type": "code",
   "outputs": [],
   "source": [
    "# We might look at different approaches for modeling the \"hot spot\" at the center of the bar.\n",
    "pulseShapeChoice = 2\n",
    "\n",
    "u = get_uinit(pulseShapeChoice)"
   ],
   "metadata": {
    "collapsed": false,
    "ExecuteTime": {
     "end_time": "2024-01-21T14:42:24.730476Z",
     "start_time": "2024-01-21T14:42:24.725339Z"
    }
   },
   "id": "5536db3f4502488b",
   "execution_count": 28
  },
  {
   "cell_type": "code",
   "outputs": [
    {
     "name": "stdout",
     "output_type": "stream",
     "text": [
      "Integral =  -392.1377307454724\n"
     ]
    },
    {
     "data": {
      "text/plain": "<Figure size 640x480 with 1 Axes>",
      "image/png": "[encoded data removed]"
     },
     "metadata": {},
     "output_type": "display_data"
    }
   ],
   "source": [
    "# Plot the initial temperature distribution\n",
    "plt.plot(x, u)\n",
    "plt.ylim(0)\n",
    "print (\"Integral = \",u.sum()-len(x))"
   ],
   "metadata": {
    "collapsed": false,
    "ExecuteTime": {
     "end_time": "2024-01-21T14:42:26.658573Z",
     "start_time": "2024-01-21T14:42:26.600109Z"
    }
   },
   "id": "9797b3ebea0d8aca",
   "execution_count": 29
  },
  {
   "cell_type": "code",
   "outputs": [],
   "source": [
    "# Now, let's solve the heat equation using the forward difference in time and central difference in space.\n",
    "\n",
    "for n in range(nt):  \n",
    "  \n",
    "    un = u.copy() ##copy the existing values of u into un\n",
    "    \n",
    "    # The starting value of i is 1, as we need the indices\n",
    "    # 0, 1, and 2 to evaluate the i=1 value at the next time step\n",
    "    \n",
    "    # The i index runs from 0 to nx-1 (0 to 400) inclusive.\n",
    "    # So, the final value of i needs to be nx-2, as we need\n",
    "    # the indices nx-3, nx-2, and nx-1 to evaluate the i=nx-1 value\n",
    "    # at the next time step.\n",
    "    \n",
    "    for i in range(1, nx-1):\n",
    "        u[i] = un[i] + thermal * dt / dx**2 * (un[i+1] - 2.0*un[i] + un[i-1])"
   ],
   "metadata": {
    "collapsed": false,
    "ExecuteTime": {
     "end_time": "2024-01-21T14:42:30.519484Z",
     "start_time": "2024-01-21T14:42:30.514661Z"
    }
   },
   "id": "839b0de494f1e709",
   "execution_count": 30
  },
  {
   "cell_type": "code",
   "outputs": [
    {
     "name": "stdout",
     "output_type": "stream",
     "text": [
      "Integral =  -392.1378240349047\n"
     ]
    },
    {
     "data": {
      "text/plain": "<Figure size 640x480 with 1 Axes>",
      "image/png": "[encoded data removed]"
     },
     "metadata": {},
     "output_type": "display_data"
    }
   ],
   "source": [
    "# Plot the temperature distribution after nt time steps\n",
    "\n",
    "plt.plot(x, u)\n",
    "plt.ylim(0,2)\n",
    "\n",
    "print (\"Integral = \",u.sum()-len(x))"
   ],
   "metadata": {
    "collapsed": false,
    "ExecuteTime": {
     "end_time": "2024-01-21T14:42:33.522918Z",
     "start_time": "2024-01-21T14:42:33.457930Z"
    }
   },
   "id": "a3c8d4d96bf12d7b",
   "execution_count": 31
  },
  {
   "cell_type": "code",
   "outputs": [
    {
     "name": "stdout",
     "output_type": "stream",
     "text": [
      "Stability parameter = 0.5000 \n",
      "nt_min = 1921\n",
      "Integral =  -392.1377307454724\n",
      "Integral =  -392.13782508628486\n",
      "Integral =  -392.1378250872244\n",
      "Integral =  -392.13782508816297\n"
     ]
    },
    {
     "data": {
      "text/plain": "<Figure size 640x480 with 1 Axes>",
      "image/png": "[encoded data removed]"
     },
     "metadata": {},
     "output_type": "display_data"
    }
   ],
   "source": [
    "xrange = 20.0\n",
    "trange = 24.0\n",
    "nx = 401  # try changing this number from 41 to 81 and Run All ... what happens?\n",
    "dx = xrange / (nx-1)\n",
    "nt = 1921    #nt is the number of timesteps we want to calculate\n",
    "dt = trange/ (nt-1)  #dt is the amount of time each timestep covers (delta t)\n",
    "\n",
    "print (\"Stability parameter = %0.4f \" % (thermal*dt/dx**2))\n",
    "print (\"nt_min = %0.0f\" % (2*thermal*trange*(nx-1)**2/xrange**2+1))\n",
    "\n",
    "x = np.linspace(0, xrange, nx)\n",
    "u = get_uinit(pulseShapeChoice)\n",
    "\n",
    "plt.plot(x, u)\n",
    "print (\"Integral = \",u.sum()-len(x))\n",
    "\n",
    "for ntt in range(nt,nt+3):\n",
    "  dt = trange/(ntt-1)\n",
    "  u = get_uinit(pulseShapeChoice)\n",
    "      \n",
    "  for n in range(ntt):  #loop for values of n from 0 to nt, so it will run nt times\n",
    "    un = u.copy() ##copy the existing values of u into un\n",
    "    for i in range(1, nx-1): ## you can try commenting this line and...\n",
    "        u[i] = un[i] + thermal * dt / dx**2 * (un[i+1] - 2.0*un[i] + un[i-1])\n",
    "  plt.plot(x, u, label=str(ntt))\n",
    "  plt.ylim(0.05,0.15)\n",
    "  plt.xlim(9.5,10.5)\n",
    "  plt.legend()\n",
    "  print (\"Integral = \",u.sum()-len(x))"
   ],
   "metadata": {
    "collapsed": false,
    "ExecuteTime": {
     "end_time": "2024-01-21T14:42:49.853571Z",
     "start_time": "2024-01-21T14:42:49.795476Z"
    }
   },
   "id": "ef124184ccce832e",
   "execution_count": 33
  },
  {
   "cell_type": "code",
   "outputs": [
    {
     "name": "stdout",
     "output_type": "stream",
     "text": [
      "Integral =  -392.13782508628486\n",
      "Integral =  -392.1378250872244\n",
      "Integral =  -392.13782508816297\n"
     ]
    },
    {
     "data": {
      "text/plain": "<Figure size 640x480 with 1 Axes>",
      "image/png": "[encoded data removed]"
     },
     "metadata": {},
     "output_type": "display_data"
    }
   ],
   "source": [
    "for ntt in range(nt,nt+3):\n",
    "  dt = trange/(ntt-1)\n",
    "\n",
    "  u = get_uinit(pulseShapeChoice)\n",
    "  \n",
    "  for n in range(ntt):  #loop for values of n from 0 to nt, so it will run nt times\n",
    "    un = u.copy() ##copy the existing values of u into un\n",
    "    for i in range(1, nx-1): ## you can try commenting this line and...\n",
    "        u[i] = un[i] + thermal * dt / dx**2 * (un[i+1] - 2.0*un[i] + un[i-1])\n",
    "          \n",
    "  plt.plot(x, u, label=str(ntt))\n",
    "  plt.legend()\n",
    "  print (\"Integral = \",u.sum()-len(x))"
   ],
   "metadata": {
    "collapsed": false,
    "ExecuteTime": {
     "end_time": "2024-01-21T14:42:55.475286Z",
     "start_time": "2024-01-21T14:42:54.735474Z"
    }
   },
   "id": "b8055dbb7c291a33",
   "execution_count": 34
  },
  {
   "cell_type": "markdown",
   "source": [
    "# Analytical Solution\n",
    "\n",
    "The technique for solving the heat equation is similar to that for solving the wave equation.  We assume that the solution can be written as a product of two functions, one depending only on $x$ and the other depending only on $t$:\n",
    "\n",
    "$$u(x,t) = X(x) T(t)$$\n",
    "\n",
    "Substituting this into the heat equation, we get:\n",
    "\n",
    "$$X(x) T'(t) = \\alpha X''(x) T(t)$$\n",
    "\n",
    "Dividing both sides by $X(x) T(t)$, we get:\n",
    "\n",
    "$$\\frac{T'(t)}{\\alpha T(t)} = \\frac{X''(x)}{X(x)}$$\n",
    "\n",
    "Since the left hand side is a function of $t$ only and the right hand side is a function of $x$ only, both sides must be equal to a constant.  We will call this constant $-\\lambda^2$:\n",
    "\n",
    "$$\\frac{T'(t)}{\\alpha T(t)} = \\frac{X''(x)}{X(x)} = -\\lambda^2$$\n",
    "\n",
    "We now have two ordinary differential equations:\n",
    "\n",
    "$$T'(t) = -\\alpha \\lambda^2 T(t)$$\n",
    "\n",
    "$$X''(x) = -\\lambda^2 X(x)$$\n",
    "\n",
    "## Solution to the Time Equation\n",
    "\n",
    "The solution to the time equation is:\n",
    "\n",
    "$$T(t) = A e^{-\\alpha \\lambda^2 t}$$\n",
    "\n",
    "where $A$ is a constant.\n",
    "\n",
    "## Solution to the Space Equation\n",
    "\n",
    "The solution to the space equation is:\n",
    "\n",
    "$$X(x) = B \\sin(\\lambda x) + C \\cos(\\lambda x)$$\n",
    "\n",
    "where $B$ and $C$ are constants.\n",
    "\n",
    "## Boundary Conditions\n",
    "\n",
    "We need to apply boundary conditions to solve for the constants $A$, $B$, $C$, and $\\lambda$.\n",
    "\n",
    "### Initial Condition\n",
    "\n",
    "The initial condition is:\n",
    "\n",
    "$$u(x,0) = X(x) T(0) = X(x) A = u_0(x)$$\n",
    "\n",
    "where $u_0(x)$ is the initial temperature distribution.  Thus, we must know the initial temperature distribution to solve the heat equation analytically.\n",
    "\n",
    "### Boundary Condition at $x=0$\n",
    "\n",
    "One interesting boundary condition at $x=0$ is:\n",
    "\n",
    "$$u(0,t) = X(0) T(t) = 0$$\n",
    "\n",
    "This means that $X(0) = 0$.  Substituting this into the solution to the space equation, we get:\n",
    "\n",
    "$$X(0) = B \\sin(\\lambda 0) + C \\cos(\\lambda 0) = C = 0$$\n",
    "\n",
    "Thus, $C=0$, and thus $X(x) = B \\sin(\\lambda x)$.\n",
    "\n",
    "### Boundary Condition 2\n",
    "\n",
    "The second boundary condition is (also interesting):\n",
    "\n",
    "$$u(L,t) = X(L) T(t) = 0$$\n",
    "\n",
    "This means that $X(L) = 0$.  Substituting this into the solution to the space equation, we get:\n",
    "\n",
    "$$X(L) = B \\sin(\\lambda L) = 0$$\n",
    "\n",
    "This means that either $B=0$ or $\\sin(\\lambda L) = 0$.  If $B=0$, then $X(x) = 0$ for all $x$, which is not a practical solution (and not true given our initial temperature distribution).  Thus, we must have $\\sin(\\lambda L) = 0$.  This means that $\\lambda L = n \\pi$ where $n$ is an integer.  Thus, $\\lambda = \\frac{n \\pi}{L}$.\n",
    "\n",
    "Thus, we have:\n",
    "\n",
    "$$X(x) = B \\sin(\\frac{n \\pi}{L} x)$$\n",
    "\n",
    "### Solution to the Heat Equation with Constant EndPoint Temperature Boundary Conditions\n",
    "\n",
    "Putting the initial conditions and boundary conditions together, we get:\n",
    "\n",
    "$$u(x,t) = X(x) T(t) = A_n \\sin(\\frac{n \\pi}{L} x) e^{-\\alpha \\lambda_n^2 t}$$\n",
    "\n",
    "where $A_n$ and $\\lambda_n = \\frac{n\\pi}{L}$ are constants that are different for each value of $n$.\n",
    "\n",
    "Applying the principal of superposition, we get:\n",
    "\n",
    "$$u(x,t) = \\sum_{n=1}^{\\infty} A_n \\sin(\\frac{n \\pi}{L} x) e^{-\\alpha \\lambda_n^2 t}$$\n",
    "\n",
    "## Applying the Initial Condition\n",
    "\n",
    "We can apply the initial condition to solve for the constants $A_n$:\n",
    "\n",
    "$$u(x,0) = \\sum_{n=1}^{\\infty} A_n \\sin(\\frac{n \\pi}{L} x) = u_0(x)$$\n",
    "\n",
    "This is the sine series ``Fourier Series`` for $u_0(x)$.  We can solve for $A_n$ using the following equation:\n",
    "\n",
    "$$A_n = \\frac{2}{L} \\int_0^L u_0(x) \\sin(\\frac{n \\pi}{L} x) dx$$\n",
    "\n",
    "## Big Problems\n",
    "\n",
    "The big problem with this approach is that we need to know the initial temperature distribution $u_0(x)$ in order to solve the heat equation analytically.  In practice, we don't know this.  \n",
    "\n",
    "Moreover, even if we DO know this distribution, the integral to solve for $A_n$ is not easy to solve analytically.  Thus, we need to solve it numerically.  But, if we are going to solve it numerically, then we might as well just solve the heat equation numerically.\n",
    "\n"
   ],
   "metadata": {
    "collapsed": false
   },
   "id": "6053b03bb50c29c9"
  },
  {
   "cell_type": "markdown",
   "source": [
    "\n",
    "\n",
    "\n"
   ],
   "metadata": {
    "collapsed": false
   },
   "id": "2ed3a30e6971ec9a"
  }
 ],
 "metadata": {
  "kernelspec": {
   "display_name": "Python 3",
   "language": "python",
   "name": "python3"
  },
  "language_info": {
   "codemirror_mode": {
    "name": "ipython",
    "version": 2
   },
   "file_extension": ".py",
   "mimetype": "text/x-python",
   "name": "python",
   "nbconvert_exporter": "python",
   "pygments_lexer": "ipython2",
   "version": "2.7.6"
  }
 },
 "nbformat": 4,
 "nbformat_minor": 5
}
