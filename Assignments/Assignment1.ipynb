{
 "cells": [
  {
   "cell_type": "markdown",
   "source": [
    "# Assignment 1 Solutions"
   ],
   "metadata": {
    "collapsed": false
   },
   "id": "b64e77be556797ad"
  },
  {
   "cell_type": "code",
   "outputs": [
    {
     "name": "stdout",
     "output_type": "stream",
     "text": [
      "9.643650760992955\n",
      "sqrt(93)\n"
     ]
    }
   ],
   "source": [
    "# Problem 1\n",
    "\n",
    "import numpy as np\n",
    "import sympy as sym\n",
    "\n",
    "a = np.array([6, -1, 4])\n",
    "b = np.array([8, 7, 9])\n",
    "\n",
    "distance = np.linalg.norm(a-b)\n",
    "print(distance)\n",
    "\n",
    "from sympy.vector import CoordSys3D\n",
    "N = CoordSys3D('N')\n",
    "a = 6*N.i - N.j + 4*N.k\n",
    "b = 8*N.i + 7*N.j + 9*N.k\n",
    "\n",
    "distance = sym.sqrt((a-b).dot(a-b))\n",
    "print(distance)"
   ],
   "metadata": {
    "collapsed": false,
    "ExecuteTime": {
     "end_time": "2024-01-12T15:20:19.468119Z",
     "start_time": "2024-01-12T15:20:19.200884Z"
    }
   },
   "id": "54042cd600f325d6",
   "execution_count": 1
  },
  {
   "cell_type": "code",
   "outputs": [
    {
     "name": "stdout",
     "output_type": "stream",
     "text": [
      "6\n",
      "5\n"
     ]
    }
   ],
   "source": [
    "# Problem 2\n",
    "\n",
    "a = 6*N.i - 3*N.j - 4*N.k\n",
    "\n",
    "# Define the the projection of a onto the y-z plane\n",
    "a_proj = 0*N.i + a.dot(N.j)*N.j + a.dot(N.k)*N.k\n",
    "\n",
    "# calculate distance between a and its projection\n",
    "distance = sym.sqrt((a-a_proj).dot(a-a_proj))\n",
    "print(distance)\n",
    "\n",
    "# Define the the projection of a onto the x axis\n",
    "a_proj = a.dot(N.i)*N.i + 0*N.j + 0*N.k\n",
    "\n",
    "# calculate distance between a and its projection\n",
    "distance = sym.sqrt((a-a_proj).dot(a-a_proj))\n",
    "print(distance)\n"
   ],
   "metadata": {
    "collapsed": false,
    "ExecuteTime": {
     "end_time": "2024-01-12T15:20:19.479311Z",
     "start_time": "2024-01-12T15:20:19.476602Z"
    }
   },
   "id": "d86b20a1980dcabc",
   "execution_count": 2
  },
  {
   "cell_type": "code",
   "outputs": [
    {
     "name": "stdout",
     "output_type": "stream",
     "text": [
      "-9\n"
     ]
    }
   ],
   "source": [
    "# Problem 3\n",
    "\n",
    "a = 4*N.i - 6*N.j + 7*N.k\n",
    "b = -1*N.i + 4*N.j + 8*N.k\n",
    "c = 6*N.i + 9*N.j - 1*N.k\n",
    "\n",
    "# calculate a dot (b+c)\n",
    "print(a.dot(b+c))"
   ],
   "metadata": {
    "collapsed": false,
    "ExecuteTime": {
     "end_time": "2024-01-12T15:20:19.493469Z",
     "start_time": "2024-01-12T15:20:19.480649Z"
    }
   },
   "id": "3b8c47dc0e7e9e17",
   "execution_count": 3
  },
  {
   "cell_type": "code",
   "outputs": [
    {
     "name": "stdout",
     "output_type": "stream",
     "text": [
      "90 - 2*c\n",
      "[45]\n",
      "c**2 - 5*c + 6\n",
      "[2, 3]\n"
     ]
    }
   ],
   "source": [
    "# Problem 4\n",
    "\n",
    "c = sym.Symbol('c')\n",
    "\n",
    "a = 4*N.i - c*N.j + 9*N.k\n",
    "b = 9*N.i + 2*N.j + 6*N.k\n",
    "\n",
    "print(a.dot(b))\n",
    "\n",
    "# calculate the value of c that makes a perpendicular to b\n",
    "d = sym.solve(a.dot(b), c)\n",
    "\n",
    "print(d)\n",
    "\n",
    "a = c*N.i + N.j/2 + c*N.k\n",
    "b = -5*N.i + 12*N.j + c*N.k\n",
    "\n",
    "print(a.dot(b))\n",
    "\n",
    "# calculate the value of c that makes a perpendicular to b\n",
    "d = sym.solve(a.dot(b), c)\n",
    "print(d)"
   ],
   "metadata": {
    "collapsed": false,
    "ExecuteTime": {
     "end_time": "2024-01-12T15:20:19.494037Z",
     "start_time": "2024-01-12T15:20:19.486215Z"
    }
   },
   "id": "14e34a0eded89d62",
   "execution_count": 4
  },
  {
   "cell_type": "code",
   "outputs": [
    {
     "name": "stdout",
     "output_type": "stream",
     "text": [
      "(-2)*N.i + (-2)*N.j + (-4)*N.k\n"
     ]
    }
   ],
   "source": [
    "# Problem 5\n",
    "\n",
    "a = 2*N.i + 6*N.j -4*N.k\n",
    "b = 1*N.i + 1*N.j - 1*N.k\n",
    "\n",
    "# calculate the cross product of a and b\n",
    "c = a.cross(b)\n",
    "print(c)"
   ],
   "metadata": {
    "collapsed": false,
    "ExecuteTime": {
     "end_time": "2024-01-12T15:20:19.499373Z",
     "start_time": "2024-01-12T15:20:19.495552Z"
    }
   },
   "id": "417cd1e4f2cd54cf",
   "execution_count": 5
  },
  {
   "cell_type": "code",
   "outputs": [
    {
     "name": "stdout",
     "output_type": "stream",
     "text": [
      "-9\n"
     ]
    }
   ],
   "source": [
    "# Problem 6\n",
    "\n",
    "acrossb = 4*N.i - 3*N.j +5*N.k\n",
    "c = 2*N.i + 4*N.j -1*N.k\n",
    "\n",
    "# Vector identity: a . (b x c) = b . (c x a) = c . (a x b)\n",
    "\n",
    "# calculate c . (a x b)\n",
    "print(c.dot(acrossb))"
   ],
   "metadata": {
    "collapsed": false,
    "ExecuteTime": {
     "end_time": "2024-01-12T15:20:19.501360Z",
     "start_time": "2024-01-12T15:20:19.498614Z"
    }
   },
   "id": "2d1376a6727a7c0f",
   "execution_count": 6
  },
  {
   "cell_type": "code",
   "outputs": [],
   "source": [],
   "metadata": {
    "collapsed": false,
    "ExecuteTime": {
     "end_time": "2024-01-12T15:20:19.502604Z",
     "start_time": "2024-01-12T15:20:19.501091Z"
    }
   },
   "id": "92af3f951b1b088e",
   "execution_count": 6
  }
 ],
 "metadata": {
  "kernelspec": {
   "display_name": "Python 3",
   "language": "python",
   "name": "python3"
  },
  "language_info": {
   "codemirror_mode": {
    "name": "ipython",
    "version": 2
   },
   "file_extension": ".py",
   "mimetype": "text/x-python",
   "name": "python",
   "nbconvert_exporter": "python",
   "pygments_lexer": "ipython2",
   "version": "2.7.6"
  }
 },
 "nbformat": 4,
 "nbformat_minor": 5
}
