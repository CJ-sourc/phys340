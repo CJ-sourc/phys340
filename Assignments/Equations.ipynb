{
 "cells": [
  {
   "cell_type": "markdown",
   "source": [
    "$$ \\vec{A} = a_1 \\hat{i} + a_2 \\hat{j} + a_3 \\hat{k} $$\n",
    "\n",
    "$$ \\vec{B} = b_1 \\hat{i} + b_2 \\hat{j} + b_3 \\hat{k} $$\n",
    "\n",
    "$$ \\vec{C} = c_1 \\hat{i} + c_2 \\hat{j} + c_3 \\hat{k} $$"
   ],
   "metadata": {
    "collapsed": false
   },
   "id": "2784745b41022103"
  },
  {
   "cell_type": "markdown",
   "source": [
    "$$ \\vec{A} \\times \\hat{B} \\times \\vec{C} $$"
   ],
   "metadata": {
    "collapsed": false
   },
   "id": "b1b065a8edcf0037"
  },
  {
   "cell_type": "markdown",
   "source": [
    "$$ \\vec{B} \\left( \\vec{A} \\cdot \\vec{C} \\right) $$ \n",
    "$$ \\vec{C} \\left( \\vec{A} \\cdot \\vec{B} \\right) $$"
   ],
   "metadata": {
    "collapsed": false
   },
   "id": "e105968352220bfa"
  },
  {
   "cell_type": "markdown",
   "source": [
    "$$ \\vec{A} \\times \\vec{B} \\times \\vec{C} = \\vec{B} \\left( \\vec{A} \\cdot \\vec{C} \\right) - \\vec{C} \\left( \\vec{A} \\cdot \\vec{B} \\right) $$"
   ],
   "metadata": {
    "collapsed": false
   },
   "id": "9d18a482a5187987"
  },
  {
   "cell_type": "code",
   "outputs": [],
   "source": [],
   "metadata": {
    "collapsed": false
   },
   "id": "ad7f17b8222d21fa"
  }
 ],
 "metadata": {
  "kernelspec": {
   "display_name": "Python 3",
   "language": "python",
   "name": "python3"
  },
  "language_info": {
   "codemirror_mode": {
    "name": "ipython",
    "version": 2
   },
   "file_extension": ".py",
   "mimetype": "text/x-python",
   "name": "python",
   "nbconvert_exporter": "python",
   "pygments_lexer": "ipython2",
   "version": "2.7.6"
  }
 },
 "nbformat": 4,
 "nbformat_minor": 5
}
