{
 "cells": [
  {
   "cell_type": "markdown",
   "source": [
    "# Fourier Assignment"
   ],
   "metadata": {
    "collapsed": false
   },
   "id": "7e62e08df3fc6e7c"
  },
  {
   "cell_type": "markdown",
   "source": [
    "# Problem 1\n",
    "\n",
    "<img src=\"Fourier_P1.png\">"
   ],
   "metadata": {
    "collapsed": false
   },
   "id": "66a175f0e2590f26"
  },
  {
   "cell_type": "code",
   "outputs": [
    {
     "name": "stdout",
     "output_type": "stream",
     "text": [
      "The indefinite overlap integral is:\n",
      "x⋅sin(3⋅x)   cos(3⋅x)\n",
      "────────── + ────────\n",
      "    3           9    \n",
      "The overlap integral is 0\n"
     ]
    }
   ],
   "source": [
    "# Problem 1\n",
    "\n",
    "import numpy as np\n",
    "import matplotlib.pyplot as plt\n",
    "import sympy as sym\n",
    "\n",
    "# Calculate the overlap integral\n",
    "\n",
    "# Define the symbols\n",
    "x = sym.symbols('x')\n",
    "\n",
    "# Define the functions\n",
    "f1 = x\n",
    "f2 = sym.cos(3*x)\n",
    "\n",
    "# Calculate the overlap integral\n",
    "overlap_indef = sym.integrate(f1*f2, x)\n",
    "print(f'The indefinite overlap integral is:')\n",
    "sym.pprint(overlap_indef)\n",
    "\n",
    "overlap = sym.integrate(f1*f2, (x, -np.pi/3, np.pi/3))\n",
    "\n",
    "print(f'The overlap integral is {overlap}')"
   ],
   "metadata": {
    "collapsed": false,
    "ExecuteTime": {
     "end_time": "2024-04-04T18:24:33.546517Z",
     "start_time": "2024-04-04T18:24:33.494453Z"
    }
   },
   "id": "6d8a2e669374930b",
   "execution_count": 4
  },
  {
   "cell_type": "markdown",
   "source": [
    "# Problem 2\n",
    "\n",
    "<img src=\"Fourier_P2.png\">"
   ],
   "metadata": {
    "collapsed": false
   },
   "id": "d925b415326f413a"
  },
  {
   "cell_type": "code",
   "outputs": [
    {
     "name": "stdout",
     "output_type": "stream",
     "text": [
      "The Fourier coefficients are:\n",
      "a0:\n",
      "1/3\n",
      "an:\n",
      "⎧      n           \n",
      "⎪4⋅(-1)            \n",
      "⎪───────  for n ≠ 0\n",
      "⎨  2  2            \n",
      "⎪ π ⋅n             \n",
      "⎪                  \n",
      "⎩  2/3    otherwise\n",
      "bn:\n",
      "0\n"
     ]
    },
    {
     "data": {
      "text/plain": "<matplotlib.legend.Legend at 0x128bb2ed0>"
     },
     "execution_count": 5,
     "metadata": {},
     "output_type": "execute_result"
    },
    {
     "data": {
      "text/plain": "<Figure size 640x480 with 1 Axes>",
      "image/png": "[encoded data removed]"
     },
     "metadata": {},
     "output_type": "display_data"
    }
   ],
   "source": [
    "# Problem 2\n",
    "\n",
    "# Define the symbols\n",
    "x = sym.symbols('x')\n",
    "n = sym.symbols('n', integer=True)\n",
    "L = sym.symbols('L', real=True, positive=True)\n",
    "pi = sym.pi\n",
    "\n",
    "# Define the function\n",
    "f = x**2\n",
    "L = L.subs(L, 1)\n",
    "\n",
    "# Calculate the Fourier coefficients\n",
    "a0 = 1/(2*L)*sym.integrate(f, (x, -L, L))\n",
    "\n",
    "an = 1/L*sym.integrate(f*sym.cos(n*pi*x/L), (x, -L, L))\n",
    "\n",
    "bn = 1/L*sym.integrate(f*sym.sin(n*pi*x/L), (x, -L, L))\n",
    "\n",
    "print(f'The Fourier coefficients are:')\n",
    "print(f'a0:')\n",
    "sym.pprint(a0)\n",
    "print(f'an:')\n",
    "sym.pprint(an)\n",
    "print(f'bn:')\n",
    "sym.pprint(bn)\n",
    "\n",
    "fourier_series = a0 + sym.Sum(an*sym.cos(n*pi*x/L) + bn*sym.sin(n*pi*x/L), (n, 1, 10))\n",
    "\n",
    "x_vals = np.linspace(-1, 1, 1000)\n",
    "f_vals = np.array([f.subs(x, val) for val in x_vals])\n",
    "fourier_vals = np.array([fourier_series.subs(x, val) for val in x_vals])\n",
    "\n",
    "plt.plot(x_vals, f_vals, label='f(x)')\n",
    "plt.plot(x_vals, fourier_vals, label='Fourier series')\n",
    "plt.legend()\n"
   ],
   "metadata": {
    "collapsed": false,
    "ExecuteTime": {
     "end_time": "2024-04-04T18:24:55.491903Z",
     "start_time": "2024-04-04T18:24:36.182514Z"
    }
   },
   "id": "1a456f3d968ecf71",
   "execution_count": 5
  },
  {
   "cell_type": "markdown",
   "source": [
    "# Problem 3\n",
    "\n",
    "<img src=\"Fourier_P3.png\">"
   ],
   "metadata": {
    "collapsed": false
   },
   "id": "db9899e44d27becd"
  },
  {
   "cell_type": "code",
   "outputs": [
    {
     "name": "stdout",
     "output_type": "stream",
     "text": [
      "The complex Fourier coefficients are:\n",
      "cn:\n",
      "⎧  ⎛    n    ⎞                   \n",
      "⎪ⅈ⋅⎝(-1)  - 1⎠                   \n",
      "⎪─────────────  for n > 0 ∨ n < 0\n",
      "⎨     π⋅n                        \n",
      "⎪                                \n",
      "⎪      0            otherwise    \n",
      "⎩                                \n"
     ]
    }
   ],
   "source": [
    "# Problem 3\n",
    "\n",
    "# Define the symbols\n",
    "x = sym.symbols('x')\n",
    "n = sym.symbols('n', integer=True)\n",
    "L = sym.symbols('L', real=True, positive=True)\n",
    "pi = sym.pi\n",
    "\n",
    "# Define the function\n",
    "f = sym.sign(x)\n",
    "L = L.subs(L, 7)\n",
    "\n",
    "# calculate the complex Fourier coefficients\n",
    "\n",
    "cn = 1/(2*L)*sym.integrate(f*sym.exp(-sym.I*n*pi*x/L), (x, -L, L))\n",
    "\n",
    "print(f'The complex Fourier coefficients are:')\n",
    "print(f'cn:')\n",
    "sym.pprint(cn.simplify())\n",
    "\n",
    "fourier_series = sym.Sum(cn*sym.exp(sym.I*n*pi*x/L), (n, -10, 10))\n",
    "\n",
    "fourier_series_real = fourier_series.as_real_imag()[0]\n",
    "fourier_series_imag = fourier_series.as_real_imag()[1]\n",
    "\n",
    "x_vals = np.linspace(-7, 7, 1000)\n",
    "f_vals = np.array([f.subs(x, val) for val in x_vals])\n",
    "fourier_vals_real = np.array([fourier_series_real.subs(x, val) for val in x_vals])\n",
    "fourier_vals_imag = np.array([fourier_series_imag.subs(x, val) for val in x_vals])\n",
    "\n",
    "plt.plot(x_vals, f_vals, label='f(x)')\n",
    "plt.plot(x_vals, fourier_vals_real, label='Fourier series - real part')\n",
    "plt.plot(x_vals, fourier_vals_imag, label='Fourier series - imaginary part')\n",
    "plt.legend()\n",
    "\n"
   ],
   "metadata": {
    "collapsed": false,
    "is_executing": true,
    "ExecuteTime": {
     "start_time": "2024-04-04T18:24:55.493853Z"
    }
   },
   "id": "ae58a6d0f1250e13",
   "execution_count": null
  },
  {
   "cell_type": "markdown",
   "source": [
    "# Problem 4\n",
    "\n",
    "<img src=\"Fourier_P4.png\">"
   ],
   "metadata": {
    "collapsed": false
   },
   "id": "4614bcd6089f908c"
  },
  {
   "cell_type": "code",
   "outputs": [],
   "source": [
    "# Problem 4\n",
    "\n",
    "# Define the symbols\n",
    "x = sym.symbols('x')\n",
    "n = sym.symbols('n', integer=True)\n",
    "L = sym.symbols('L', real=True, positive=True)\n",
    "pi = sym.pi\n",
    "\n",
    "# Define the function\n",
    "f = -pi*sym.sign(x)\n",
    "L = L.subs(L, 1)\n",
    "\n",
    "# Calculate the Fourier coefficients\n",
    "a0 = 1/L*sym.integrate(f, (x, -L, L))\n",
    "\n",
    "an = 1/L*sym.integrate(f*sym.cos(n*pi*x/L), (x, -L, L))\n",
    "\n",
    "bn = 1/L*sym.integrate(f*sym.sin(n*pi*x/L), (x, -L, L))\n",
    "\n",
    "print(f'The Fourier coefficients are:')\n",
    "print(f'a0:')\n",
    "sym.pprint(a0)\n",
    "print(f'an:')\n",
    "sym.pprint(an)\n",
    "print(f'bn:')\n",
    "sym.pprint(bn)\n",
    "\n",
    "fourier_series = a0/2 + sym.Sum(an*sym.cos(n*pi*x/L) + bn*sym.sin(n*pi*x/L), (n, 1, 10))\n",
    "\n",
    "#sym.pprint(fourier_series)\n",
    "\n",
    "# Plot the function and its Fourier series\n",
    "x_vals = np.linspace(-1, 1, 1000)\n",
    "f_vals = np.array([f.subs(x, val) for val in x_vals])\n",
    "fourier_vals = np.array([fourier_series.subs(x, val) for val in x_vals])\n",
    "\n",
    "plt.plot(x_vals, f_vals, label='f(x)')\n",
    "plt.plot(x_vals, fourier_vals, label='Fourier series')\n",
    "plt.legend()\n",
    "plt.show()\n"
   ],
   "metadata": {
    "collapsed": false,
    "is_executing": true
   },
   "id": "86f0462947631148",
   "execution_count": null
  },
  {
   "cell_type": "code",
   "outputs": [],
   "source": [],
   "metadata": {
    "collapsed": false,
    "is_executing": true
   },
   "id": "ee731d62f8ee8fc0",
   "execution_count": null
  },
  {
   "cell_type": "code",
   "outputs": [],
   "source": [],
   "metadata": {
    "collapsed": false,
    "is_executing": true
   },
   "id": "257ed5d1f1fca9",
   "execution_count": null
  },
  {
   "cell_type": "code",
   "outputs": [],
   "source": [],
   "metadata": {
    "collapsed": false
   },
   "id": "688fce9f692d60ef"
  }
 ],
 "metadata": {
  "kernelspec": {
   "display_name": "Python 3",
   "language": "python",
   "name": "python3"
  },
  "language_info": {
   "codemirror_mode": {
    "name": "ipython",
    "version": 2
   },
   "file_extension": ".py",
   "mimetype": "text/x-python",
   "name": "python",
   "nbconvert_exporter": "python",
   "pygments_lexer": "ipython2",
   "version": "2.7.6"
  }
 },
 "nbformat": 4,
 "nbformat_minor": 5
}
