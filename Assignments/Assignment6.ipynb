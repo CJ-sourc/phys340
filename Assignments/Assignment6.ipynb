{
 "cells": [
  {
   "cell_type": "markdown",
   "source": [
    "# Assignment 6"
   ],
   "metadata": {
    "collapsed": false
   },
   "id": "6b1a3ec4a213ac68"
  },
  {
   "cell_type": "code",
   "outputs": [],
   "source": [
    "import numpy as np\n",
    "import sympy as sp"
   ],
   "metadata": {
    "collapsed": false,
    "ExecuteTime": {
     "end_time": "2024-03-04T20:04:44.043500Z",
     "start_time": "2024-03-04T20:04:43.798390Z"
    }
   },
   "id": "6ced890e52efd4b2",
   "execution_count": 5
  },
  {
   "cell_type": "code",
   "outputs": [
    {
     "name": "stdout",
     "output_type": "stream",
     "text": [
      "z = 4 * e^(-2*pi/3)i\n",
      "z = 4 * (cos(-2*pi/3) + i * sin(-2*pi/3))\n"
     ]
    }
   ],
   "source": [
    "# Q1\n",
    "\n",
    "z = -2 - 2*sp.sqrt(3)*sp.I\n",
    "\n",
    "# write in polar form\n",
    "r = sp.Abs(z)\n",
    "theta = sp.arg(z)\n",
    "print(f'z = {r} * e^({theta})i')\n",
    "print(f'z = {r} * (cos({theta}) + i * sin({theta}))')"
   ],
   "metadata": {
    "collapsed": false,
    "ExecuteTime": {
     "end_time": "2024-03-04T20:11:39.983984Z",
     "start_time": "2024-03-04T20:11:39.979327Z"
    }
   },
   "id": "68e4a2514112d97",
   "execution_count": 18
  },
  {
   "cell_type": "code",
   "outputs": [
    {
     "name": "stdout",
     "output_type": "stream",
     "text": [
      "z1*z2 = 0 + 6i\n",
      "z1/z2 = sqrt(2)/3 + (-sqrt(2)/3)i\n"
     ]
    }
   ],
   "source": [
    "# Q2\n",
    "\n",
    "r1 = 2\n",
    "theta1 = sp.pi/8\n",
    "r2 = 3\n",
    "theta2 = 3*sp.pi/8\n",
    "\n",
    "z1 = r1 * sp.exp(sp.I * theta1)\n",
    "z2 = r2 * sp.exp(sp.I * theta2)\n",
    "\n",
    "z = z1 * z2\n",
    "z_real = sp.re(z)\n",
    "z_imag = sp.im(z)\n",
    "print(f'z1*z2 = {z_real} + {z_imag}i')\n",
    "\n",
    "z = z1 / z2\n",
    "z_real = sp.re(z)\n",
    "z_imag = sp.im(z)\n",
    "print(f'z1/z2 = {z_real} + ({z_imag})i')"
   ],
   "metadata": {
    "collapsed": false,
    "ExecuteTime": {
     "end_time": "2024-03-04T20:16:13.351974Z",
     "start_time": "2024-03-04T20:16:13.346483Z"
    }
   },
   "id": "f5b03be6a8749477",
   "execution_count": 24
  },
  {
   "cell_type": "code",
   "outputs": [
    {
     "name": "stdout",
     "output_type": "stream",
     "text": [
      "z1/z2 = sqrt(2) * (cos(-pi/3) + i * sin(-pi/3))\n",
      "z1/z2 = sqrt(2)/2 + -sqrt(6)/2i\n"
     ]
    }
   ],
   "source": [
    "# Q3\n",
    "\n",
    "z1 = sp.sqrt(2) + sp.sqrt(6)*sp.I\n",
    "z2 = -1 +sp.sqrt(3)*sp.I\n",
    "\n",
    "z = z1/z2\n",
    "r = sp.Abs(z)\n",
    "theta = sp.arg(z)\n",
    "\n",
    "print(f'z1/z2 = {r} * (cos({theta}) + i * sin({theta}))')\n",
    "print(f'z1/z2 = {sp.re(z)} + {sp.im(z)}i')"
   ],
   "metadata": {
    "collapsed": false,
    "ExecuteTime": {
     "end_time": "2024-03-04T20:19:51.434092Z",
     "start_time": "2024-03-04T20:19:51.429200Z"
    }
   },
   "id": "70c5c566c3b02b62",
   "execution_count": 28
  },
  {
   "cell_type": "code",
   "outputs": [
    {
     "name": "stdout",
     "output_type": "stream",
     "text": [
      "z = +/-(sqrt(2)/2 + (sqrt(6)/2)i)\n"
     ]
    }
   ],
   "source": [
    "# Q4\n",
    "\n",
    "z1 = -1 + sp.sqrt(3)*sp.I\n",
    "\n",
    "z = sp.sqrt(z1)\n",
    "\n",
    "z_r = sp.re(z)\n",
    "z_i = sp.im(z)\n",
    "\n",
    "print(f'z = +/-({z_r} + ({z_i})i)')\n"
   ],
   "metadata": {
    "collapsed": false,
    "ExecuteTime": {
     "end_time": "2024-03-04T20:22:30.348788Z",
     "start_time": "2024-03-04T20:22:30.344209Z"
    }
   },
   "id": "89bdf687567f3541",
   "execution_count": 31
  },
  {
   "cell_type": "code",
   "outputs": [
    {
     "name": "stdout",
     "output_type": "stream",
     "text": [
      "4⋅z - 5 + 9⋅ⅈ\n",
      "─────────────\n",
      "   3⋅z + ⅈ   \n",
      "--------\n",
      "15 - 23⋅ⅈ \n",
      "──────────\n",
      "         2\n",
      "(3⋅z + ⅈ) \n"
     ]
    }
   ],
   "source": [
    "# Q5\n",
    "\n",
    "def f(z):\n",
    "    numerator = 4*z-5+9*sp.I\n",
    "    denominator = 3*z+sp.I\n",
    "    return numerator/denominator\n",
    "\n",
    "# calculate the derivative of f(z)\n",
    "z = sp.symbols('z')\n",
    "sp.pprint(f(z))\n",
    "print('--------')\n",
    "f_prime = sp.diff(f(z), z)\n",
    "\n",
    "sp.pprint(sp.simplify(f_prime))"
   ],
   "metadata": {
    "collapsed": false,
    "ExecuteTime": {
     "end_time": "2024-03-04T20:26:40.801533Z",
     "start_time": "2024-03-04T20:26:40.778821Z"
    }
   },
   "id": "bd93c4304080853a",
   "execution_count": 36
  },
  {
   "cell_type": "code",
   "outputs": [
    {
     "name": "stdout",
     "output_type": "stream",
     "text": [
      " z - 6 + 2⋅ⅈ \n",
      "─────────────\n",
      " 2           \n",
      "z  - 4⋅z + 40\n",
      "\n",
      "--------\n",
      "\n",
      " 2                                     \n",
      "z  - 4⋅z - 2⋅(z - 2)⋅(z - 6 + 2⋅ⅈ) + 40\n",
      "───────────────────────────────────────\n",
      "                           2           \n",
      "            ⎛ 2           ⎞            \n",
      "            ⎝z  - 4⋅z + 40⎠            \n",
      "\n",
      "--------\n",
      "\n",
      "[2 - 6*I, 2 + 6*I]\n"
     ]
    }
   ],
   "source": [
    "# Q6\n",
    "\n",
    "def f(z):\n",
    "    numerator = z-6+2*sp.I\n",
    "    denominator = z**2-4*z+40\n",
    "    return numerator/denominator\n",
    "\n",
    "# calculate the derivative of f(z)\n",
    "z = sp.symbols('z')\n",
    "sp.pprint(f(z))\n",
    "print()\n",
    "print('--------')\n",
    "print()\n",
    "f_prime = sp.diff(f(z), z)\n",
    "sp.pprint(sp.simplify(f_prime))\n",
    "\n",
    "f_prime_denominator = z**2-4*z+40\n",
    "print()\n",
    "print('--------')\n",
    "print()\n",
    "print(sp.solve(f_prime_denominator, z))\n"
   ],
   "metadata": {
    "collapsed": false,
    "ExecuteTime": {
     "end_time": "2024-03-04T20:31:53.485180Z",
     "start_time": "2024-03-04T20:31:53.443771Z"
    }
   },
   "id": "72491e45e5e9a0a3",
   "execution_count": 43
  },
  {
   "cell_type": "code",
   "outputs": [],
   "source": [],
   "metadata": {
    "collapsed": false,
    "ExecuteTime": {
     "end_time": "2024-03-04T20:28:03.682034Z",
     "start_time": "2024-03-04T20:28:03.679762Z"
    }
   },
   "id": "437ec85cfea31167",
   "execution_count": 37
  },
  {
   "cell_type": "code",
   "outputs": [],
   "source": [],
   "metadata": {
    "collapsed": false
   },
   "id": "c2f05add44aff9ea"
  }
 ],
 "metadata": {
  "kernelspec": {
   "display_name": "Python 3",
   "language": "python",
   "name": "python3"
  },
  "language_info": {
   "codemirror_mode": {
    "name": "ipython",
    "version": 2
   },
   "file_extension": ".py",
   "mimetype": "text/x-python",
   "name": "python",
   "nbconvert_exporter": "python",
   "pygments_lexer": "ipython2",
   "version": "2.7.6"
  }
 },
 "nbformat": 4,
 "nbformat_minor": 5
}
