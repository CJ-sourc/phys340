{
 "cells": [
  {
   "cell_type": "markdown",
   "source": [
    "## Problem 2:\n",
    "\n",
    "Consider the following circuit:\n",
    "\n",
    "<img src=\"Filter.png\">\n",
    "\n",
    "Let the input voltage, $V_{IN}$, be a sinusoidal voltage source with a magnitude of $1V$ and a frequency of $\\omega$.\n",
    "\n",
    "a) Plot the magnitude and phase of $V_{OUT}$ as a function of $\\omega$ for $R=1 k\\Omega$, $C=1\\mu F$, and $L=10 \\mu H$.\n",
    "\n",
    "b) What happens to the magnitude and the phase of $V$ \n",
    "at $\\omega = \\frac{1}{\\sqrt{LC}}$?"
   ],
   "metadata": {
    "collapsed": false
   },
   "id": "39168e60c960f6c7"
  },
  {
   "cell_type": "code",
   "outputs": [],
   "source": [
    "import numpy as np\n",
    "import matplotlib.pyplot as plt\n",
    "\n",
    "R = 1e3\n",
    "C = 1e-6\n",
    "L = 10e-6\n",
    "w = np.linspace(0,10000,1000)\n",
    "Vin = 1\n",
    "\n",
    "ZR = R\n",
    "ZC = 1/(1j*w*C)\n",
    "ZL = 1j*w*L\n",
    "\n",
    "Z_bottom = 1/(1/ZC + 1/ZL)\n",
    "Z_total = ZR + Z_bottom\n",
    "\n",
    "Vout = Vin * Z_bottom / Z_total\n",
    "\n",
    "omega_res = 1/np.sqrt(L*C)\n",
    "print('Resonant frequency:', omega_res)\n",
    "\n",
    "#plt.figure()\n",
    "#plt.subplot(2,1,1)\n",
    "#plt.loglog(w, np.abs(Vout))\n",
    "#plt.title('Magnitude of Vout')\n",
    "#plt.xlabel('Frequency (rad/s)')\n",
    "#plt.ylabel('Magnitude')\n",
    "\n",
    "#plt.subplot(2,1,2)\n",
    "#plt.semilogx(w, np.angle(Vout))\n",
    "#plt.title('Phase of Vout')\n",
    "#plt.xlabel('Frequency (rad/s)')\n",
    "#plt.ylabel('Phase')\n",
    "#plt.show()"
   ],
   "metadata": {
    "collapsed": false
   },
   "id": "24aa62ae9cf3b7"
  },
  {
   "cell_type": "code",
   "outputs": [],
   "source": [],
   "metadata": {
    "collapsed": false
   },
   "id": "cc3b212ffea14fc4"
  }
 ],
 "metadata": {
  "kernelspec": {
   "display_name": "Python 3",
   "language": "python",
   "name": "python3"
  },
  "language_info": {
   "codemirror_mode": {
    "name": "ipython",
    "version": 2
   },
   "file_extension": ".py",
   "mimetype": "text/x-python",
   "name": "python",
   "nbconvert_exporter": "python",
   "pygments_lexer": "ipython2",
   "version": "2.7.6"
  }
 },
 "nbformat": 4,
 "nbformat_minor": 5
}
