{
 "cells": [
  {
   "cell_type": "markdown",
   "source": [
    "# Fourier Assignment"
   ],
   "metadata": {
    "collapsed": false
   },
   "id": "7e62e08df3fc6e7c"
  },
  {
   "cell_type": "code",
   "outputs": [
    {
     "name": "stdout",
     "output_type": "stream",
     "text": [
      "The overlap integral is 0\n"
     ]
    }
   ],
   "source": [
    "# Problem 1\n",
    "\n",
    "import numpy as np\n",
    "import matplotlib.pyplot as plt\n",
    "import sympy as sym\n",
    "\n",
    "# Calculate the overlap integral\n",
    "\n",
    "# Define the symbols\n",
    "x = sym.symbols('x')\n",
    "\n",
    "# Define the functions\n",
    "f1 = x\n",
    "f2 = sym.cos(5*x)\n",
    "\n",
    "# Calculate the overlap integral\n",
    "overlap = sym.integrate(f1*f2, (x, -np.pi/5, np.pi/5))\n",
    "\n",
    "print(f'The overlap integral is {overlap}')"
   ],
   "metadata": {
    "collapsed": false,
    "ExecuteTime": {
     "end_time": "2024-03-23T02:42:59.323935Z",
     "start_time": "2024-03-23T02:42:57.051334Z"
    }
   },
   "id": "6d8a2e669374930b",
   "execution_count": 1
  },
  {
   "cell_type": "code",
   "outputs": [
    {
     "name": "stdout",
     "output_type": "stream",
     "text": [
      "The Fourier coefficients are:\n",
      "a0:\n",
      "2/3\n",
      "an:\n",
      "⎧      n           \n",
      "⎪4⋅(-1)            \n",
      "⎪───────  for n ≠ 0\n",
      "⎨  2  2            \n",
      "⎪ π ⋅n             \n",
      "⎪                  \n",
      "⎩  2/3    otherwise\n",
      "bn:\n",
      "0\n"
     ]
    }
   ],
   "source": [
    "# Problem 2\n",
    "\n",
    "# Define the symbols\n",
    "x = sym.symbols('x')\n",
    "n = sym.symbols('n', integer=True)\n",
    "L = sym.symbols('L', real=True, positive=True)\n",
    "pi = sym.pi\n",
    "\n",
    "# Define the function\n",
    "f = x**2\n",
    "L = L.subs(L, 1)\n",
    "\n",
    "# Calculate the Fourier coefficients\n",
    "a0 = 1/L*sym.integrate(f, (x, -L, L))\n",
    "\n",
    "an = 1/L*sym.integrate(f*sym.cos(n*pi*x/L), (x, -L, L))\n",
    "\n",
    "bn = 1/L*sym.integrate(f*sym.sin(n*pi*x/L), (x, -L, L))\n",
    "\n",
    "print(f'The Fourier coefficients are:')\n",
    "print(f'a0:')\n",
    "sym.pprint(a0)\n",
    "print(f'an:')\n",
    "sym.pprint(an)\n",
    "print(f'bn:')\n",
    "sym.pprint(bn)\n"
   ],
   "metadata": {
    "collapsed": false,
    "ExecuteTime": {
     "end_time": "2024-03-23T02:53:57.308195Z",
     "start_time": "2024-03-23T02:53:57.196250Z"
    }
   },
   "id": "1a456f3d968ecf71",
   "execution_count": 12
  },
  {
   "cell_type": "code",
   "outputs": [
    {
     "name": "stdout",
     "output_type": "stream",
     "text": [
      "The complex Fourier coefficients are:\n",
      "cn:\n",
      "⎧  ⎛    n    ⎞                   \n",
      "⎪ⅈ⋅⎝(-1)  - 1⎠                   \n",
      "⎪─────────────  for n > 0 ∨ n < 0\n",
      "⎨     π⋅n                        \n",
      "⎪                                \n",
      "⎪      0            otherwise    \n",
      "⎩                                \n"
     ]
    }
   ],
   "source": [
    "# Problem 3\n",
    "\n",
    "# Define the symbols\n",
    "x = sym.symbols('x')\n",
    "n = sym.symbols('n', integer=True)\n",
    "L = sym.symbols('L', real=True, positive=True)\n",
    "pi = sym.pi\n",
    "\n",
    "# Define the function\n",
    "f = sym.sign(x)\n",
    "L = L.subs(L, 9)\n",
    "\n",
    "# calculate the complex Fourier coefficients\n",
    "\n",
    "cn = 1/(2*L)*sym.integrate(f*sym.exp(-sym.I*n*pi*x/L), (x, -L, L))\n",
    "\n",
    "print(f'The complex Fourier coefficients are:')\n",
    "print(f'cn:')\n",
    "sym.pprint(cn.simplify())\n",
    "\n"
   ],
   "metadata": {
    "collapsed": false,
    "ExecuteTime": {
     "end_time": "2024-03-23T02:50:42.486276Z",
     "start_time": "2024-03-23T02:50:42.360327Z"
    }
   },
   "id": "ae58a6d0f1250e13",
   "execution_count": 7
  },
  {
   "cell_type": "code",
   "outputs": [
    {
     "name": "stdout",
     "output_type": "stream",
     "text": [
      "The Fourier coefficients are:\n",
      "a0:\n",
      "0\n",
      "an:\n",
      "0\n",
      "bn:\n",
      "⎧      n               \n",
      "⎪2⋅(-1)    2           \n",
      "⎪─────── - ─  for n ≠ 0\n",
      "⎨   n      n           \n",
      "⎪                      \n",
      "⎪     0       otherwise\n",
      "⎩                      \n"
     ]
    }
   ],
   "source": [
    "# Problem 4\n",
    "\n",
    "# Define the symbols\n",
    "x = sym.symbols('x')\n",
    "n = sym.symbols('n', integer=True)\n",
    "L = sym.symbols('L', real=True, positive=True)\n",
    "pi = sym.pi\n",
    "\n",
    "# Define the function\n",
    "f = -pi*sym.sign(x)\n",
    "L = L.subs(L, 1)\n",
    "\n",
    "# Calculate the Fourier coefficients\n",
    "a0 = 1/L*sym.integrate(f, (x, -L, L))\n",
    "\n",
    "an = 1/L*sym.integrate(f*sym.cos(n*pi*x/L), (x, -L, L))\n",
    "\n",
    "bn = 1/L*sym.integrate(f*sym.sin(n*pi*x/L), (x, -L, L))\n",
    "\n",
    "print(f'The Fourier coefficients are:')\n",
    "print(f'a0:')\n",
    "sym.pprint(a0)\n",
    "print(f'an:')\n",
    "sym.pprint(an)\n",
    "print(f'bn:')\n",
    "sym.pprint(bn)\n"
   ],
   "metadata": {
    "collapsed": false,
    "ExecuteTime": {
     "end_time": "2024-03-23T02:53:45.746042Z",
     "start_time": "2024-03-23T02:53:45.680881Z"
    }
   },
   "id": "86f0462947631148",
   "execution_count": 11
  },
  {
   "cell_type": "code",
   "outputs": [],
   "source": [],
   "metadata": {
    "collapsed": false
   },
   "id": "ee731d62f8ee8fc0"
  }
 ],
 "metadata": {
  "kernelspec": {
   "display_name": "Python 3",
   "language": "python",
   "name": "python3"
  },
  "language_info": {
   "codemirror_mode": {
    "name": "ipython",
    "version": 2
   },
   "file_extension": ".py",
   "mimetype": "text/x-python",
   "name": "python",
   "nbconvert_exporter": "python",
   "pygments_lexer": "ipython2",
   "version": "2.7.6"
  }
 },
 "nbformat": 4,
 "nbformat_minor": 5
}
