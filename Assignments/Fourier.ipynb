{
 "cells": [
  {
   "cell_type": "markdown",
   "source": [
    "# Fourier Assignment"
   ],
   "metadata": {
    "collapsed": false
   },
   "id": "7e62e08df3fc6e7c"
  },
  {
   "cell_type": "code",
   "outputs": [],
   "source": [
    "# Problem 1\n",
    "\n",
    "import numpy as np\n",
    "import matplotlib.pyplot as plt\n",
    "import sympy as sym\n",
    "\n",
    "# Calculate the overlap integral\n",
    "\n",
    "# Define the symbols\n",
    "x = sym.symbols('x')\n",
    "\n",
    "# Define the functions\n",
    "f1 = x\n",
    "f2 = sym.cos(5*x)\n",
    "\n",
    "# Calculate the overlap integral\n",
    "overlap = sym.integrate(f1*f2, (x, -np.pi/5, np.pi/5))\n",
    "\n",
    "print(f'The overlap integral is {overlap}')"
   ],
   "metadata": {
    "collapsed": false
   },
   "id": "6d8a2e669374930b"
  },
  {
   "cell_type": "code",
   "outputs": [],
   "source": [
    "# Problem 2\n",
    "\n",
    "# Define the symbols\n",
    "x = sym.symbols('x')\n",
    "n = sym.symbols('n', integer=True)\n",
    "\n",
    "# Define the function\n",
    "f = x**2\n",
    "L = 1\n",
    "\n",
    "# Calculate the Fourier coefficients\n",
    "a0 = 1/L*sym.integrate(f, (x, -L, L))\n",
    "\n",
    "an = 2/L*sym.integrate(f*sym.cos(n*np.pi*x/L), (x, -L, L))\n",
    "\n",
    "bn = 2/L*sym.integrate(f*sym.sin(n*np.pi*x/L), (x, -L, L))\n",
    "\n",
    "print(f'The Fourier coefficients are a0 = {a0}, an = {an}, bn = {bn}')"
   ],
   "metadata": {
    "collapsed": false
   },
   "id": "1a456f3d968ecf71"
  },
  {
   "cell_type": "code",
   "outputs": [],
   "source": [
    "# Problem 3\n",
    "\n"
   ],
   "metadata": {
    "collapsed": false
   },
   "id": "ae58a6d0f1250e13"
  }
 ],
 "metadata": {
  "kernelspec": {
   "display_name": "Python 3",
   "language": "python",
   "name": "python3"
  },
  "language_info": {
   "codemirror_mode": {
    "name": "ipython",
    "version": 2
   },
   "file_extension": ".py",
   "mimetype": "text/x-python",
   "name": "python",
   "nbconvert_exporter": "python",
   "pygments_lexer": "ipython2",
   "version": "2.7.6"
  }
 },
 "nbformat": 4,
 "nbformat_minor": 5
}
