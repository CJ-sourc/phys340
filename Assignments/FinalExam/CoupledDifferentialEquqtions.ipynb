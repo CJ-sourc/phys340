{
 "cells": [
  {
   "metadata": {},
   "cell_type": "markdown",
   "source": [
    "# Problem 3\n",
    "\n",
    "Consider the following system of coupled differential equations:\n",
    "\n",
    "\\begin{align}\n",
    "\\frac{dx}{dt} &= 2x + y \\\\\n",
    "\\frac{dy}{dt} &= 16x + 2y\n",
    "\\end{align}\n",
    "\n",
    "where $x(0) = 1$ and $y(0) = 0$.\n",
    "\n",
    "a) Write this system as a matrix equation.\n",
    "\n",
    "b) Find the eigenvalues and eigenvectors of the transformation matrix.\n",
    "\n",
    "c) Write the general solution to the system of differential equations.\n",
    "\n",
    "d) Find the solution to the system of differential equations given the initial conditions.\n",
    "\n",
    "e) Plot the solution to the system of differential equations."
   ],
   "id": "aeba032eb9edf7f9"
  },
  {
   "metadata": {},
   "cell_type": "markdown",
   "source": [
    "## Solution of the System of ODEs\n",
    "\n",
    "Solving for the eigenvalues and eigenvectors of the coefficient matrix, we find that the eigenvalues are $\\lambda_1 = 6$ and $\\lambda_2 = -2$. \n",
    "\n",
    "We can show this by solving the characteristic equation of the coefficient matrix:\n",
    "\n",
    "$$\\begin{equation}\n",
    "\\begin{vmatrix}\n",
    "2-\\lambda & 1\\\\\n",
    "16 & 2-\\lambda\n",
    "\\end{vmatrix}\n",
    "= (2-\\lambda)(2-\\lambda) - 16 = 0\n",
    "\\end{equation}$$\n",
    "\n",
    "This leads to the characteristic equation $\\lambda^2 - 4\\lambda - 12 = 0$, which has solutions $\\lambda_1 = 6$ and $\\lambda_2 = -2$. \n",
    "\n",
    "The corresponding eigenvectors are $\\mathbf{v}_1 = \\begin{bmatrix}\\frac{1}{\\sqrt{17}}\\\\\\frac{4}{\\sqrt{17}}\\end{bmatrix}$ and $\\mathbf{v}_2 = \\begin{bmatrix}\\frac{1}{\\sqrt{17}}\\\\-\\frac{4}{\\sqrt{17}}\\end{bmatrix}$.\n",
    "\n",
    "We can show this by solving the equation $(A - \\lambda I)\\mathbf{v} = 0$ for each eigenvalue.  For $\\lambda_1 = 6$, we have\n",
    "\n",
    "$$\\begin{equation}\n",
    "\\begin{bmatrix}\n",
    "2-6 & 1\\\\\n",
    "16 & 2-6\n",
    "\\end{bmatrix}\n",
    "\\begin{bmatrix}\n",
    "v_{11}\\\\\n",
    "v_{21}\n",
    "\\end{bmatrix}\n",
    "= \\begin{bmatrix}\n",
    "-4 & 1\\\\\n",
    "16 & -4\n",
    "\\end{bmatrix}\n",
    "\\begin{bmatrix}\n",
    "v_{11}\\\\\n",
    "v_{21}\n",
    "\\end{bmatrix}\n",
    "= \\begin{bmatrix}\n",
    "0\\\\\n",
    "0\n",
    "\\end{bmatrix}\n",
    "\\end{equation}$$\n",
    "\n",
    "This leads to the equations $-4v_{11} + v_{21} = 0$ and $16v_{11} - 4v_{21} = 0$.  Each of these leads to the condition $v_{21} = 4v_{11}$.\n",
    "\n",
    "We can also impose that the eigenvector is normalized, so that $v_{11}^2 + v_{21}^2 = 1$.  This leads to the condition $v_{11}^2 + 16v_{11}^2 = 1$, or $17v_{11}^2 = 1$, or $v_{11} = \\frac{1}{\\sqrt{17}}$.  Then, $v_{21} = 4v_{11} = \\frac{4}{\\sqrt{17}}$.\n",
    "\n",
    "For $\\lambda_2 = -2$, we have\n",
    "\n",
    "$$\\begin{equation}\n",
    "\\begin{bmatrix}\n",
    "2-(-2) & 1\\\\\n",
    "16 & 2-(-2)\n",
    "\\end{bmatrix}\n",
    "\\begin{bmatrix}\n",
    "v_{12}\\\\\n",
    "v_{22}\n",
    "\\end{bmatrix}\n",
    "= \\begin{bmatrix}\n",
    "4 & 1\\\\\n",
    "16 & 4\n",
    "\\end{bmatrix}\n",
    "\\begin{bmatrix}\n",
    "v_{12}\\\\\n",
    "v_{22}\n",
    "\\end{bmatrix}\n",
    "= \\begin{bmatrix}\n",
    "0\\\\\n",
    "0\n",
    "\\end{bmatrix}\n",
    "\\end{equation}$$\n",
    "\n",
    "This leads to the equations $4v_{12} + v_{22} = 0$ and $16v_{12} + 4v_{22} = 0$.  Each of these leads to the condition $v_{22} = -4v_{12}$.\n",
    "\n",
    "We can also impose that the eigenvector is normalized, so that $v_{12}^2 + v_{22}^2 = 1$.  This leads to the condition $v_{12}^2 + 16v_{12}^2 = 1$, or $17v_{12}^2 = 1$, or $v_{12} = \\frac{1}{\\sqrt{17}}$.  Then, $v_{22} = -4v_{12} = -\\frac{4}{\\sqrt{15}}$.\n",
    "\n",
    "The eigenvectors are then $\\mathbf{v}_1 = \\begin{bmatrix}\\frac{1}{\\sqrt{17}}\\\\\\frac{4}{\\sqrt{17}}\\end{bmatrix}$ and $\\mathbf{v}_2 = \\begin{bmatrix}\\frac{1}{\\sqrt{17}}\\\\-\\frac{4}{\\sqrt{17}}\\end{bmatrix}$.\n",
    "\n",
    "From these, we create a similar matrix $S$ with the eigenvectors as columns, and a diagonal matrix $L$ with the eigenvalues on the diagonal:\n",
    "\n",
    "$$\\begin{equation}\n",
    "S = \\begin{bmatrix}\n",
    "\\frac{1}{\\sqrt{17}} & \\frac{1}{\\sqrt{17}}\\\\\n",
    "\\frac{4}{\\sqrt{17}} & -\\frac{4}{\\sqrt{17}}\n",
    "\\end{bmatrix}\n",
    "\\end{equation}$$\n",
    "\n",
    "$$\\begin{equation}\n",
    "L = \\begin{bmatrix}\n",
    "6& 0\\\\\n",
    "0 & -2\n",
    "\\end{bmatrix}\n",
    "\\end{equation}$$\n",
    "\n",
    "The determinant of the matrix $S$ is $\\frac{1}{\\sqrt{17}}(-\\frac{4}{\\sqrt{17}}) - \\frac{1}{\\sqrt{17}}(\\frac{4}{\\sqrt{17}}) = -\\frac{8}{17}$.  \n",
    "\n",
    "The inverse of the matrix $S$ is then\n",
    "\n",
    "$$\\begin{equation}\n",
    "S^{-1} = \\frac{1}{-\\frac{8}{17}}\\begin{bmatrix}\n",
    "-\\frac{4}{\\sqrt{17}} & -\\frac{1}{\\sqrt{17}}\\\\\n",
    "-\\frac{4}{\\sqrt{17}} & \\frac{1}{\\sqrt{17}}\n",
    "\\end{bmatrix}\n",
    "\\end{equation}$$\n",
    "\n",
    "or, simplifying, \n",
    "\n",
    "$$\\begin{equation}\n",
    "S^{-1} = \\sqrt{17} \\begin{bmatrix}\n",
    "\\frac{1}{2} & \\frac{1}{8}\\\\\n",
    "\\frac{1}{2} & -\\frac{1}{8}\n",
    "\\end{bmatrix}\n",
    "\\end{equation}$$"
   ],
   "id": "3a721af79bbaab9c"
  },
  {
   "metadata": {},
   "cell_type": "markdown",
   "source": [
    "The solution of the system of ODEs is then\n",
    "\n",
    "$$\\begin{equation}\n",
    "\\begin{bmatrix}\n",
    "x\\\\\n",
    "y\n",
    "\\end{bmatrix}\n",
    "=\n",
    "S\n",
    "\\begin{bmatrix}\n",
    "r_1\\\\\n",
    "r_2\n",
    "\\end{bmatrix}\n",
    "=\n",
    "\\begin{bmatrix}\n",
    "\\frac{1}{\\sqrt{17}} & \\frac{1}{\\sqrt{17}}\\\\\n",
    "\\frac{4}{\\sqrt{17}} & -\\frac{4}{\\sqrt{17}}\n",
    "\\end{bmatrix}\n",
    "\\begin{bmatrix}\n",
    "r_1\\\\\n",
    "r_2\n",
    "\\end{bmatrix}\n",
    "\\end{equation}$$\n",
    "\n",
    "where $r_1$ and $r_2$ are the solutions of the system of ODEs\n",
    "\n",
    "$$\\begin{equation}\n",
    "\\begin{bmatrix}\n",
    "\\frac{dr_1}{dt}\\\\\n",
    "\\frac{dr_2}{dt}\n",
    "\\end{bmatrix}\n",
    "=\n",
    "\\begin{bmatrix}\n",
    "6& 0\\\\\n",
    "0 & -2\n",
    "\\end{bmatrix}\n",
    "\\begin{bmatrix}\n",
    "r_1\\\\\n",
    "r_2\n",
    "\\end{bmatrix}\n",
    "\\end{equation}$$\n",
    "\n",
    "The solution of this system of ODEs is\n",
    "    \n",
    "$$\\begin{equation}\n",
    "\\begin{bmatrix}\n",
    "r_1\\\\\n",
    "r_2\n",
    "\\end{bmatrix}\n",
    "=\n",
    "\\begin{bmatrix}\n",
    "r_{10} e^{6t}\\\\\n",
    "r_{20} e^{-2t}\n",
    "\\end{bmatrix}\n",
    "\\end{equation}$$\n",
    "\n",
    "where $r_{10}$, $r_{20}$  are constants of integration.\n",
    "\n",
    "We can determine these constants of integration from the initial conditions.  If the initial conditions are $x(0) = 1$, $y(0) = 0$ then the solution of the system of ODEs is\n",
    "\n",
    "$$\\begin{equation}\n",
    "\\begin{bmatrix}\n",
    "r_{10}\\\\\n",
    "r_{20}\n",
    "\\end{bmatrix}\n",
    "= \\sqrt{17}\n",
    "\\begin{bmatrix}\n",
    "\\frac{1}{2} & \\frac{1}{8}\\\\\n",
    "\\frac{1}{2} & -\\frac{1}{8}\n",
    "\\end{bmatrix}\n",
    "\\begin{bmatrix}\n",
    "1\\\\\n",
    "0}\n",
    "\\end{bmatrix}\n",
    "\\end{equation}$$\n",
    "\n",
    "\n",
    "This leads to the following solution for $y_1$ and $y_2$:\n",
    "\n",
    "$$\\begin{equation}\n",
    "r_{10}= \\frac{\\sqrt{17}}{2}  \\\\\n",
    "r_{20}= \\frac{\\sqrt{17}}{2} \n",
    "\\end{equation}$$\n",
    "\n",
    "The solution of the system of ODEs is then\n",
    "\n",
    "$$\\begin{equation}\n",
    "\\begin{bmatrix}\n",
    "x\\\\\n",
    "y\n",
    "\\end{bmatrix}\n",
    "=\n",
    "S\n",
    "\\begin{bmatrix}\n",
    "r\\\\\n",
    "s\n",
    "\\end{bmatrix}\n",
    "=\n",
    "\\begin{bmatrix}\n",
    "\\frac{1}{\\sqrt{17}} & \\frac{1}{\\sqrt{17}}\\\\\n",
    "\\frac{4}{\\sqrt{17}} & -\\frac{4}{\\sqrt{17}}\n",
    "\\end{bmatrix}\n",
    "\\begin{bmatrix}\n",
    "\\frac{\\sqrt{17}}{2} e^{6t}\\\\\n",
    "\\frac{\\sqrt{17}}{2} e^{-2t}\n",
    "\\end{bmatrix}\n",
    "\\end{equation}$$\n",
    "\n",
    "Multiplying the matrices, we find\n",
    "\n",
    "$$\\begin{equation}\n",
    "\\begin{bmatrix}\n",
    "x\\\\\n",
    "y\n",
    "\\end{bmatrix}\n",
    "=\n",
    "\\begin{bmatrix}\n",
    "\\frac{1}{\\sqrt{17}}(\\frac{\\sqrt{17}}{2} e^{6t} + \\frac{\\sqrt{17}}{2} e^{-2t})\\\\\n",
    "\\frac{1}{\\sqrt{17}}(\\frac{4\\sqrt{17}}{2} e^{6t} + \\frac{-4\\sqrt{17}}{2} e^{-2t})\n",
    "\\end{bmatrix}\n",
    "\\end{equation}$$\n",
    "\n",
    "$$\\begin{equation}\n",
    "\\begin{bmatrix}\n",
    "x\\\\\n",
    "y\n",
    "\\end{bmatrix}\n",
    "=\n",
    "\\begin{bmatrix}\n",
    "\\frac{1}{2} e^{6t} + \\frac{1}{2} e^{-2t}\\\\\n",
    "2 e^{6t} - 2e^{-2t}\n",
    "\\end{bmatrix}\n",
    "\\end{equation}$$"
   ],
   "id": "8edc53b993315513"
  },
  {
   "metadata": {
    "ExecuteTime": {
     "end_time": "2024-04-22T19:47:01.078013Z",
     "start_time": "2024-04-22T19:47:00.926962Z"
    }
   },
   "cell_type": "code",
   "source": [
    "import numpy as np\n",
    "\n",
    "# Initial conditions\n",
    "\n",
    "y10 = 1\n",
    "y20 = 0\n",
    "\n",
    "# create a coefficient matrix\n",
    "A = np.array([[2, 1],[16, 2]])\n",
    "print(A)\n",
    "\n",
    "# print the eigenvalues and eigenvectors of the coefficient matrix\n",
    "eigenvalues, eigenvectorsT = np.linalg.eig(A)\n",
    "\n",
    "# the eigenvectors are the columns of the eigenvectorsT matrix\n",
    "# taking the transpose of this matrix gives the eigenvectors as rows\n",
    "eigenvectors = eigenvectorsT.T\n",
    "print('The eigenvalues are ')\n",
    "print(eigenvalues)\n",
    "print('The eigenvectors (columns) are ')\n",
    "print(eigenvectorsT)\n",
    "print()"
   ],
   "id": "11da0bcf9091797d",
   "outputs": [
    {
     "name": "stdout",
     "output_type": "stream",
     "text": [
      "[[ 2  1]\n",
      " [16  2]]\n",
      "The eigenvalues are \n",
      "[ 6. -2.]\n",
      "The eigenvectors (columns) are \n",
      "[[ 0.24253563 -0.24253563]\n",
      " [ 0.9701425   0.9701425 ]]\n",
      "\n"
     ]
    }
   ],
   "execution_count": 1
  },
  {
   "metadata": {
    "ExecuteTime": {
     "end_time": "2024-04-22T19:47:01.484237Z",
     "start_time": "2024-04-22T19:47:01.079003Z"
    }
   },
   "cell_type": "code",
   "source": [
    "import sympy as sym\n",
    "\n",
    "# create a solution matrix\n",
    "R = sym.Matrix([sym.symbols('r1'), sym.symbols('r2')])\n",
    "sym.pretty_print(R)\n",
    "\n",
    "# create a matrix of eigenvectors\n",
    "S = sym.Matrix(eigenvectorsT)\n",
    "sym.pretty_print(S)\n",
    "\n",
    "# create a diagonal matrix of eigenvalues\n",
    "L = sym.Matrix([[eigenvalues[0], 0], [0, eigenvalues[1]]])\n",
    "\n",
    "# create the inverse of the matrix of eigenvectors\n",
    "Sinv = S.inv()\n",
    "sym.pretty_print(Sinv)\n",
    "\n",
    "r1 = sym.symbols('r10')*sym.exp(eigenvalues[0] * sym.symbols('t'))\n",
    "r2 = sym.symbols('r20')*sym.exp(eigenvalues[1] * sym.symbols('t'))\n",
    "\n",
    "sym.pretty_print(r1)\n",
    "sym.pretty_print(r2)\n",
    "\n",
    "Y = S * R\n",
    "\n",
    "print('The solution is')\n",
    "sym.pretty_print(Y)\n",
    "\n",
    "print('r1(0) = ',r1.subs(sym.symbols('t'),0).subs(sym.symbols('t'),0))\n",
    "print('r2(0) = ',r2.subs(sym.symbols('t'),0).subs(sym.symbols('t'),0))\n"
   ],
   "id": "e0b61c9cf4e4ed99",
   "outputs": [
    {
     "name": "stdout",
     "output_type": "stream",
     "text": [
      "⎡r₁⎤\n",
      "⎢  ⎥\n",
      "⎣r₂⎦\n",
      "⎡0.242535625036333  -0.242535625036333⎤\n",
      "⎢                                     ⎥\n",
      "⎣0.970142500145332  0.970142500145332 ⎦\n",
      "⎡2.06155281280883   0.515388203202208⎤\n",
      "⎢                                    ⎥\n",
      "⎣-2.06155281280883  0.515388203202208⎦\n",
      "     6.0⋅t\n",
      "r₁₀⋅ℯ     \n",
      "     -2.0⋅t\n",
      "r₂₀⋅ℯ      \n",
      "The solution is\n",
      "⎡0.242535625036333⋅r₁ - 0.242535625036333⋅r₂⎤\n",
      "⎢                                           ⎥\n",
      "⎣0.970142500145332⋅r₁ + 0.970142500145332⋅r₂⎦\n",
      "r1(0) =  r10\n",
      "r2(0) =  r20\n"
     ]
    }
   ],
   "execution_count": 2
  },
  {
   "metadata": {
    "ExecuteTime": {
     "end_time": "2024-04-22T19:47:01.496660Z",
     "start_time": "2024-04-22T19:47:01.484940Z"
    }
   },
   "cell_type": "code",
   "source": [
    "Y0 = S * R.subs(sym.symbols('r1'),r1).subs(sym.symbols('r2'),r2)\n",
    "Y0 = Y0.subs(sym.symbols('t'),0)\n",
    "sym.pretty_print(Y0)\n",
    "\n",
    "Y0dot = S * R.subs(sym.symbols('r1'),sym.diff(r1,sym.symbols('t'))).subs(sym.symbols('r2'),sym.diff(r2,sym.symbols('t')))\n",
    "Y0dot = Y0dot.subs(sym.symbols('t'),0)\n",
    "sym.pretty_print(Y0dot)\n",
    "\n",
    "Y0val = sym.Matrix([sym.symbols('y10'), sym.symbols('y20')])\n",
    "sym.pretty_print(Y0val)\n",
    "\n",
    "Y0val = Y0val.subs(sym.symbols('y10'),y10).subs(sym.symbols('y20'),y20)\n",
    "\n",
    "sym.pretty_print(Y0val)"
   ],
   "id": "675a12942a91ba43",
   "outputs": [
    {
     "name": "stdout",
     "output_type": "stream",
     "text": [
      "⎡0.242535625036333⋅r₁₀ - 0.242535625036333⋅r₂₀⎤\n",
      "⎢                                             ⎥\n",
      "⎣0.970142500145332⋅r₁₀ + 0.970142500145332⋅r₂₀⎦\n",
      "⎡1.455213750218⋅r₁₀ + 0.485071250072666⋅r₂₀ ⎤\n",
      "⎢                                           ⎥\n",
      "⎣5.82085500087199⋅r₁₀ - 1.94028500029066⋅r₂₀⎦\n",
      "⎡y₁₀⎤\n",
      "⎢   ⎥\n",
      "⎣y₂₀⎦\n",
      "⎡1⎤\n",
      "⎢ ⎥\n",
      "⎣0⎦\n"
     ]
    }
   ],
   "execution_count": 3
  },
  {
   "metadata": {
    "ExecuteTime": {
     "end_time": "2024-04-22T19:47:01.507848Z",
     "start_time": "2024-04-22T19:47:01.498082Z"
    }
   },
   "cell_type": "code",
   "source": "constant_dict = sym.solve([Y0val[0] - Y0[0], Y0val[1] - Y0[1]], [sym.symbols('r10'), sym.symbols('r20')])",
   "id": "3a6c89cc773d1861",
   "outputs": [],
   "execution_count": 4
  },
  {
   "metadata": {
    "ExecuteTime": {
     "end_time": "2024-04-22T19:47:01.510407Z",
     "start_time": "2024-04-22T19:47:01.508599Z"
    }
   },
   "cell_type": "code",
   "source": [
    "print(constant_dict[sym.symbols('r10')])\n",
    "print(constant_dict[sym.symbols('r20')])"
   ],
   "id": "fbb2d28e9c9013e4",
   "outputs": [
    {
     "name": "stdout",
     "output_type": "stream",
     "text": [
      "2.06155281280883\n",
      "-2.06155281280883\n"
     ]
    }
   ],
   "execution_count": 5
  },
  {
   "metadata": {
    "ExecuteTime": {
     "end_time": "2024-04-22T19:47:01.516582Z",
     "start_time": "2024-04-22T19:47:01.511070Z"
    }
   },
   "cell_type": "code",
   "source": [
    "Y_solution = Y.subs(sym.symbols('r1'),r1).subs(sym.symbols('r2'),r2)\n",
    "sym.pretty_print(Y_solution)\n",
    "Y_solution = Y_solution.subs(constant_dict)\n",
    "sym.pretty_print(Y_solution)"
   ],
   "id": "d53225b2b637070e",
   "outputs": [
    {
     "name": "stdout",
     "output_type": "stream",
     "text": [
      "⎡                       6.0⋅t                          -2.0⋅t⎤\n",
      "⎢0.242535625036333⋅r₁₀⋅ℯ      - 0.242535625036333⋅r₂₀⋅ℯ      ⎥\n",
      "⎢                                                            ⎥\n",
      "⎢                       6.0⋅t                          -2.0⋅t⎥\n",
      "⎣0.970142500145332⋅r₁₀⋅ℯ      + 0.970142500145332⋅r₂₀⋅ℯ      ⎦\n",
      "⎡     6.0⋅t        -2.0⋅t⎤\n",
      "⎢0.5⋅ℯ      + 0.5⋅ℯ      ⎥\n",
      "⎢                        ⎥\n",
      "⎢     6.0⋅t        -2.0⋅t⎥\n",
      "⎣2.0⋅ℯ      - 2.0⋅ℯ      ⎦\n"
     ]
    }
   ],
   "execution_count": 6
  },
  {
   "metadata": {
    "ExecuteTime": {
     "end_time": "2024-04-22T19:47:22.472190Z",
     "start_time": "2024-04-22T19:47:22.417266Z"
    }
   },
   "cell_type": "code",
   "source": [
    "import matplotlib.pyplot as plt\n",
    "\n",
    "t = np.linspace(0, 1, 100)\n",
    "\n",
    "xt = sym.lambdify(sym.symbols('t'), Y_solution[0], 'numpy')\n",
    "yt = sym.lambdify(sym.symbols('t'), Y_solution[1], 'numpy')\n",
    "\n",
    "plt.plot(t, xt(t), label='x')\n",
    "plt.plot(t, yt(t), label='y')\n",
    "plt.legend()\n",
    "plt.show()"
   ],
   "id": "cfa96ad8bae561ae",
   "outputs": [
    {
     "data": {
      "text/plain": [
       "<Figure size 640x480 with 1 Axes>"
      ],
      "image/png": "[encoded data removed]"
     },
     "metadata": {},
     "output_type": "display_data"
    }
   ],
   "execution_count": 10
  },
  {
   "metadata": {
    "ExecuteTime": {
     "end_time": "2024-04-22T19:47:45.435193Z",
     "start_time": "2024-04-22T19:47:45.414070Z"
    }
   },
   "cell_type": "code",
   "source": [
    "# now, let's calculate the motion numerically, using the Euler method\n",
    "# time step\n",
    "dt = 0.0001\n",
    "\n",
    "# number of time steps\n",
    "n = 10000\n",
    "\n",
    "# create arrays to store the solution\n",
    "tn = np.zeros(n)\n",
    "x = np.zeros(n)\n",
    "y = np.zeros(n)\n",
    "xdot = np.zeros(n)\n",
    "ydot = np.zeros(n)\n",
    "\n",
    "# initial conditions\n",
    "tn[0] = 0\n",
    "x[0] = 1\n",
    "y[0] = 0\n",
    "\n",
    "# loop over time steps\n",
    "for i in range(n-1):\n",
    "    # calculate the derivatives\n",
    "    xdot[i] = 2*x[i] + y[i]\n",
    "    ydot[i] = 16*x[i] + 2*y[i]\n",
    "    \n",
    "    # calculate the new values of y1 and y2 (Euler method)\n",
    "    x[i+1] = x[i] + xdot[i] * dt\n",
    "    y[i+1] = y[i] + ydot[i] * dt\n",
    "    \n",
    "    # calculate the new time\n",
    "    tn[i+1] = tn[i] + dt"
   ],
   "id": "efe704b4276fce05",
   "outputs": [],
   "execution_count": 13
  },
  {
   "metadata": {
    "ExecuteTime": {
     "end_time": "2024-04-22T19:47:46.417857Z",
     "start_time": "2024-04-22T19:47:46.297787Z"
    }
   },
   "cell_type": "code",
   "source": [
    "# plot the results\n",
    "fig, ax = plt.subplots(2,figsize=(10, 10))\n",
    "ax[0].plot(tn, x, 'r.', label='x')\n",
    "ax[1].plot(tn, y, 'r.', label='y')\n",
    "ax[0].plot(t, xt(t), 'b-', label='x analytical', linewidth=4)\n",
    "ax[1].plot(t, yt(t), 'b-', label='y analytical', linewidth=4)\n",
    "ax[0].set_xlabel('t (s)')\n",
    "ax[1].set_xlabel('t (s)')\n",
    "ax[0].set_ylabel('x (m)')\n",
    "ax[1].set_ylabel('y (m)')\n",
    "ax[0].legend()\n",
    "ax[1].legend()\n",
    "plt.show()\n"
   ],
   "id": "53af9658da779612",
   "outputs": [
    {
     "data": {
      "text/plain": [
       "<Figure size 1000x1000 with 2 Axes>"
      ],
      "image/png": "[encoded data removed]"
     },
     "metadata": {},
     "output_type": "display_data"
    }
   ],
   "execution_count": 14
  },
  {
   "metadata": {},
   "cell_type": "code",
   "outputs": [],
   "execution_count": null,
   "source": "",
   "id": "ae578a74558f73a"
  }
 ],
 "metadata": {
  "kernelspec": {
   "display_name": "Python 3",
   "language": "python",
   "name": "python3"
  },
  "language_info": {
   "codemirror_mode": {
    "name": "ipython",
    "version": 2
   },
   "file_extension": ".py",
   "mimetype": "text/x-python",
   "name": "python",
   "nbconvert_exporter": "python",
   "pygments_lexer": "ipython2",
   "version": "2.7.6"
  }
 },
 "nbformat": 4,
 "nbformat_minor": 5
}
