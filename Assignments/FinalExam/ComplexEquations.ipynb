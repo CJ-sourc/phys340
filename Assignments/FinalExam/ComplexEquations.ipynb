{
 "cells": [
  {
   "cell_type": "markdown",
   "source": [
    "# Problem 1:\n",
    "\n",
    "Suppose that there are two complex numbers, $z_1 = x_1 + i y_1$ and $z_2 = x_2 + i y_2$, such that their product, $z_1 z_2$ is purely real and non-zero.\n",
    "\n",
    "Show that there exists a real number, $r$, such that $z_1 = r z_2^*$, and find the value of $r$ in terms of the real and imaginary components of $z_1$ and $z_2$."
   ],
   "metadata": {
    "collapsed": false
   },
   "id": "d2a4e7eb46ead843"
  },
  {
   "cell_type": "code",
   "source": [
    "import sympy as sym\n",
    "\n",
    "x1, y1, x2, y2, r = sym.symbols('x1 y1 x2 y2 r', real=True)\n",
    "\n",
    "z1 = x1 + y1 * 1j\n",
    "z2 = x2 + y2 * 1j\n",
    "\n",
    "product = z1*z2.simplify()\n",
    "\n",
    "product_real = sym.re(product)\n",
    "product_imag = sym.im(product)\n",
    "\n",
    "print(\"product_real: \")\n",
    "sym.pprint(product_real.simplify())\n",
    "print()\n",
    "print(\"product_imag: \")\n",
    "sym.pprint(product_imag.simplify())\n",
    "print()\n",
    "\n",
    "y1_constraint = sym.Eq(product_imag, 0)\n",
    "print(\"y1_constraint: \")\n",
    "sym.pprint(y1_constraint)\n",
    "print()\n",
    "\n",
    "z2_conj = z2.conjugate()\n",
    "quotient = z1/z2_conj.simplify()\n",
    "\n",
    "quotient_real = sym.re(quotient)\n",
    "quotient_imag = sym.im(quotient)\n",
    "\n",
    "print(\"quotient_real: \")\n",
    "sym.pprint(quotient_real.simplify())\n",
    "print()\n",
    "print(\"quotient_imag: \")\n",
    "sym.pprint(quotient_imag.simplify())\n",
    "print()\n",
    "\n",
    "q_real = quotient_real.subs(y1, sym.solve(y1_constraint, y1)[0])\n",
    "q_imag = quotient_imag.subs(y1, sym.solve(y1_constraint, y1)[0])\n",
    "\n",
    "print(\"q_real: \")\n",
    "sym.pprint(q_real.simplify())\n",
    "print()\n",
    "print(\"q_imag: \")\n",
    "sym.pprint(q_imag.simplify())\n",
    "print()"
   ],
   "metadata": {
    "collapsed": false,
    "ExecuteTime": {
     "end_time": "2024-04-22T19:43:00.943758Z",
     "start_time": "2024-04-22T19:43:00.881986Z"
    }
   },
   "id": "1096f88e546849e5",
   "outputs": [
    {
     "name": "stdout",
     "output_type": "stream",
     "text": [
      "product_real: \n",
      "x₁⋅x₂ - y₁⋅y₂\n",
      "\n",
      "product_imag: \n",
      "1.0⋅x₁⋅y₂ + 1.0⋅x₂⋅y₁\n",
      "\n",
      "y1_constraint: \n",
      "1.0⋅x₁⋅y₂ + 1.0⋅x₂⋅y₁ = 0\n",
      "\n",
      "quotient_real: \n",
      "x₁⋅x₂ - y₁⋅y₂\n",
      "─────────────\n",
      "  2         2\n",
      "x₂  + 1.0⋅y₂ \n",
      "\n",
      "quotient_imag: \n",
      "1.0⋅(x₁⋅y₂ + x₂⋅y₁)\n",
      "───────────────────\n",
      "       2     2     \n",
      "     x₂  + y₂      \n",
      "\n",
      "q_real: \n",
      "x₁\n",
      "──\n",
      "x₂\n",
      "\n",
      "q_imag: \n",
      "0\n",
      "\n"
     ]
    }
   ],
   "execution_count": 20
  },
  {
   "cell_type": "code",
   "source": [
    "x1_val = 4\n",
    "x2_val = 7\n",
    "y2_val = 19\n",
    "\n",
    "y1_val = sym.solve(y1_constraint.subs({x1: x1_val, x2: x2_val, y2: y2_val}), y1)[0]\n",
    "\n",
    "r = q_real.subs({x1: x1_val, x2: x2_val, y2: y2_val, y1: y1_val})\n",
    "\n",
    "print(\"y1: \", y1_val)\n",
    "print(\"r: \", r)\n",
    "print()"
   ],
   "metadata": {
    "collapsed": false,
    "ExecuteTime": {
     "end_time": "2024-04-22T19:44:40.705719Z",
     "start_time": "2024-04-22T19:44:40.688878Z"
    }
   },
   "id": "e0a343edacb881f8",
   "outputs": [
    {
     "name": "stdout",
     "output_type": "stream",
     "text": [
      "y1:  -10.8571428571429\n",
      "r:  0.571428571428571\n",
      "\n"
     ]
    }
   ],
   "execution_count": 27
  },
  {
   "metadata": {},
   "cell_type": "code",
   "outputs": [],
   "execution_count": null,
   "source": "",
   "id": "e826b5ea1aec505"
  }
 ],
 "metadata": {
  "kernelspec": {
   "display_name": "Python 3",
   "language": "python",
   "name": "python3"
  },
  "language_info": {
   "codemirror_mode": {
    "name": "ipython",
    "version": 2
   },
   "file_extension": ".py",
   "mimetype": "text/x-python",
   "name": "python",
   "nbconvert_exporter": "python",
   "pygments_lexer": "ipython2",
   "version": "2.7.6"
  }
 },
 "nbformat": 4,
 "nbformat_minor": 5
}
