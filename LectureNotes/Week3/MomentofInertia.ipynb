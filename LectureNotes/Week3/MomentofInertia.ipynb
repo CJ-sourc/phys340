{
 "cells": [
  {
   "cell_type": "markdown",
   "source": [
    "# Moment of Inertia Tensor\n",
    "\n",
    "What is a tensor? A tensor is a mathematical object that describes a linear mapping between two vector spaces. So, for example, a 2x2 matrix is a tensor that maps a 2-dimensional vector to another 2-dimensional vector.  In other words, all of the transformation matrices that we have been using are tensors!\n",
    "\n",
    "In our case, we are interested in the mapping between the angular momentum vector and the angular velocity vector. The tensor that describes this mapping is called the moment of inertia tensor. The moment of inertia tensor is a 3x3 matrix that is symmetric and positive definite.\n",
    "\n",
    "The total angular momentum of a rigid body, about the origin, is given by:\n",
    "\n",
    "$$\\vec{L} = \\sum_i m_i \\vec{r}_i \\times \\vec{v}_i$$\n",
    "\n",
    "where $\\vec{r}_i$ is the position vector of the $i$th particle relative to the origin, and $\\vec{v}_i$ is the velocity vector of the $i$th particle relative to the origin.  We can write the velocity as the cross product of the angular velocity and the position vector:\n",
    "\n",
    "$$\\vec{v}_i = \\vec{\\omega} \\times \\vec{r}_i$$\n",
    "\n",
    "Substituting this into the equation for angular momentum gives:\n",
    "\n",
    "$$\\vec{L} = \\sum_i m_i \\vec{r}_i \\times (\\vec{\\omega} \\times \\vec{r}_i)$$\n",
    "\n",
    "We can use the usual rules for the cross product to rewrite this as:\n",
    "\n",
    "$$\\vec{L} = \\sum_i m_i (\\vec{r}_i \\cdot \\vec{r}_i) \\vec{\\omega} - \\sum_i m_i (\\vec{r}_i \\cdot \\vec{\\omega}) \\vec{r}_i$$\n",
    "\n",
    "This formula can be written in matrix form as:\n",
    "\n",
    "$$\\vec{L} = \\mathbf{I} \\vec{\\omega}$$\n",
    "\n",
    "where $\\mathbf{I}$ is the moment of inertia tensor.  The moment of inertia tensor is a 3x3 matrix that is symmetric and positive definite.  The diagonal elements of the moment of inertia tensor are called the principal moments of inertia.  The principal moments of inertia are the moments of inertia about the principal axes of the body.  The principal axes are the eigenvectors of the moment of inertia tensor.  The eigenvalues of the moment of inertia tensor are the principal moments of inertia.\n",
    "\n",
    "Writing this equation out in components gives:\n",
    "\n",
    "$$\\begin{bmatrix} L_x \\\\ L_y \\\\ L_z \\end{bmatrix} = \\begin{bmatrix} I_{xx} & I_{xy} & I_{xz} \\\\ I_{yx} & I_{yy} & I_{yz} \\\\ I_{zx} & I_{zy} & I_{zz} \\end{bmatrix} \\begin{bmatrix} \\omega_x \\\\ \\omega_y \\\\ \\omega_z \\end{bmatrix}$$\n",
    "\n",
    "where now we have that:\n",
    "\n",
    "$$\\begin{align} I_{xx} &= \\sum_i m_i (y_i^2 + z_i^2) \\\\ I_{xy} &= -\\sum_i m_i x_i y_i \\\\ I_{xz} &= -\\sum_i m_i x_i z_i \\\\ I_{yx} &= -\\sum_i m_i y_i x_i \\\\ I_{yy} &= \\sum_i m_i (x_i^2 + z_i^2) \\\\ I_{yz} &= -\\sum_i m_i y_i z_i \\\\ I_{zx} &= -\\sum_i m_i z_i x_i \\\\ I_{zy} &= -\\sum_i m_i z_i y_i \\\\ I_{zz} &= \\sum_i m_i (x_i^2 + y_i^2) \\end{align}$$\n",
    "\n",
    "Writing these now in integral form gives:\n",
    "\n",
    "$$\\begin{align} I_{xx} &= \\int (y^2 + z^2) \\rho(x,y,z) dV \\\\ I_{xy} &= -\\int x y \\rho(x,y,z) dV \\\\ I_{xz} &= -\\int x z \\rho(x,y,z) dV \\\\ I_{yx} &= -\\int y x \\rho(x,y,z) dV \\\\ I_{yy} &= \\int (x^2 + z^2) \\rho(x,y,z) dV \\\\ I_{yz} &= -\\int y z \\rho(x,y,z) dV \\\\ I_{zx} &= -\\int z x \\rho(x,y,z) dV \\\\ I_{zy} &= -\\int z y \\rho(x,y,z) dV \\\\ I_{zz} &= \\int (x^2 + y^2) \\rho(x,y,z) dV \\end{align}$$\n",
    "\n",
    "where $\\rho(x,y,z)$ is the mass density of the body.  Note that the integrals are over the entire volume of the body."
   ],
   "metadata": {
    "collapsed": false
   },
   "id": "cc222cb834b33b7b"
  },
  {
   "cell_type": "markdown",
   "source": [
    "# Moment of Inertia Tensor for a Sphere\n",
    "\n",
    "Let's now consider the moment of inertia tensor for a sphere.  We will assume that the sphere has uniform density $\\rho$ and radius $R$.  We will also assume that the sphere is rotating about the $z$ axis.  In this case, the moment of inertia tensor is given by:\n",
    "\n",
    "$$\\mathbf{I} = \\begin{bmatrix} I_{xx} & I_{xy} & I_{xz} \\\\ I_{yx} & I_{yy} & I_{yz} \\\\ I_{zx} & I_{zy} & I_{zz} \\end{bmatrix} = \\begin{bmatrix} \\frac{2}{5} m R^2 & 0 & 0 \\\\ 0 & \\frac{2}{5} m R^2 & 0 \\\\ 0 & 0 & \\frac{2}{5} m R^2 \\end{bmatrix}$$\n",
    "\n",
    "where $m$ is the mass of the sphere.  Note that the moment of inertia tensor is diagonal.  This means that the principal axes of the sphere are the same as the coordinate axes.  The principal moments of inertia are all equal to $\\frac{2}{5} m R^2$.\n",
    "\n",
    "Consider evaluating $I_{xx}$.  We have that:\n",
    "\n",
    "$$I_{xx} = \\int (y^2 + z^2) \\rho(x,y,z) dV$$\n",
    "\n",
    "We can write the mass density as:\n",
    "\n",
    "$$\\rho(x,y,z) = \\frac{m}{V}$$\n",
    "\n",
    "where $V$ is the volume of the sphere.  Substituting this into the equation for $I_{xx}$ gives:\n",
    "\n",
    "$$I_{xx} = \\frac{m}{V} \\int (y^2 + z^2) dV$$\n",
    "\n",
    "We can write the volume element in spherical coordinates as:\n",
    "\n",
    "$$dV = r^2 \\sin \\theta dr d\\theta d\\phi$$\n",
    "\n",
    "Substituting this into the equation for $I_{xx}$ gives:\n",
    "\n",
    "$$I_{xx} = \\frac{m}{V} \\int_0^{2\\pi} \\int_0^\\pi \\int_0^R (r^2 \\sin^2 \\theta \\cos^2 \\phi + r^2 \\sin^2 \\theta \\sin^2 \\phi) r^2 \\sin \\theta dr d\\theta d\\phi$$\n",
    "\n",
    "Evaluating this integral gives:\n",
    "\n",
    "$$I_{xx} = \\frac{m}{V} \\int_0^{2\\pi} \\int_0^\\pi \\int_0^R r^4 \\sin^3 \\theta dr d\\theta d\\phi = \\frac{m}{V} \\int_0^{2\\pi} \\int_0^\\pi \\frac{R^5}{5} \\sin^3 \\theta d\\theta d\\phi = \\frac{2}{5} m R^2$$\n",
    "\n",
    "where we have used the fact that:\n",
    "\n",
    "$$\\int_0^{2\\pi} \\int_0^\\pi \\sin^3 \\theta d\\theta d\\phi = 2 \\pi$$\n",
    "\n",
    "and:\n",
    "\n",
    "$$V = \\frac{4}{3} \\pi R^3$$\n",
    "\n",
    "We can use the same method to evaluate the other components of the moment of inertia tensor.  We find that:\n",
    "\n",
    "$$\\mathbf{I} = \\begin{bmatrix} \\frac{2}{5} m R^2 & 0 & 0 \\\\ 0 & \\frac{2}{5} m R^2 & 0 \\\\ 0 & 0 & \\frac{2}{5} m R^2 \\end{bmatrix}$$"
   ],
   "metadata": {
    "collapsed": false
   },
   "id": "d278f6cd16b400bf"
  },
  {
   "cell_type": "markdown",
   "source": [
    "# Moment of Inertia Tensor for a Cube\n",
    "\n",
    "Let's now consider the moment of inertia tensor for a cube.  We will assume that the cube has uniform density $\\rho$ and side length $L$.  We will also assume that the cube is rotating about the $z$ axis.  In this case, the moment of inertia tensor is given by:\n",
    "\n",
    "$$\\mathbf{I} = \\begin{bmatrix} I_{xx} & I_{xy} & I_{xz} \\\\ I_{yx} & I_{yy} & I_{yz} \\\\ I_{zx} & I_{zy} & I_{zz} \\end{bmatrix} = \\begin{bmatrix} \\frac{1}{6} m L^2 & 0 & 0 \\\\ 0 & \\frac{1}{6} m L^2 & 0 \\\\ 0 & 0 & \\frac{1}{6} m L^2 \\end{bmatrix}$$\n",
    "\n",
    "where $m$ is the mass of the cube.  Note that the moment of inertia tensor is diagonal.  This means that the principal axes of the cube are the same as the coordinate axes.  The principal moments of inertia are $\\frac{1}{6} m L^2$, $\\frac{1}{6} m L^2$, and $\\frac{1}{6} m L^2$."
   ],
   "metadata": {
    "collapsed": false
   },
   "id": "65e4e28db72715ab"
  },
  {
   "cell_type": "markdown",
   "source": [
    "# Moment of Inertia Tensor for 2D Rectangle\n",
    "\n",
    "Let's now consider the moment of inertia tensor for a 2D rectangle.  We will assume that the rectangle has uniform density $\\rho$ and side lengths $L_x$ and $L_y$.  We will also assume that the rectangle is rotating about the $z$ axis.  In this case, the moment of inertia tensor is given by:\n",
    "\n",
    "$$\\mathbf{I} = \\begin{bmatrix} I_{xx} & I_{xy} & I_{xz} \\\\ I_{yx} & I_{yy} & I_{yz} \\\\ I_{zx} & I_{zy} & I_{zz} \\end{bmatrix} = \\begin{bmatrix} \\frac{1}{12} m (L_y^2 + L_z^2) & 0 & 0 \\\\ 0 & \\frac{1}{12} m (L_x^2 + L_z^2) & 0 \\\\ 0 & 0 & \\frac{1}{6} m (L_x^2 + L_y^2) \\end{bmatrix}$$\n",
    "\n",
    "where $m$ is the mass of the rectangle.  Note that the moment of inertia tensor is diagonal.  This means that the principal axes of the rectangle are the same as the coordinate axes.  The principal moments of inertia are $\\frac{1}{12} m (L_y^2 + L_z^2)$, $\\frac{1}{12} m (L_x^2 + L_z^2)$, and $\\frac{1}{6} m (L_x^2 + L_y^2)$."
   ],
   "metadata": {
    "collapsed": false
   },
   "id": "218bea63f4c32462"
  },
  {
   "cell_type": "markdown",
   "source": [],
   "metadata": {
    "collapsed": false
   },
   "id": "d461e10c23c5bb64"
  },
  {
   "cell_type": "markdown",
   "source": [
    "# Parallel Axis Theorem\n",
    "\n",
    "The parallel axis theorem is a useful tool for calculating the moment of inertia tensor for a body that is rotating about an axis that does not pass through the center of mass.  The parallel axis theorem states that:\n",
    "\n",
    "$$\\mathbf{I} = \\mathbf{I}_{cm} + m \\mathbf{d} \\mathbf{d}$$\n",
    "\n",
    "where $\\mathbf{I}_{cm}$ is the moment of inertia tensor about the center of mass, $m$ is the mass of the body, and $\\mathbf{d}$ is the vector from the center of mass to the axis of rotation.  Note that $\\mathbf{d} \\mathbf{d}$ is the outer product of $\\mathbf{d}$ with itself.  This is a 3x3 matrix.  The outer product of two vectors is also called the dyadic product.\n",
    "\n",
    "In terms of the moment of inertia tensor, the parallel axis theorem states that:\n",
    "\n",
    "$$I_{ij} = I_{cm,ij} + m (d_k d_k \\delta_{ij} - d_i d_j)$$\n",
    "\n",
    "where $\\delta_{ij}$ is the Kronecker delta.  The Kronecker delta is defined as:\n",
    "\n",
    "$$\\delta_{ij} = \\begin{cases} 1 & i = j \\\\ 0 & i \\ne j \\end{cases}$$"
   ],
   "metadata": {
    "collapsed": false
   },
   "id": "12d3fcdabb4584e4"
  },
  {
   "cell_type": "markdown",
   "source": [
    "# Moment of Inertia Tensor for a Cube through the Diagonal\n",
    "\n",
    "Let's now consider the moment of inertia tensor for a cube that is rotating about a diagonal axis.  We will assume that the cube has uniform density $\\rho$ and side length $L$.  We will also assume that the cube is rotating about the diagonal axis that connects the centers of opposite faces.\n",
    "\n",
    "Using the parallel axis theorem, we can write that:\n",
    "\n",
    "$$\\vec{d} = \\begin{bmatrix} L/2 \\\\ L/2 \\\\ L/2 \\end{bmatrix}$$\n",
    "\n",
    "Then, we have that:\n",
    "\n",
    "$$I_{ij} = I_{cm,ij} + m (d_k d_k \\delta_{ij} - d_i d_j)$$\n",
    "$$ = I_{cm,ij} + m L^2 \\left(\\delta{ij}\\frac{3}{4} - \\frac{1}{4}\\right)$$\n",
    "\n",
    "where we have used the fact that:\n",
    "\n",
    "$$d_k d_k = \\frac{3}{4} L^2$$\n",
    "\n",
    "and:\n",
    "\n",
    "$$d_i d_j = \\frac{1}{4} L^2 \\delta_{ij}$$"
   ],
   "metadata": {
    "collapsed": false
   },
   "id": "793195a7f088403"
  },
  {
   "cell_type": "code",
   "outputs": [],
   "source": [],
   "metadata": {
    "collapsed": false
   },
   "id": "ee0caf013f93a1f0"
  }
 ],
 "metadata": {
  "kernelspec": {
   "display_name": "Python 3",
   "language": "python",
   "name": "python3"
  },
  "language_info": {
   "codemirror_mode": {
    "name": "ipython",
    "version": 2
   },
   "file_extension": ".py",
   "mimetype": "text/x-python",
   "name": "python",
   "nbconvert_exporter": "python",
   "pygments_lexer": "ipython2",
   "version": "2.7.6"
  }
 },
 "nbformat": 4,
 "nbformat_minor": 5
}
