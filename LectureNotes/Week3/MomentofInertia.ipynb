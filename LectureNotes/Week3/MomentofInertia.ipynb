{
 "cells": [
  {
   "cell_type": "markdown",
   "source": [
    "# Moment of Inertia Tensor\n",
    "\n",
    "What is a tensor? A tensor is a mathematical object that describes a linear mapping between two vector spaces. So, for example, a 2x2 matrix is a tensor that maps a 2-dimensional vector to another 2-dimensional vector.  In other words, all of the transformation matrices that we have been using are tensors!\n",
    "\n",
    "In our case, we are interested in the mapping between the angular momentum vector and the angular velocity vector. The tensor that describes this mapping is called the moment of inertia tensor. The moment of inertia tensor is a 3x3 matrix that is symmetric and positive definite.\n",
    "\n",
    "The total angular momentum of a rigid body, about the origin, is given by:\n",
    "\n",
    "$$\\vec{L} = \\sum_i m_i \\vec{r}_i \\times \\vec{v}_i$$\n",
    "\n",
    "where $\\vec{r}_i$ is the position vector of the $i$th particle relative to the origin, and $\\vec{v}_i$ is the velocity vector of the $i$th particle relative to the origin.  We can write the velocity as the cross product of the angular velocity and the position vector:\n",
    "\n",
    "$$\\vec{v}_i = \\vec{\\omega} \\times \\vec{r}_i$$\n",
    "\n",
    "Substituting this into the equation for angular momentum gives:\n",
    "\n",
    "$$\\vec{L} = \\sum_i m_i \\vec{r}_i \\times (\\vec{\\omega} \\times \\vec{r}_i)$$\n",
    "\n",
    "We can use the usual rules for the cross product to rewrite this as:\n",
    "\n",
    "$$\\vec{L} = \\sum_i m_i (\\vec{r}_i \\cdot \\vec{r}_i) \\vec{\\omega} - \\sum_i m_i (\\vec{r}_i \\cdot \\vec{\\omega}) \\vec{r}_i$$\n",
    "\n",
    "This formula can be written in matrix form as:\n",
    "\n",
    "$$\\vec{L} = \\mathbf{I} \\vec{\\omega}$$\n",
    "\n",
    "where $\\mathbf{I}$ is the moment of inertia tensor.  The moment of inertia tensor is a 3x3 matrix that is symmetric and positive definite.  The diagonal elements of the moment of inertia tensor are called the principal moments of inertia.  The principal moments of inertia are the moments of inertia about the principal axes of the body.  The principal axes are the eigenvectors of the moment of inertia tensor.  The eigenvalues of the moment of inertia tensor are the principal moments of inertia.\n",
    "\n",
    "Writing this equation out in components gives:\n",
    "\n",
    "$$\\begin{bmatrix} L_x \\\\ L_y \\\\ L_z \\end{bmatrix} = \\begin{bmatrix} I_{xx} & I_{xy} & I_{xz} \\\\ I_{yx} & I_{yy} & I_{yz} \\\\ I_{zx} & I_{zy} & I_{zz} \\end{bmatrix} \\begin{bmatrix} \\omega_x \\\\ \\omega_y \\\\ \\omega_z \\end{bmatrix}$$\n",
    "\n",
    "where now we have that:\n",
    "\n",
    "$$\\begin{align} I_{xx} &= \\sum_i m_i (y_i^2 + z_i^2) \\\\ I_{xy} &= -\\sum_i m_i x_i y_i \\\\ I_{xz} &= -\\sum_i m_i x_i z_i \\\\ I_{yx} &= -\\sum_i m_i y_i x_i \\\\ I_{yy} &= \\sum_i m_i (x_i^2 + z_i^2) \\\\ I_{yz} &= -\\sum_i m_i y_i z_i \\\\ I_{zx} &= -\\sum_i m_i z_i x_i \\\\ I_{zy} &= -\\sum_i m_i z_i y_i \\\\ I_{zz} &= \\sum_i m_i (x_i^2 + y_i^2) \\end{align}$$\n",
    "\n",
    "Writing these now in integral form gives:\n",
    "\n",
    "$$\\begin{align} I_{xx} &= \\int (y^2 + z^2) \\rho(x,y,z) dV \\\\ I_{xy} &= -\\int x y \\rho(x,y,z) dV \\\\ I_{xz} &= -\\int x z \\rho(x,y,z) dV \\\\ I_{yx} &= -\\int y x \\rho(x,y,z) dV \\\\ I_{yy} &= \\int (x^2 + z^2) \\rho(x,y,z) dV \\\\ I_{yz} &= -\\int y z \\rho(x,y,z) dV \\\\ I_{zx} &= -\\int z x \\rho(x,y,z) dV \\\\ I_{zy} &= -\\int z y \\rho(x,y,z) dV \\\\ I_{zz} &= \\int (x^2 + y^2) \\rho(x,y,z) dV \\end{align}$$\n",
    "\n",
    "where $\\rho(x,y,z)$ is the mass density of the body.  Note that the integrals are over the entire volume of the body."
   ],
   "metadata": {
    "collapsed": false
   },
   "id": "cc222cb834b33b7b"
  },
  {
   "cell_type": "code",
   "outputs": [],
   "source": [],
   "metadata": {
    "collapsed": false
   },
   "id": "134a7e10de21f2eb"
  }
 ],
 "metadata": {
  "kernelspec": {
   "display_name": "Python 3",
   "language": "python",
   "name": "python3"
  },
  "language_info": {
   "codemirror_mode": {
    "name": "ipython",
    "version": 2
   },
   "file_extension": ".py",
   "mimetype": "text/x-python",
   "name": "python",
   "nbconvert_exporter": "python",
   "pygments_lexer": "ipython2",
   "version": "2.7.6"
  }
 },
 "nbformat": 4,
 "nbformat_minor": 5
}
